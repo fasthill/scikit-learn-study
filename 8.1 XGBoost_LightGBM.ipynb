{
 "cells": [
  {
   "cell_type": "markdown",
   "metadata": {},
   "source": [
    "From 이수안 컴퓨터: http://suanlab.com/youtube/ml.html"
   ]
  },
  {
   "cell_type": "markdown",
   "metadata": {
    "id": "b2MQEkXAYQeB"
   },
   "source": [
    "# XGBoost (Extreme Gradient Boosting)\n",
    "\n",
    "* 트리 기반의 앙상블 기법\n",
    "* 분류에 있어서 다른 알고리즘보다 좋은 예측 성능을 보여줌\n",
    "* XGBoost는 GBM 기반이지만, GBM의 단점인 느린 수행 시간과 과적합 규제 부재 등의 문제를 해결\n",
    "* 병렬 학습이 지원되도록 구현되어 병렬 CPU 환경에서 빠르게 학습 가능"
   ]
  },
  {
   "cell_type": "code",
   "execution_count": 15,
   "metadata": {
    "id": "n850KIcAXoQi"
   },
   "outputs": [],
   "source": [
    "from sklearn.datasets import load_iris, load_wine, load_breast_cancer\n",
    "from sklearn.datasets import load_boston, load_diabetes\n",
    "from sklearn.model_selection import train_test_split, cross_val_score, cross_validate\n",
    "from sklearn.metrics import accuracy_score, precision_score, recall_score\n",
    "\n",
    "import xgboost as xgb\n",
    "from xgboost import XGBClassifier, XGBRegressor\n",
    "from xgboost import plot_importance, plot_tree\n",
    "\n",
    "import graphviz\n",
    "import numpy as np\n",
    "import matplotlib.pyplot as plt"
   ]
  },
  {
   "cell_type": "markdown",
   "metadata": {
    "id": "jXwhMELw49SU"
   },
   "source": [
    "## 파이썬 기반 XGBoost"
   ]
  },
  {
   "cell_type": "code",
   "execution_count": 20,
   "metadata": {
    "id": "h7pWRMXYYsWZ"
   },
   "outputs": [],
   "source": [
    "cancer = load_breast_cancer()\n",
    "X_train, X_test, y_train, y_test = train_test_split(cancer.data, cancer.target, \n",
    "                                                    test_size=0.2, random_state=123)\n",
    "dtrain = xgb.DMatrix(data=X_train, label=y_train)\n",
    "dtest = xgb.DMatrix(data=X_test, label=y_test)"
   ]
  },
  {
   "cell_type": "code",
   "execution_count": 21,
   "metadata": {
    "id": "O6R5LCHCaN01"
   },
   "outputs": [],
   "source": [
    "params = {\n",
    "    'max_depth': 3,\n",
    "    'eta': 0.1,\n",
    "    'objective': 'binary:logistic',\n",
    "    'eval_metric': 'logloss',\n",
    "#     'early_stopping': 100\n",
    "} \n",
    "num_rounds = 400"
   ]
  },
  {
   "cell_type": "code",
   "execution_count": 22,
   "metadata": {
    "id": "UIORmNhfad3U"
   },
   "outputs": [
    {
     "name": "stdout",
     "output_type": "stream",
     "text": [
      "[0]\ttrain-logloss:0.60944\teval-logloss:0.61010\n",
      "[1]\ttrain-logloss:0.54047\teval-logloss:0.54074\n",
      "[2]\ttrain-logloss:0.48211\teval-logloss:0.48490\n",
      "[3]\ttrain-logloss:0.43365\teval-logloss:0.43922\n",
      "[4]\ttrain-logloss:0.39072\teval-logloss:0.39791\n",
      "[5]\ttrain-logloss:0.35372\teval-logloss:0.36211\n",
      "[6]\ttrain-logloss:0.32222\teval-logloss:0.32996\n",
      "[7]\ttrain-logloss:0.29292\teval-logloss:0.30179\n",
      "[8]\ttrain-logloss:0.26731\teval-logloss:0.27801\n",
      "[9]\ttrain-logloss:0.24409\teval-logloss:0.25775\n",
      "[10]\ttrain-logloss:0.22517\teval-logloss:0.24037\n",
      "[11]\ttrain-logloss:0.20807\teval-logloss:0.22271\n",
      "[12]\ttrain-logloss:0.19177\teval-logloss:0.20795\n",
      "[13]\ttrain-logloss:0.17746\teval-logloss:0.19531\n",
      "[14]\ttrain-logloss:0.16408\teval-logloss:0.18460\n",
      "[15]\ttrain-logloss:0.15250\teval-logloss:0.17183\n",
      "[16]\ttrain-logloss:0.14198\teval-logloss:0.16152\n",
      "[17]\ttrain-logloss:0.13270\teval-logloss:0.15443\n",
      "[18]\ttrain-logloss:0.12326\teval-logloss:0.14913\n",
      "[19]\ttrain-logloss:0.11591\teval-logloss:0.14175\n",
      "[20]\ttrain-logloss:0.10884\teval-logloss:0.13378\n",
      "[21]\ttrain-logloss:0.10239\teval-logloss:0.12809\n",
      "[22]\ttrain-logloss:0.09642\teval-logloss:0.12310\n",
      "[23]\ttrain-logloss:0.09119\teval-logloss:0.11735\n",
      "[24]\ttrain-logloss:0.08610\teval-logloss:0.11254\n",
      "[25]\ttrain-logloss:0.08099\teval-logloss:0.11103\n",
      "[26]\ttrain-logloss:0.07652\teval-logloss:0.10784\n",
      "[27]\ttrain-logloss:0.07218\teval-logloss:0.10637\n",
      "[28]\ttrain-logloss:0.06852\teval-logloss:0.10329\n",
      "[29]\ttrain-logloss:0.06528\teval-logloss:0.10023\n",
      "[30]\ttrain-logloss:0.06210\teval-logloss:0.09734\n",
      "[31]\ttrain-logloss:0.05907\teval-logloss:0.09495\n",
      "[32]\ttrain-logloss:0.05643\teval-logloss:0.09249\n",
      "[33]\ttrain-logloss:0.05375\teval-logloss:0.09052\n",
      "[34]\ttrain-logloss:0.05139\teval-logloss:0.08892\n",
      "[35]\ttrain-logloss:0.04934\teval-logloss:0.08715\n",
      "[36]\ttrain-logloss:0.04722\teval-logloss:0.08596\n",
      "[37]\ttrain-logloss:0.04532\teval-logloss:0.08400\n",
      "[38]\ttrain-logloss:0.04353\teval-logloss:0.08311\n",
      "[39]\ttrain-logloss:0.04177\teval-logloss:0.08118\n",
      "[40]\ttrain-logloss:0.04024\teval-logloss:0.07966\n",
      "[41]\ttrain-logloss:0.03880\teval-logloss:0.07900\n",
      "[42]\ttrain-logloss:0.03753\teval-logloss:0.07877\n",
      "[43]\ttrain-logloss:0.03627\teval-logloss:0.07849\n",
      "[44]\ttrain-logloss:0.03508\teval-logloss:0.07727\n",
      "[45]\ttrain-logloss:0.03395\teval-logloss:0.07715\n",
      "[46]\ttrain-logloss:0.03276\teval-logloss:0.07628\n",
      "[47]\ttrain-logloss:0.03177\teval-logloss:0.07591\n",
      "[48]\ttrain-logloss:0.03083\teval-logloss:0.07610\n",
      "[49]\ttrain-logloss:0.02967\teval-logloss:0.07658\n",
      "[50]\ttrain-logloss:0.02871\teval-logloss:0.07621\n",
      "[51]\ttrain-logloss:0.02780\teval-logloss:0.07556\n",
      "[52]\ttrain-logloss:0.02694\teval-logloss:0.07539\n",
      "[53]\ttrain-logloss:0.02621\teval-logloss:0.07570\n",
      "[54]\ttrain-logloss:0.02551\teval-logloss:0.07568\n",
      "[55]\ttrain-logloss:0.02483\teval-logloss:0.07537\n",
      "[56]\ttrain-logloss:0.02424\teval-logloss:0.07557\n",
      "[57]\ttrain-logloss:0.02370\teval-logloss:0.07528\n",
      "[58]\ttrain-logloss:0.02305\teval-logloss:0.07551\n",
      "[59]\ttrain-logloss:0.02243\teval-logloss:0.07561\n",
      "[60]\ttrain-logloss:0.02186\teval-logloss:0.07556\n",
      "[61]\ttrain-logloss:0.02135\teval-logloss:0.07534\n",
      "[62]\ttrain-logloss:0.02087\teval-logloss:0.07603\n",
      "[63]\ttrain-logloss:0.02036\teval-logloss:0.07595\n",
      "[64]\ttrain-logloss:0.01988\teval-logloss:0.07646\n",
      "[65]\ttrain-logloss:0.01948\teval-logloss:0.07728\n",
      "[66]\ttrain-logloss:0.01905\teval-logloss:0.07730\n",
      "[67]\ttrain-logloss:0.01865\teval-logloss:0.07799\n",
      "[68]\ttrain-logloss:0.01826\teval-logloss:0.07806\n",
      "[69]\ttrain-logloss:0.01783\teval-logloss:0.07898\n",
      "[70]\ttrain-logloss:0.01752\teval-logloss:0.07841\n",
      "[71]\ttrain-logloss:0.01715\teval-logloss:0.07899\n",
      "[72]\ttrain-logloss:0.01678\teval-logloss:0.07991\n",
      "[73]\ttrain-logloss:0.01651\teval-logloss:0.08006\n",
      "[74]\ttrain-logloss:0.01615\teval-logloss:0.08071\n",
      "[75]\ttrain-logloss:0.01591\teval-logloss:0.08131\n",
      "[76]\ttrain-logloss:0.01563\teval-logloss:0.08158\n",
      "[77]\ttrain-logloss:0.01537\teval-logloss:0.08168\n",
      "[78]\ttrain-logloss:0.01509\teval-logloss:0.08221\n",
      "[79]\ttrain-logloss:0.01477\teval-logloss:0.08291\n",
      "[80]\ttrain-logloss:0.01453\teval-logloss:0.08235\n",
      "[81]\ttrain-logloss:0.01432\teval-logloss:0.08221\n",
      "[82]\ttrain-logloss:0.01413\teval-logloss:0.08198\n",
      "[83]\ttrain-logloss:0.01395\teval-logloss:0.08253\n",
      "[84]\ttrain-logloss:0.01374\teval-logloss:0.08292\n",
      "[85]\ttrain-logloss:0.01350\teval-logloss:0.08297\n",
      "[86]\ttrain-logloss:0.01329\teval-logloss:0.08268\n",
      "[87]\ttrain-logloss:0.01312\teval-logloss:0.08328\n",
      "[88]\ttrain-logloss:0.01295\teval-logloss:0.08334\n",
      "[89]\ttrain-logloss:0.01281\teval-logloss:0.08388\n",
      "[90]\ttrain-logloss:0.01263\teval-logloss:0.08419\n",
      "[91]\ttrain-logloss:0.01246\teval-logloss:0.08369\n",
      "[92]\ttrain-logloss:0.01224\teval-logloss:0.08380\n",
      "[93]\ttrain-logloss:0.01210\teval-logloss:0.08438\n",
      "[94]\ttrain-logloss:0.01196\teval-logloss:0.08443\n",
      "[95]\ttrain-logloss:0.01185\teval-logloss:0.08495\n",
      "[96]\ttrain-logloss:0.01169\teval-logloss:0.08533\n",
      "[97]\ttrain-logloss:0.01150\teval-logloss:0.08500\n",
      "[98]\ttrain-logloss:0.01137\teval-logloss:0.08553\n",
      "[99]\ttrain-logloss:0.01124\teval-logloss:0.08616\n",
      "[100]\ttrain-logloss:0.01114\teval-logloss:0.08635\n",
      "[101]\ttrain-logloss:0.01104\teval-logloss:0.08623\n",
      "[102]\ttrain-logloss:0.01094\teval-logloss:0.08689\n",
      "[103]\ttrain-logloss:0.01078\teval-logloss:0.08685\n",
      "[104]\ttrain-logloss:0.01069\teval-logloss:0.08633\n",
      "[105]\ttrain-logloss:0.01060\teval-logloss:0.08679\n",
      "[106]\ttrain-logloss:0.01051\teval-logloss:0.08744\n",
      "[107]\ttrain-logloss:0.01043\teval-logloss:0.08695\n",
      "[108]\ttrain-logloss:0.01034\teval-logloss:0.08737\n",
      "[109]\ttrain-logloss:0.01023\teval-logloss:0.08796\n",
      "[110]\ttrain-logloss:0.01015\teval-logloss:0.08771\n",
      "[111]\ttrain-logloss:0.01006\teval-logloss:0.08834\n",
      "[112]\ttrain-logloss:0.00995\teval-logloss:0.08863\n",
      "[113]\ttrain-logloss:0.00988\teval-logloss:0.08878\n",
      "[114]\ttrain-logloss:0.00980\teval-logloss:0.08831\n",
      "[115]\ttrain-logloss:0.00973\teval-logloss:0.08874\n",
      "[116]\ttrain-logloss:0.00965\teval-logloss:0.08865\n",
      "[117]\ttrain-logloss:0.00953\teval-logloss:0.08868\n",
      "[118]\ttrain-logloss:0.00945\teval-logloss:0.08930\n",
      "[119]\ttrain-logloss:0.00935\teval-logloss:0.08957\n",
      "[120]\ttrain-logloss:0.00932\teval-logloss:0.08968\n",
      "[121]\ttrain-logloss:0.00925\teval-logloss:0.08924\n",
      "[122]\ttrain-logloss:0.00918\teval-logloss:0.08966\n",
      "[123]\ttrain-logloss:0.00910\teval-logloss:0.09023\n",
      "[124]\ttrain-logloss:0.00903\teval-logloss:0.09082\n",
      "[125]\ttrain-logloss:0.00896\teval-logloss:0.09072\n",
      "[126]\ttrain-logloss:0.00893\teval-logloss:0.09083\n",
      "[127]\ttrain-logloss:0.00882\teval-logloss:0.09090\n",
      "[128]\ttrain-logloss:0.00876\teval-logloss:0.09052\n",
      "[129]\ttrain-logloss:0.00870\teval-logloss:0.09110\n",
      "[130]\ttrain-logloss:0.00865\teval-logloss:0.09069\n",
      "[131]\ttrain-logloss:0.00855\teval-logloss:0.09077\n",
      "[132]\ttrain-logloss:0.00850\teval-logloss:0.09134\n",
      "[133]\ttrain-logloss:0.00844\teval-logloss:0.09097\n",
      "[134]\ttrain-logloss:0.00835\teval-logloss:0.09124\n",
      "[135]\ttrain-logloss:0.00833\teval-logloss:0.09133\n",
      "[136]\ttrain-logloss:0.00826\teval-logloss:0.09125\n",
      "[137]\ttrain-logloss:0.00824\teval-logloss:0.09154\n",
      "[138]\ttrain-logloss:0.00819\teval-logloss:0.09176\n",
      "[139]\ttrain-logloss:0.00814\teval-logloss:0.09140\n",
      "[140]\ttrain-logloss:0.00812\teval-logloss:0.09168\n",
      "[141]\ttrain-logloss:0.00807\teval-logloss:0.09223\n",
      "[142]\ttrain-logloss:0.00801\teval-logloss:0.09277\n",
      "[143]\ttrain-logloss:0.00796\teval-logloss:0.09329\n",
      "[144]\ttrain-logloss:0.00793\teval-logloss:0.09322\n",
      "[145]\ttrain-logloss:0.00788\teval-logloss:0.09315\n",
      "[146]\ttrain-logloss:0.00784\teval-logloss:0.09336\n",
      "[147]\ttrain-logloss:0.00781\teval-logloss:0.09363\n",
      "[148]\ttrain-logloss:0.00777\teval-logloss:0.09328\n",
      "[149]\ttrain-logloss:0.00773\teval-logloss:0.09381\n",
      "[150]\ttrain-logloss:0.00771\teval-logloss:0.09407\n",
      "[151]\ttrain-logloss:0.00769\teval-logloss:0.09417\n",
      "[152]\ttrain-logloss:0.00763\teval-logloss:0.09438\n",
      "[153]\ttrain-logloss:0.00758\teval-logloss:0.09489\n",
      "[154]\ttrain-logloss:0.00755\teval-logloss:0.09527\n",
      "[155]\ttrain-logloss:0.00753\teval-logloss:0.09520\n",
      "[156]\ttrain-logloss:0.00751\teval-logloss:0.09506\n"
     ]
    }
   ],
   "source": [
    "evals = [(dtrain, 'train'), (dtest, 'eval')]\n",
    "xgb_model = xgb.train(params=params, dtrain=dtrain, num_boost_round=num_rounds, \n",
    "                      early_stopping_rounds=100, evals=evals)"
   ]
  },
  {
   "cell_type": "code",
   "execution_count": 23,
   "metadata": {
    "id": "XPgoRb9xawkK"
   },
   "outputs": [
    {
     "name": "stdout",
     "output_type": "stream",
     "text": [
      "[1.    0.999 0.001 0.995 0.001 0.989 0.995 0.998 0.966 0.795]\n"
     ]
    }
   ],
   "source": [
    "predicts = xgb_model.predict(dtest)\n",
    "print(np.round(predicts[:10],3))"
   ]
  },
  {
   "cell_type": "code",
   "execution_count": 24,
   "metadata": {},
   "outputs": [],
   "source": [
    "predicts = [1 if x>0.5 else 0 for x in predicts]"
   ]
  },
  {
   "cell_type": "code",
   "execution_count": 25,
   "metadata": {
    "id": "7TiUc12_a4PU"
   },
   "outputs": [
    {
     "name": "stdout",
     "output_type": "stream",
     "text": [
      "accuracy: 0.9736842105263158\n",
      "precision: 0.972972972972973\n",
      "recall: 0.9863013698630136\n"
     ]
    }
   ],
   "source": [
    "print('accuracy: {}'.format(accuracy_score(y_test, predicts)))\n",
    "print('precision: {}'.format(precision_score(y_test, predicts)))\n",
    "print('recall: {}'.format(recall_score(y_test, predicts)))"
   ]
  },
  {
   "cell_type": "code",
   "execution_count": 26,
   "metadata": {
    "id": "yFkLFUx-bC70"
   },
   "outputs": [
    {
     "data": {
      "text/plain": [
       "<AxesSubplot:title={'center':'Feature importance'}, xlabel='F score', ylabel='Features'>"
      ]
     },
     "execution_count": 26,
     "metadata": {},
     "output_type": "execute_result"
    },
    {
     "data": {
      "image/png": "[encoded data removed]",
      "text/plain": [
       "<Figure size 720x864 with 1 Axes>"
      ]
     },
     "metadata": {
      "needs_background": "light"
     },
     "output_type": "display_data"
    }
   ],
   "source": [
    "fig, ax = plt.subplots(figsize=(10,12))\n",
    "plot_importance(xgb_model, ax=ax) # 중요도를 그림으로 표시"
   ]
  },
  {
   "cell_type": "code",
   "execution_count": 34,
   "metadata": {
    "id": "Jt3QQ8RREF0t"
   },
   "outputs": [
    {
     "data": {
      "image/svg+xml": [
       "<?xml version=\"1.0\" encoding=\"UTF-8\" standalone=\"no\"?>\n",
       "<!DOCTYPE svg PUBLIC \"-//W3C//DTD SVG 1.1//EN\"\n",
       " \"http://www.w3.org/Graphics/SVG/1.1/DTD/svg11.dtd\">\n",
       "<!-- Generated by graphviz version 2.50.0 (20211204.2007)\n",
       " -->\n",
       "<!-- Pages: 1 -->\n",
       "<svg width=\"1378pt\" height=\"305pt\"\n",
       " viewBox=\"0.00 0.00 1378.39 305.00\" xmlns=\"http://www.w3.org/2000/svg\" xmlns:xlink=\"http://www.w3.org/1999/xlink\">\n",
       "<g id=\"graph0\" class=\"graph\" transform=\"scale(1 1) rotate(0) translate(4 301)\">\n",
       "<polygon fill=\"white\" stroke=\"transparent\" points=\"-4,4 -4,-301 1374.39,-301 1374.39,4 -4,4\"/>\n",
       "<!-- 0 -->\n",
       "<g id=\"node1\" class=\"node\">\n",
       "<title>0</title>\n",
       "<ellipse fill=\"none\" stroke=\"black\" cx=\"623.39\" cy=\"-279\" rx=\"69.59\" ry=\"18\"/>\n",
       "<text text-anchor=\"middle\" x=\"623.39\" y=\"-275.3\" font-family=\"Times New Roman,serif\" font-size=\"14.00\">f20&lt;16.7950001</text>\n",
       "</g>\n",
       "<!-- 1 -->\n",
       "<g id=\"node2\" class=\"node\">\n",
       "<title>1</title>\n",
       "<ellipse fill=\"none\" stroke=\"black\" cx=\"452.39\" cy=\"-192\" rx=\"74.19\" ry=\"18\"/>\n",
       "<text text-anchor=\"middle\" x=\"452.39\" y=\"-188.3\" font-family=\"Times New Roman,serif\" font-size=\"14.00\">f27&lt;0.135800004</text>\n",
       "</g>\n",
       "<!-- 0&#45;&gt;1 -->\n",
       "<g id=\"edge1\" class=\"edge\">\n",
       "<title>0&#45;&gt;1</title>\n",
       "<path fill=\"none\" stroke=\"#0000ff\" d=\"M592.82,-262.8C564.88,-248.91 523.35,-228.27 492.7,-213.04\"/>\n",
       "<polygon fill=\"#0000ff\" stroke=\"#0000ff\" points=\"494.08,-209.81 483.57,-208.5 490.96,-216.08 494.08,-209.81\"/>\n",
       "<text text-anchor=\"middle\" x=\"582.89\" y=\"-231.8\" font-family=\"Times New Roman,serif\" font-size=\"14.00\">yes, missing</text>\n",
       "</g>\n",
       "<!-- 2 -->\n",
       "<g id=\"node3\" class=\"node\">\n",
       "<title>2</title>\n",
       "<ellipse fill=\"none\" stroke=\"black\" cx=\"827.39\" cy=\"-192\" rx=\"74.19\" ry=\"18\"/>\n",
       "<text text-anchor=\"middle\" x=\"827.39\" y=\"-188.3\" font-family=\"Times New Roman,serif\" font-size=\"14.00\">f6&lt;0.0721400008</text>\n",
       "</g>\n",
       "<!-- 0&#45;&gt;2 -->\n",
       "<g id=\"edge2\" class=\"edge\">\n",
       "<title>0&#45;&gt;2</title>\n",
       "<path fill=\"none\" stroke=\"#ff0000\" d=\"M658.46,-263.39C692.66,-249.14 744.82,-227.4 782.13,-211.86\"/>\n",
       "<polygon fill=\"#ff0000\" stroke=\"#ff0000\" points=\"783.87,-214.93 791.76,-207.85 781.18,-208.46 783.87,-214.93\"/>\n",
       "<text text-anchor=\"middle\" x=\"745.89\" y=\"-231.8\" font-family=\"Times New Roman,serif\" font-size=\"14.00\">no</text>\n",
       "</g>\n",
       "<!-- 3 -->\n",
       "<g id=\"node4\" class=\"node\">\n",
       "<title>3</title>\n",
       "<ellipse fill=\"none\" stroke=\"black\" cx=\"248.39\" cy=\"-105\" rx=\"65.79\" ry=\"18\"/>\n",
       "<text text-anchor=\"middle\" x=\"248.39\" y=\"-101.3\" font-family=\"Times New Roman,serif\" font-size=\"14.00\">f3&lt;689.849976</text>\n",
       "</g>\n",
       "<!-- 1&#45;&gt;3 -->\n",
       "<g id=\"edge3\" class=\"edge\">\n",
       "<title>1&#45;&gt;3</title>\n",
       "<path fill=\"none\" stroke=\"#0000ff\" d=\"M416.86,-176.19C382.28,-161.79 329.64,-139.85 292.43,-124.35\"/>\n",
       "<polygon fill=\"#0000ff\" stroke=\"#0000ff\" points=\"293.42,-120.97 282.84,-120.35 290.73,-127.43 293.42,-120.97\"/>\n",
       "<text text-anchor=\"middle\" x=\"397.89\" y=\"-144.8\" font-family=\"Times New Roman,serif\" font-size=\"14.00\">yes, missing</text>\n",
       "</g>\n",
       "<!-- 4 -->\n",
       "<g id=\"node5\" class=\"node\">\n",
       "<title>4</title>\n",
       "<ellipse fill=\"none\" stroke=\"black\" cx=\"452.39\" cy=\"-105\" rx=\"69.59\" ry=\"18\"/>\n",
       "<text text-anchor=\"middle\" x=\"452.39\" y=\"-101.3\" font-family=\"Times New Roman,serif\" font-size=\"14.00\">f21&lt;25.6700001</text>\n",
       "</g>\n",
       "<!-- 1&#45;&gt;4 -->\n",
       "<g id=\"edge4\" class=\"edge\">\n",
       "<title>1&#45;&gt;4</title>\n",
       "<path fill=\"none\" stroke=\"#ff0000\" d=\"M452.39,-173.8C452.39,-162.16 452.39,-146.55 452.39,-133.24\"/>\n",
       "<polygon fill=\"#ff0000\" stroke=\"#ff0000\" points=\"455.89,-133.18 452.39,-123.18 448.89,-133.18 455.89,-133.18\"/>\n",
       "<text text-anchor=\"middle\" x=\"459.89\" y=\"-144.8\" font-family=\"Times New Roman,serif\" font-size=\"14.00\">no</text>\n",
       "</g>\n",
       "<!-- 5 -->\n",
       "<g id=\"node10\" class=\"node\">\n",
       "<title>5</title>\n",
       "<ellipse fill=\"none\" stroke=\"black\" cx=\"827.39\" cy=\"-105\" rx=\"65.79\" ry=\"18\"/>\n",
       "<text text-anchor=\"middle\" x=\"827.39\" y=\"-101.3\" font-family=\"Times New Roman,serif\" font-size=\"14.00\">f1&lt;19.8299999</text>\n",
       "</g>\n",
       "<!-- 2&#45;&gt;5 -->\n",
       "<g id=\"edge9\" class=\"edge\">\n",
       "<title>2&#45;&gt;5</title>\n",
       "<path fill=\"none\" stroke=\"#0000ff\" d=\"M827.39,-173.8C827.39,-162.16 827.39,-146.55 827.39,-133.24\"/>\n",
       "<polygon fill=\"#0000ff\" stroke=\"#0000ff\" points=\"830.89,-133.18 827.39,-123.18 823.89,-133.18 830.89,-133.18\"/>\n",
       "<text text-anchor=\"middle\" x=\"861.89\" y=\"-144.8\" font-family=\"Times New Roman,serif\" font-size=\"14.00\">yes, missing</text>\n",
       "</g>\n",
       "<!-- 6 -->\n",
       "<g id=\"node11\" class=\"node\">\n",
       "<title>6</title>\n",
       "<ellipse fill=\"none\" stroke=\"black\" cx=\"1113.39\" cy=\"-105\" rx=\"65.79\" ry=\"18\"/>\n",
       "<text text-anchor=\"middle\" x=\"1113.39\" y=\"-101.3\" font-family=\"Times New Roman,serif\" font-size=\"14.00\">f1&lt;14.3000002</text>\n",
       "</g>\n",
       "<!-- 2&#45;&gt;6 -->\n",
       "<g id=\"edge10\" class=\"edge\">\n",
       "<title>2&#45;&gt;6</title>\n",
       "<path fill=\"none\" stroke=\"#ff0000\" d=\"M872.4,-177.63C923.49,-162.44 1006.74,-137.7 1060.78,-121.64\"/>\n",
       "<polygon fill=\"#ff0000\" stroke=\"#ff0000\" points=\"1061.93,-124.95 1070.52,-118.74 1059.94,-118.24 1061.93,-124.95\"/>\n",
       "<text text-anchor=\"middle\" x=\"995.89\" y=\"-144.8\" font-family=\"Times New Roman,serif\" font-size=\"14.00\">no</text>\n",
       "</g>\n",
       "<!-- 7 -->\n",
       "<g id=\"node6\" class=\"node\">\n",
       "<title>7</title>\n",
       "<ellipse fill=\"none\" stroke=\"black\" cx=\"75.39\" cy=\"-18\" rx=\"75.29\" ry=\"18\"/>\n",
       "<text text-anchor=\"middle\" x=\"75.39\" y=\"-14.3\" font-family=\"Times New Roman,serif\" font-size=\"14.00\">leaf=0.192424238</text>\n",
       "</g>\n",
       "<!-- 3&#45;&gt;7 -->\n",
       "<g id=\"edge5\" class=\"edge\">\n",
       "<title>3&#45;&gt;7</title>\n",
       "<path fill=\"none\" stroke=\"#0000ff\" d=\"M217.08,-89.13C204.15,-82.95 189.03,-75.68 175.39,-69 155.65,-59.33 133.8,-48.43 115.58,-39.28\"/>\n",
       "<polygon fill=\"#0000ff\" stroke=\"#0000ff\" points=\"116.91,-36.04 106.41,-34.67 113.77,-42.29 116.91,-36.04\"/>\n",
       "<text text-anchor=\"middle\" x=\"209.89\" y=\"-57.8\" font-family=\"Times New Roman,serif\" font-size=\"14.00\">yes, missing</text>\n",
       "</g>\n",
       "<!-- 8 -->\n",
       "<g id=\"node7\" class=\"node\">\n",
       "<title>8</title>\n",
       "<ellipse fill=\"none\" stroke=\"black\" cx=\"248.39\" cy=\"-18\" rx=\"79.09\" ry=\"18\"/>\n",
       "<text text-anchor=\"middle\" x=\"248.39\" y=\"-14.3\" font-family=\"Times New Roman,serif\" font-size=\"14.00\">leaf=0.0500000007</text>\n",
       "</g>\n",
       "<!-- 3&#45;&gt;8 -->\n",
       "<g id=\"edge6\" class=\"edge\">\n",
       "<title>3&#45;&gt;8</title>\n",
       "<path fill=\"none\" stroke=\"#ff0000\" d=\"M248.39,-86.8C248.39,-75.16 248.39,-59.55 248.39,-46.24\"/>\n",
       "<polygon fill=\"#ff0000\" stroke=\"#ff0000\" points=\"251.89,-46.18 248.39,-36.18 244.89,-46.18 251.89,-46.18\"/>\n",
       "<text text-anchor=\"middle\" x=\"255.89\" y=\"-57.8\" font-family=\"Times New Roman,serif\" font-size=\"14.00\">no</text>\n",
       "</g>\n",
       "<!-- 9 -->\n",
       "<g id=\"node8\" class=\"node\">\n",
       "<title>9</title>\n",
       "<ellipse fill=\"none\" stroke=\"black\" cx=\"421.39\" cy=\"-18\" rx=\"75.29\" ry=\"18\"/>\n",
       "<text text-anchor=\"middle\" x=\"421.39\" y=\"-14.3\" font-family=\"Times New Roman,serif\" font-size=\"14.00\">leaf=0.100000001</text>\n",
       "</g>\n",
       "<!-- 4&#45;&gt;9 -->\n",
       "<g id=\"edge7\" class=\"edge\">\n",
       "<title>4&#45;&gt;9</title>\n",
       "<path fill=\"none\" stroke=\"#0000ff\" d=\"M446.12,-86.8C441.83,-75.05 436.07,-59.24 431.18,-45.84\"/>\n",
       "<polygon fill=\"#0000ff\" stroke=\"#0000ff\" points=\"434.37,-44.37 427.66,-36.18 427.8,-46.77 434.37,-44.37\"/>\n",
       "<text text-anchor=\"middle\" x=\"473.89\" y=\"-57.8\" font-family=\"Times New Roman,serif\" font-size=\"14.00\">yes, missing</text>\n",
       "</g>\n",
       "<!-- 10 -->\n",
       "<g id=\"node9\" class=\"node\">\n",
       "<title>10</title>\n",
       "<ellipse fill=\"none\" stroke=\"black\" cx=\"592.39\" cy=\"-18\" rx=\"77.99\" ry=\"18\"/>\n",
       "<text text-anchor=\"middle\" x=\"592.39\" y=\"-14.3\" font-family=\"Times New Roman,serif\" font-size=\"14.00\">leaf=&#45;0.138461545</text>\n",
       "</g>\n",
       "<!-- 4&#45;&gt;10 -->\n",
       "<g id=\"edge8\" class=\"edge\">\n",
       "<title>4&#45;&gt;10</title>\n",
       "<path fill=\"none\" stroke=\"#ff0000\" d=\"M479.68,-88.32C489.97,-82.34 501.76,-75.42 512.39,-69 527.6,-59.81 544.29,-49.43 558.47,-40.52\"/>\n",
       "<polygon fill=\"#ff0000\" stroke=\"#ff0000\" points=\"560.34,-43.48 566.94,-35.19 556.61,-37.56 560.34,-43.48\"/>\n",
       "<text text-anchor=\"middle\" x=\"544.89\" y=\"-57.8\" font-family=\"Times New Roman,serif\" font-size=\"14.00\">no</text>\n",
       "</g>\n",
       "<!-- 11 -->\n",
       "<g id=\"node12\" class=\"node\">\n",
       "<title>11</title>\n",
       "<ellipse fill=\"none\" stroke=\"black\" cx=\"763.39\" cy=\"-18\" rx=\"75.29\" ry=\"18\"/>\n",
       "<text text-anchor=\"middle\" x=\"763.39\" y=\"-14.3\" font-family=\"Times New Roman,serif\" font-size=\"14.00\">leaf=0.107692316</text>\n",
       "</g>\n",
       "<!-- 5&#45;&gt;11 -->\n",
       "<g id=\"edge11\" class=\"edge\">\n",
       "<title>5&#45;&gt;11</title>\n",
       "<path fill=\"none\" stroke=\"#0000ff\" d=\"M814.75,-87.21C805.46,-74.87 792.68,-57.89 782.19,-43.97\"/>\n",
       "<polygon fill=\"#0000ff\" stroke=\"#0000ff\" points=\"784.82,-41.64 776.01,-35.76 779.23,-45.85 784.82,-41.64\"/>\n",
       "<text text-anchor=\"middle\" x=\"833.89\" y=\"-57.8\" font-family=\"Times New Roman,serif\" font-size=\"14.00\">yes, missing</text>\n",
       "</g>\n",
       "<!-- 12 -->\n",
       "<g id=\"node13\" class=\"node\">\n",
       "<title>12</title>\n",
       "<ellipse fill=\"none\" stroke=\"black\" cx=\"934.39\" cy=\"-18\" rx=\"77.99\" ry=\"18\"/>\n",
       "<text text-anchor=\"middle\" x=\"934.39\" y=\"-14.3\" font-family=\"Times New Roman,serif\" font-size=\"14.00\">leaf=&#45;0.127272725</text>\n",
       "</g>\n",
       "<!-- 5&#45;&gt;12 -->\n",
       "<g id=\"edge12\" class=\"edge\">\n",
       "<title>5&#45;&gt;12</title>\n",
       "<path fill=\"none\" stroke=\"#ff0000\" d=\"M848.52,-87.69C856.07,-81.83 864.63,-75.14 872.39,-69 883.43,-60.26 895.49,-50.57 906.02,-42.06\"/>\n",
       "<polygon fill=\"#ff0000\" stroke=\"#ff0000\" points=\"908.51,-44.54 914.08,-35.53 904.11,-39.1 908.51,-44.54\"/>\n",
       "<text text-anchor=\"middle\" x=\"897.89\" y=\"-57.8\" font-family=\"Times New Roman,serif\" font-size=\"14.00\">no</text>\n",
       "</g>\n",
       "<!-- 13 -->\n",
       "<g id=\"node14\" class=\"node\">\n",
       "<title>13</title>\n",
       "<ellipse fill=\"none\" stroke=\"black\" cx=\"1113.39\" cy=\"-18\" rx=\"82.59\" ry=\"18\"/>\n",
       "<text text-anchor=\"middle\" x=\"1113.39\" y=\"-14.3\" font-family=\"Times New Roman,serif\" font-size=\"14.00\">leaf=&#45;0.0500000007</text>\n",
       "</g>\n",
       "<!-- 6&#45;&gt;13 -->\n",
       "<g id=\"edge13\" class=\"edge\">\n",
       "<title>6&#45;&gt;13</title>\n",
       "<path fill=\"none\" stroke=\"#0000ff\" d=\"M1113.39,-86.8C1113.39,-75.16 1113.39,-59.55 1113.39,-46.24\"/>\n",
       "<polygon fill=\"#0000ff\" stroke=\"#0000ff\" points=\"1116.89,-46.18 1113.39,-36.18 1109.89,-46.18 1116.89,-46.18\"/>\n",
       "<text text-anchor=\"middle\" x=\"1147.89\" y=\"-57.8\" font-family=\"Times New Roman,serif\" font-size=\"14.00\">yes, missing</text>\n",
       "</g>\n",
       "<!-- 14 -->\n",
       "<g id=\"node15\" class=\"node\">\n",
       "<title>14</title>\n",
       "<ellipse fill=\"none\" stroke=\"black\" cx=\"1292.39\" cy=\"-18\" rx=\"77.99\" ry=\"18\"/>\n",
       "<text text-anchor=\"middle\" x=\"1292.39\" y=\"-14.3\" font-family=\"Times New Roman,serif\" font-size=\"14.00\">leaf=&#45;0.194160581</text>\n",
       "</g>\n",
       "<!-- 6&#45;&gt;14 -->\n",
       "<g id=\"edge14\" class=\"edge\">\n",
       "<title>6&#45;&gt;14</title>\n",
       "<path fill=\"none\" stroke=\"#ff0000\" d=\"M1144.98,-89C1174.4,-75.03 1218.44,-54.12 1250.72,-38.79\"/>\n",
       "<polygon fill=\"#ff0000\" stroke=\"#ff0000\" points=\"1252.38,-41.88 1259.91,-34.42 1249.38,-35.55 1252.38,-41.88\"/>\n",
       "<text text-anchor=\"middle\" x=\"1220.89\" y=\"-57.8\" font-family=\"Times New Roman,serif\" font-size=\"14.00\">no</text>\n",
       "</g>\n",
       "</g>\n",
       "</svg>\n"
      ],
      "text/plain": [
       "<graphviz.sources.Source at 0x242afb95c70>"
      ]
     },
     "execution_count": 34,
     "metadata": {},
     "output_type": "execute_result"
    }
   ],
   "source": [
    "dot_data = xgb.to_graphviz(xgb_model)\n",
    "# graph = graphviz.Source(dot_data)\n",
    "# graph\n",
    "dot_data"
   ]
  },
  {
   "cell_type": "markdown",
   "metadata": {
    "id": "fb9A6q095Yb4"
   },
   "source": [
    "## XGBClassifier"
   ]
  },
  {
   "cell_type": "markdown",
   "metadata": {
    "id": "5yvJdTMvCY6B"
   },
   "source": [
    "### 붓꽃 데이터"
   ]
  },
  {
   "cell_type": "code",
   "execution_count": 45,
   "metadata": {
    "id": "c8lBh-j4CY6C"
   },
   "outputs": [],
   "source": [
    "iris = load_iris()\n",
    "X_train, X_test, y_train, y_test = train_test_split(iris.data, iris.target, \n",
    "                                                    test_size=0.2, random_state=123)"
   ]
  },
  {
   "cell_type": "code",
   "execution_count": 47,
   "metadata": {
    "id": "T4W05ESmCY6F"
   },
   "outputs": [],
   "source": [
    "xgbc = XGBClassifier(n_estimators=400, learning_rate=0.1, max_depth=3, \n",
    "                     use_label_encoder=False, eval_metric='mlogloss')\n",
    "# XGBClssifier will be depreciated. add argument \"use_label_encoder=False\" and \"eval_metric='mlogloss\"\n",
    "xgbc.fit(X_train, y_train)\n",
    "preds = xgbc.predict(X_test)\n",
    "preds_proba = xgbc.predict_proba(X_test)[:, 1]"
   ]
  },
  {
   "cell_type": "code",
   "execution_count": 48,
   "metadata": {
    "id": "-uq_L5tcCY6G"
   },
   "outputs": [
    {
     "name": "stdout",
     "output_type": "stream",
     "text": [
      "avg fit time: 1.1913292407989502 (+/- 0.035227447647099)\n",
      "avg score time: 0.012782621383666991 (+/- 0.0009716928291682615)\n",
      "avg test score: 0.96 (+/- 0.024944382578492935)\n"
     ]
    }
   ],
   "source": [
    "cross_val = cross_validate(estimator=xgbc,\n",
    "                          X=iris.data, y=iris.target,\n",
    "                          cv=5)\n",
    "\n",
    "print('avg fit time: {} (+/- {})'.format(cross_val['fit_time'].mean(), cross_val['fit_time'].std()))\n",
    "print('avg score time: {} (+/- {})'.format(cross_val['score_time'].mean(), cross_val['score_time'].std()))\n",
    "print('avg test score: {} (+/- {})'.format(cross_val['test_score'].mean(), cross_val['test_score'].std()))"
   ]
  },
  {
   "cell_type": "code",
   "execution_count": null,
   "metadata": {
    "id": "ptXwszc_CY6I"
   },
   "outputs": [],
   "source": []
  },
  {
   "cell_type": "code",
   "execution_count": null,
   "metadata": {
    "id": "WRmNwT-nCY6K"
   },
   "outputs": [],
   "source": []
  },
  {
   "cell_type": "markdown",
   "metadata": {
    "id": "R_hjgWknATDx"
   },
   "source": [
    "### 와인 데이터"
   ]
  },
  {
   "cell_type": "code",
   "execution_count": null,
   "metadata": {
    "id": "50bZNVXQATDz"
   },
   "outputs": [],
   "source": []
  },
  {
   "cell_type": "code",
   "execution_count": null,
   "metadata": {
    "id": "D1rAJXR8ATD1"
   },
   "outputs": [],
   "source": []
  },
  {
   "cell_type": "code",
   "execution_count": null,
   "metadata": {
    "id": "CEgFXwpgATD2"
   },
   "outputs": [],
   "source": []
  },
  {
   "cell_type": "code",
   "execution_count": null,
   "metadata": {
    "id": "LKMSW_I4ATD5"
   },
   "outputs": [],
   "source": []
  },
  {
   "cell_type": "code",
   "execution_count": null,
   "metadata": {
    "id": "T85IBTAbATD8"
   },
   "outputs": [],
   "source": []
  },
  {
   "cell_type": "markdown",
   "metadata": {
    "id": "OAQnG2YlAPSH"
   },
   "source": [
    "### 유방암 데이터"
   ]
  },
  {
   "cell_type": "code",
   "execution_count": null,
   "metadata": {
    "id": "2hORYR5TAKku"
   },
   "outputs": [],
   "source": []
  },
  {
   "cell_type": "code",
   "execution_count": null,
   "metadata": {
    "id": "l3wMjBWkjdC6"
   },
   "outputs": [],
   "source": []
  },
  {
   "cell_type": "code",
   "execution_count": null,
   "metadata": {
    "id": "6iAesAuBmF4k"
   },
   "outputs": [],
   "source": []
  },
  {
   "cell_type": "code",
   "execution_count": null,
   "metadata": {
    "id": "8RgZ7XDAmLSS"
   },
   "outputs": [],
   "source": []
  },
  {
   "cell_type": "code",
   "execution_count": null,
   "metadata": {
    "id": "ToZDiPL8oybC"
   },
   "outputs": [],
   "source": []
  },
  {
   "cell_type": "markdown",
   "metadata": {
    "id": "yVQpNrAGGBNM"
   },
   "source": [
    "## XGBRegressor"
   ]
  },
  {
   "cell_type": "markdown",
   "metadata": {
    "id": "RCNOO75zC-XX"
   },
   "source": [
    "### 보스턴 데이터"
   ]
  },
  {
   "cell_type": "code",
   "execution_count": null,
   "metadata": {
    "id": "l0R69NIsC-XY"
   },
   "outputs": [],
   "source": []
  },
  {
   "cell_type": "code",
   "execution_count": null,
   "metadata": {
    "id": "ssrKdEwJC-Xa"
   },
   "outputs": [],
   "source": []
  },
  {
   "cell_type": "code",
   "execution_count": null,
   "metadata": {
    "id": "79rbk1T1C-Xb"
   },
   "outputs": [],
   "source": []
  },
  {
   "cell_type": "code",
   "execution_count": null,
   "metadata": {
    "id": "sYJjTPpDC-Xd"
   },
   "outputs": [],
   "source": []
  },
  {
   "cell_type": "code",
   "execution_count": null,
   "metadata": {
    "id": "8MOejcB5C-Xg"
   },
   "outputs": [],
   "source": []
  },
  {
   "cell_type": "markdown",
   "metadata": {
    "id": "i8wuvOe_D72P"
   },
   "source": [
    "### 당뇨병 데이터"
   ]
  },
  {
   "cell_type": "code",
   "execution_count": null,
   "metadata": {
    "id": "g55-YhPnD72Q"
   },
   "outputs": [],
   "source": []
  },
  {
   "cell_type": "code",
   "execution_count": null,
   "metadata": {
    "id": "xyOaD5KxD72S"
   },
   "outputs": [],
   "source": []
  },
  {
   "cell_type": "code",
   "execution_count": null,
   "metadata": {
    "id": "Z8PdxysrD72U"
   },
   "outputs": [],
   "source": []
  },
  {
   "cell_type": "code",
   "execution_count": null,
   "metadata": {
    "id": "yKWo3rnBD72W"
   },
   "outputs": [],
   "source": []
  },
  {
   "cell_type": "code",
   "execution_count": null,
   "metadata": {
    "id": "52BiJosOD72Y"
   },
   "outputs": [],
   "source": []
  },
  {
   "cell_type": "markdown",
   "metadata": {
    "id": "DgakqpdRpLFP"
   },
   "source": [
    "# LightGBM\n",
    "\n",
    "* 빠른 학습과 예측 시간\n",
    "* 더 적은 메모리 사용\n",
    "* 범주형 특징의 자동 변환과 최적 분할\n",
    "* 작은 데이터 세트에 사용하는 것은 비추천. \n",
    "  -- 행수 제한은 없지만 10,000 이상의 데이터에 사용하는 것을 권유\n",
    "* overfitting에 민감, 적은 데이터에 대해서 과적합하기 쉬움"
   ]
  },
  {
   "cell_type": "code",
   "execution_count": null,
   "metadata": {
    "id": "X748DnR7qDJ3"
   },
   "outputs": [],
   "source": []
  },
  {
   "cell_type": "markdown",
   "metadata": {
    "id": "AqE9dLmsGGKM"
   },
   "source": [
    "## LGBMClassifier"
   ]
  },
  {
   "cell_type": "markdown",
   "metadata": {
    "id": "ZH9nZcuHEqPc"
   },
   "source": [
    "### 붓꽃 데이터"
   ]
  },
  {
   "cell_type": "code",
   "execution_count": null,
   "metadata": {
    "id": "E_MXg8crEtN-"
   },
   "outputs": [],
   "source": []
  },
  {
   "cell_type": "code",
   "execution_count": null,
   "metadata": {
    "id": "X1DA3cO0p0i5"
   },
   "outputs": [],
   "source": []
  },
  {
   "cell_type": "code",
   "execution_count": null,
   "metadata": {
    "id": "Tn0SES1FqBCZ"
   },
   "outputs": [],
   "source": []
  },
  {
   "cell_type": "code",
   "execution_count": null,
   "metadata": {
    "id": "uhldxyH4Hl_9"
   },
   "outputs": [],
   "source": []
  },
  {
   "cell_type": "code",
   "execution_count": null,
   "metadata": {
    "id": "VCGXK8AnqoAB"
   },
   "outputs": [],
   "source": []
  },
  {
   "cell_type": "code",
   "execution_count": null,
   "metadata": {
    "id": "U-Y-_EWWHQ9X"
   },
   "outputs": [],
   "source": []
  },
  {
   "cell_type": "markdown",
   "metadata": {
    "id": "DLyeGK3mFIjx"
   },
   "source": [
    "### 와인 데이터"
   ]
  },
  {
   "cell_type": "code",
   "execution_count": null,
   "metadata": {
    "id": "ZxB5JqX_FIjy"
   },
   "outputs": [],
   "source": []
  },
  {
   "cell_type": "code",
   "execution_count": null,
   "metadata": {
    "id": "Rw5Sn61yFIj1"
   },
   "outputs": [],
   "source": []
  },
  {
   "cell_type": "code",
   "execution_count": null,
   "metadata": {
    "id": "BWmzHX52FIj5"
   },
   "outputs": [],
   "source": []
  },
  {
   "cell_type": "code",
   "execution_count": null,
   "metadata": {
    "id": "7VvFrrdLHosH"
   },
   "outputs": [],
   "source": []
  },
  {
   "cell_type": "code",
   "execution_count": null,
   "metadata": {
    "id": "iEYCO6YqHosJ"
   },
   "outputs": [],
   "source": []
  },
  {
   "cell_type": "code",
   "execution_count": null,
   "metadata": {
    "id": "c4jcOj36HosN"
   },
   "outputs": [],
   "source": []
  },
  {
   "cell_type": "markdown",
   "metadata": {
    "id": "VkjHBONbGKtA"
   },
   "source": [
    "### 유방암 데이터"
   ]
  },
  {
   "cell_type": "code",
   "execution_count": null,
   "metadata": {
    "id": "xjZVW9-AGKtA"
   },
   "outputs": [],
   "source": []
  },
  {
   "cell_type": "code",
   "execution_count": null,
   "metadata": {
    "id": "QBMmVoN5GKtD"
   },
   "outputs": [],
   "source": []
  },
  {
   "cell_type": "code",
   "execution_count": null,
   "metadata": {
    "id": "Em3ZfXvgGKtF"
   },
   "outputs": [],
   "source": []
  },
  {
   "cell_type": "code",
   "execution_count": null,
   "metadata": {
    "id": "mujd6NeHHwuO"
   },
   "outputs": [],
   "source": []
  },
  {
   "cell_type": "code",
   "execution_count": null,
   "metadata": {
    "id": "jtjO-UdVHwuQ"
   },
   "outputs": [],
   "source": []
  },
  {
   "cell_type": "code",
   "execution_count": null,
   "metadata": {
    "id": "SgsODngmHwuR"
   },
   "outputs": [],
   "source": []
  },
  {
   "cell_type": "markdown",
   "metadata": {
    "id": "XzhtANF7IW_4"
   },
   "source": [
    "## LGBMRegressor"
   ]
  },
  {
   "cell_type": "markdown",
   "metadata": {
    "id": "yDKiW0rTIXO7"
   },
   "source": [
    "### 보스턴 데이터"
   ]
  },
  {
   "cell_type": "code",
   "execution_count": null,
   "metadata": {
    "id": "_I65EVLmIXO8"
   },
   "outputs": [],
   "source": []
  },
  {
   "cell_type": "code",
   "execution_count": null,
   "metadata": {
    "id": "uM7vYiIfIXO-"
   },
   "outputs": [],
   "source": []
  },
  {
   "cell_type": "code",
   "execution_count": null,
   "metadata": {
    "id": "aebfFxq6IXO_"
   },
   "outputs": [],
   "source": []
  },
  {
   "cell_type": "code",
   "execution_count": null,
   "metadata": {
    "id": "iPS_Wa5aIXPB"
   },
   "outputs": [],
   "source": []
  },
  {
   "cell_type": "code",
   "execution_count": null,
   "metadata": {
    "id": "BjHLLFU8IXPC"
   },
   "outputs": [],
   "source": []
  },
  {
   "cell_type": "code",
   "execution_count": null,
   "metadata": {
    "id": "zAa8ZbqyIXPE"
   },
   "outputs": [],
   "source": []
  },
  {
   "cell_type": "markdown",
   "metadata": {
    "id": "ZlvG0d0vJJ_s"
   },
   "source": [
    "### 당뇨병 데이터"
   ]
  },
  {
   "cell_type": "code",
   "execution_count": null,
   "metadata": {
    "id": "fZbImJF_JJ_v"
   },
   "outputs": [],
   "source": []
  },
  {
   "cell_type": "code",
   "execution_count": null,
   "metadata": {
    "id": "9ddmY3LcJJ_5"
   },
   "outputs": [],
   "source": []
  },
  {
   "cell_type": "code",
   "execution_count": null,
   "metadata": {
    "id": "8T29A7YHJKAB"
   },
   "outputs": [],
   "source": []
  },
  {
   "cell_type": "code",
   "execution_count": null,
   "metadata": {
    "id": "MLwNP0rSJKAI"
   },
   "outputs": [],
   "source": []
  },
  {
   "cell_type": "code",
   "execution_count": null,
   "metadata": {
    "id": "Ciuto6e1JKAP"
   },
   "outputs": [],
   "source": []
  },
  {
   "cell_type": "code",
   "execution_count": null,
   "metadata": {
    "id": "QBt490ZPJKAW"
   },
   "outputs": [],
   "source": []
  }
 ],
 "metadata": {
  "colab": {
   "collapsed_sections": [],
   "name": "_9.1 XGBoost, LightGBM.ipynb",
   "provenance": [],
   "toc_visible": true
  },
  "kernelspec": {
   "display_name": "Python 3 (ipykernel)",
   "language": "python",
   "name": "python3"
  },
  "language_info": {
   "codemirror_mode": {
    "name": "ipython",
    "version": 3
   },
   "file_extension": ".py",
   "mimetype": "text/x-python",
   "name": "python",
   "nbconvert_exporter": "python",
   "pygments_lexer": "ipython3",
   "version": "3.9.1"
  }
 },
 "nbformat": 4,
 "nbformat_minor": 1
}
