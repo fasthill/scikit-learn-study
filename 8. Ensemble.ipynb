{
 "cells": [
  {
   "cell_type": "markdown",
   "metadata": {},
   "source": [
    "From 이수안 컴퓨터: http://suanlab.com/youtube/ml.html"
   ]
  },
  {
   "cell_type": "markdown",
   "metadata": {
    "id": "b2MQEkXAYQeB"
   },
   "source": [
    "# 앙상블(Ensemble)\n",
    "\n",
    "* 일반화와 강건성(Robustness)을 향상시키기 위해 여러 모델의 예측 값을 결합하는 방법\n",
    "* 앙상블에는 크게 두가지 종류가 존재\n",
    "  * 평균 방법\n",
    "    * 여러개의 추정값을 독립적으로 구한뒤 평균을 취함\n",
    "    * 결합 추정값은 분산이 줄어들기 때문에 단일 추정값보다 좋은 성능을 보임\n",
    "  * 부스팅 방법\n",
    "    * 순차적으로 모델 생성\n",
    "    * 결합된 모델의 편향을 감소 시키기 위해 노력\n",
    "    * 부스팅 방법의 목표는 여러개의 약한 모델들을 결합해 하나의 강력한 앙상블 모델을 구축하는 것"
   ]
  },
  {
   "cell_type": "markdown",
   "metadata": {
    "id": "nT_iMqd0do5N"
   },
   "source": [
    "## Bagging meta-estimator\n",
    "\n",
    "* bagging은 bootstrap aggregating의 줄임말\n",
    "* 원래 훈련 데이터셋의 일부를 사용해 여러 모델을 훈련\n",
    "* 각각의 결과를 결합해 최종 결과를 생성\n",
    "* 분산을 줄이고 과적합을 막음\n",
    "* 강력하고 복잡한 모델에서 잘 동작"
   ]
  },
  {
   "cell_type": "code",
   "execution_count": 92,
   "metadata": {
    "id": "DeBq-DEl4Mxc"
   },
   "outputs": [],
   "source": [
    "import numpy as np\n",
    "import pandas as pd\n",
    "import matplotlib.pyplot as plt\n",
    "import multiprocessing\n",
    "plt.style.use(['seaborn-whitegrid'])\n",
    "from matplotlib.colors import ListedColormap\n",
    "\n",
    "from sklearn.datasets import load_iris, load_wine, load_breast_cancer, load_boston, load_diabetes\n",
    "from sklearn.preprocessing import StandardScaler\n",
    "from sklearn.pipeline import make_pipeline\n",
    "from sklearn.model_selection import train_test_split, cross_val_score, cross_validate\n",
    "\n",
    "from sklearn.ensemble import BaggingClassifier, BaggingRegressor\n",
    "from sklearn.ensemble import RandomForestClassifier, RandomForestRegressor\n",
    "from sklearn.ensemble import ExtraTreesClassifier, ExtraTreesRegressor\n",
    "from sklearn.neighbors import KNeighborsClassifier, KNeighborsRegressor\n",
    "from sklearn.svm import SVC, SVR\n",
    "from sklearn.tree import DecisionTreeClassifier, DecisionTreeRegressor"
   ]
  },
  {
   "cell_type": "code",
   "execution_count": 2,
   "metadata": {},
   "outputs": [],
   "source": [
    "seed = 2022\n",
    "np.random.seed(seed)"
   ]
  },
  {
   "cell_type": "markdown",
   "metadata": {
    "id": "bnC_CfiDf3kC"
   },
   "source": [
    "### Bagging을 사용한 분류"
   ]
  },
  {
   "cell_type": "markdown",
   "metadata": {
    "id": "yw2FY84r4zQR"
   },
   "source": [
    "#### 데이터셋 불러오기"
   ]
  },
  {
   "cell_type": "code",
   "execution_count": 3,
   "metadata": {
    "id": "6DlynlPmf-3Y"
   },
   "outputs": [],
   "source": [
    "iris = load_iris()\n",
    "wine = load_wine()\n",
    "cancer = load_breast_cancer()"
   ]
  },
  {
   "cell_type": "markdown",
   "metadata": {
    "id": "9XzfsGdL4_YF"
   },
   "source": [
    "#### KNN"
   ]
  },
  {
   "cell_type": "markdown",
   "metadata": {
    "id": "h5TYJLtQ8k70"
   },
   "source": [
    "##### 붓꽃 데이터"
   ]
  },
  {
   "cell_type": "code",
   "execution_count": 4,
   "metadata": {
    "id": "vqMhwq26gIl9"
   },
   "outputs": [],
   "source": [
    "base_model = make_pipeline(StandardScaler(),\n",
    "                          KNeighborsClassifier())\n",
    "\n",
    "bagging_model = BaggingClassifier(base_model,\n",
    "                                  n_estimators=10,\n",
    "                                  max_samples=0.5, # 50% 사용\n",
    "                                  max_features=0.5, # 50% 사용\n",
    "                                 )"
   ]
  },
  {
   "cell_type": "code",
   "execution_count": 5,
   "metadata": {},
   "outputs": [
    {
     "name": "stdout",
     "output_type": "stream",
     "text": [
      "avg fit time: 0.0027982711791992186 (+/- 0.000399685503331846)\n",
      "avg score time: 0.004197359085083008 (+/- 0.0007480108495443122)\n",
      "avg test score: 0.96 (+/- 0.024944382578492935)\n"
     ]
    }
   ],
   "source": [
    "cross_val = cross_validate(estimator=base_model,\n",
    "               X=iris.data, y=iris.target,\n",
    "               cv=5,)\n",
    "\n",
    "print('avg fit time: {} (+/- {})'.format(cross_val['fit_time'].mean(), cross_val['fit_time'].std()))\n",
    "print('avg score time: {} (+/- {})'.format(cross_val['score_time'].mean(), cross_val['score_time'].std()))\n",
    "print('avg test score: {} (+/- {})'.format(cross_val['test_score'].mean(), cross_val['test_score'].std()))"
   ]
  },
  {
   "cell_type": "code",
   "execution_count": 6,
   "metadata": {
    "colab": {
     "base_uri": "https://localhost:8080/",
     "height": 69
    },
    "id": "m-fGDZoD52eY",
    "outputId": "d4567e74-e3ee-4ca6-a8e2-7d3d00233931"
   },
   "outputs": [
    {
     "name": "stdout",
     "output_type": "stream",
     "text": [
      "avg fit time: 0.045973348617553714 (+/- 0.006288979576414651)\n",
      "avg score time: 0.018190670013427734 (+/- 0.0039673361935450464)\n",
      "avg test score: 0.9533333333333334 (+/- 0.02666666666666666)\n"
     ]
    }
   ],
   "source": [
    "cross_val = cross_validate(estimator=bagging_model,\n",
    "               X=iris.data, y=iris.target,\n",
    "               cv=5,)\n",
    "\n",
    "print('avg fit time: {} (+/- {})'.format(cross_val['fit_time'].mean(), cross_val['fit_time'].std()))\n",
    "print('avg score time: {} (+/- {})'.format(cross_val['score_time'].mean(), cross_val['score_time'].std()))\n",
    "print('avg test score: {} (+/- {})'.format(cross_val['test_score'].mean(), cross_val['test_score'].std()))"
   ]
  },
  {
   "cell_type": "markdown",
   "metadata": {
    "id": "aake5r8-_FLh"
   },
   "source": [
    "##### 와인 데이터"
   ]
  },
  {
   "cell_type": "code",
   "execution_count": 7,
   "metadata": {
    "id": "kSNvIhxp_FLl"
   },
   "outputs": [],
   "source": [
    "base_model = make_pipeline(StandardScaler(),\n",
    "                          KNeighborsClassifier())\n",
    "\n",
    "bagging_model = BaggingClassifier(base_model,\n",
    "                                  n_estimators=10,\n",
    "                                  max_samples=0.5, # 50% 사용\n",
    "                                  max_features=0.5, # 50% 사용\n",
    "                                 )"
   ]
  },
  {
   "cell_type": "code",
   "execution_count": 8,
   "metadata": {
    "colab": {
     "base_uri": "https://localhost:8080/",
     "height": 69
    },
    "id": "_gyzWbDi_FLt",
    "outputId": "a2276c69-32e5-41ee-b811-aebd9c7d9fae"
   },
   "outputs": [
    {
     "name": "stdout",
     "output_type": "stream",
     "text": [
      "avg fit time: 0.002997875213623047 (+/- 0.0008938294024281691)\n",
      "avg score time: 0.005996799468994141 (+/- 0.002189817485468174)\n",
      "avg test score: 0.9493650793650794 (+/- 0.037910929811115976)\n"
     ]
    }
   ],
   "source": [
    "cross_val = cross_validate(estimator=base_model,\n",
    "               X=wine.data, y=wine.target,\n",
    "               cv=5,)\n",
    "\n",
    "print('avg fit time: {} (+/- {})'.format(cross_val['fit_time'].mean(), cross_val['fit_time'].std()))\n",
    "print('avg score time: {} (+/- {})'.format(cross_val['score_time'].mean(), cross_val['score_time'].std()))\n",
    "print('avg test score: {} (+/- {})'.format(cross_val['test_score'].mean(), cross_val['test_score'].std()))"
   ]
  },
  {
   "cell_type": "code",
   "execution_count": 9,
   "metadata": {
    "colab": {
     "base_uri": "https://localhost:8080/",
     "height": 69
    },
    "id": "omJWcpZ0_FLx",
    "outputId": "db143ca1-1485-4d28-fb5b-19c2859435f1"
   },
   "outputs": [
    {
     "name": "stdout",
     "output_type": "stream",
     "text": [
      "avg fit time: 0.04037766456604004 (+/- 0.0013692416933828466)\n",
      "avg score time: 0.01559147834777832 (+/- 0.0004980311220686654)\n",
      "avg test score: 0.9607936507936508 (+/- 0.022468028291073656)\n"
     ]
    }
   ],
   "source": [
    "cross_val = cross_validate(estimator=bagging_model,\n",
    "               X=wine.data, y=wine.target,\n",
    "               cv=5,)\n",
    "\n",
    "print('avg fit time: {} (+/- {})'.format(cross_val['fit_time'].mean(), cross_val['fit_time'].std()))\n",
    "print('avg score time: {} (+/- {})'.format(cross_val['score_time'].mean(), cross_val['score_time'].std()))\n",
    "print('avg test score: {} (+/- {})'.format(cross_val['test_score'].mean(), cross_val['test_score'].std()))"
   ]
  },
  {
   "cell_type": "markdown",
   "metadata": {
    "id": "iPKP6KIy8nso"
   },
   "source": [
    "##### 유방암 데이터"
   ]
  },
  {
   "cell_type": "code",
   "execution_count": 10,
   "metadata": {
    "id": "ehkY0oDU8piY"
   },
   "outputs": [],
   "source": [
    "base_model = make_pipeline(StandardScaler(),\n",
    "                          KNeighborsClassifier())\n",
    "\n",
    "bagging_model = BaggingClassifier(base_model,\n",
    "                                  n_estimators=10,\n",
    "                                  max_samples=0.5, # 50% 사용\n",
    "                                  max_features=0.5, # 50% 사용\n",
    "                                 )"
   ]
  },
  {
   "cell_type": "code",
   "execution_count": 11,
   "metadata": {
    "colab": {
     "base_uri": "https://localhost:8080/",
     "height": 69
    },
    "id": "3RKRD3sN9Z0k",
    "outputId": "0bb8c1db-a9f7-490e-8568-c50de5d03293"
   },
   "outputs": [
    {
     "name": "stdout",
     "output_type": "stream",
     "text": [
      "avg fit time: 0.0029982566833496095 (+/- 0.0006321835506688758)\n",
      "avg score time: 0.010938167572021484 (+/- 0.0019922017821457113)\n",
      "avg test score: 0.9648501785437045 (+/- 0.009609970350036127)\n"
     ]
    }
   ],
   "source": [
    "cross_val = cross_validate(estimator=base_model,\n",
    "               X=cancer.data, y=cancer.target,\n",
    "               cv=5,)\n",
    "\n",
    "print('avg fit time: {} (+/- {})'.format(cross_val['fit_time'].mean(), cross_val['fit_time'].std()))\n",
    "print('avg score time: {} (+/- {})'.format(cross_val['score_time'].mean(), cross_val['score_time'].std()))\n",
    "print('avg test score: {} (+/- {})'.format(cross_val['test_score'].mean(), cross_val['test_score'].std()))"
   ]
  },
  {
   "cell_type": "code",
   "execution_count": 12,
   "metadata": {
    "colab": {
     "base_uri": "https://localhost:8080/",
     "height": 69
    },
    "id": "xcNn5ihb9etn",
    "outputId": "8988ae57-aabc-4d1e-ff5c-201f6e6440ec"
   },
   "outputs": [
    {
     "name": "stdout",
     "output_type": "stream",
     "text": [
      "avg fit time: 0.04857292175292969 (+/- 0.0004883559503262607)\n",
      "avg score time: 0.031181144714355468 (+/- 0.0009818022942266356)\n",
      "avg test score: 0.9630957925787922 (+/- 0.010219838955441114)\n"
     ]
    }
   ],
   "source": [
    "cross_val = cross_validate(estimator=bagging_model,\n",
    "               X=cancer.data, y=cancer.target,\n",
    "               cv=5,)\n",
    "\n",
    "print('avg fit time: {} (+/- {})'.format(cross_val['fit_time'].mean(), cross_val['fit_time'].std()))\n",
    "print('avg score time: {} (+/- {})'.format(cross_val['score_time'].mean(), cross_val['score_time'].std()))\n",
    "print('avg test score: {} (+/- {})'.format(cross_val['test_score'].mean(), cross_val['test_score'].std()))"
   ]
  },
  {
   "cell_type": "markdown",
   "metadata": {
    "id": "c6cXnxEZ90NR"
   },
   "source": [
    "#### SVC"
   ]
  },
  {
   "cell_type": "markdown",
   "metadata": {
    "id": "yFolvlY393Pv"
   },
   "source": [
    "##### 붓꽃 데이터"
   ]
  },
  {
   "cell_type": "code",
   "execution_count": 13,
   "metadata": {
    "id": "p8sUZEe798Wn"
   },
   "outputs": [],
   "source": [
    "base_model = make_pipeline(StandardScaler(),\n",
    "                          SVC())\n",
    "\n",
    "bagging_model = BaggingClassifier(base_model,\n",
    "                                  n_estimators=10,\n",
    "                                  max_samples=0.5, # 50% 사용\n",
    "                                  max_features=0.5, # 50% 사용\n",
    "                                 )"
   ]
  },
  {
   "cell_type": "code",
   "execution_count": 14,
   "metadata": {
    "colab": {
     "base_uri": "https://localhost:8080/",
     "height": 69
    },
    "id": "OsPUpJp19_rt",
    "outputId": "7f90d957-df48-4811-fea2-16350e3549ca"
   },
   "outputs": [
    {
     "name": "stdout",
     "output_type": "stream",
     "text": [
      "avg fit time: 0.0035935401916503905 (+/- 0.0007915467756286922)\n",
      "avg score time: 0.0011992931365966796 (+/- 0.0003994467293459781)\n",
      "avg test score: 0.9666666666666666 (+/- 0.02108185106778919)\n"
     ]
    }
   ],
   "source": [
    "cross_val = cross_validate(estimator=base_model,\n",
    "               X=iris.data, y=iris.target,\n",
    "               cv=5,)\n",
    "\n",
    "print('avg fit time: {} (+/- {})'.format(cross_val['fit_time'].mean(), cross_val['fit_time'].std()))\n",
    "print('avg score time: {} (+/- {})'.format(cross_val['score_time'].mean(), cross_val['score_time'].std()))\n",
    "print('avg test score: {} (+/- {})'.format(cross_val['test_score'].mean(), cross_val['test_score'].std()))"
   ]
  },
  {
   "cell_type": "code",
   "execution_count": 15,
   "metadata": {
    "colab": {
     "base_uri": "https://localhost:8080/",
     "height": 69
    },
    "id": "3pynPIPD-FtO",
    "outputId": "25f9ba02-7456-4727-ed4d-fcc6b3cfa025"
   },
   "outputs": [
    {
     "name": "stdout",
     "output_type": "stream",
     "text": [
      "avg fit time: 0.053978776931762694 (+/- 0.0014239682885157704)\n",
      "avg score time: 0.008185100555419923 (+/- 0.0003928060927904803)\n",
      "avg test score: 0.9399999999999998 (+/- 0.024944382578492935)\n"
     ]
    }
   ],
   "source": [
    "cross_val = cross_validate(estimator=bagging_model,\n",
    "               X=iris.data, y=iris.target,\n",
    "               cv=5,)\n",
    "\n",
    "print('avg fit time: {} (+/- {})'.format(cross_val['fit_time'].mean(), cross_val['fit_time'].std()))\n",
    "print('avg score time: {} (+/- {})'.format(cross_val['score_time'].mean(), cross_val['score_time'].std()))\n",
    "print('avg test score: {} (+/- {})'.format(cross_val['test_score'].mean(), cross_val['test_score'].std()))"
   ]
  },
  {
   "cell_type": "code",
   "execution_count": 16,
   "metadata": {},
   "outputs": [
    {
     "data": {
      "text/plain": [
       "dict_keys(['fit_time', 'score_time', 'test_score'])"
      ]
     },
     "execution_count": 16,
     "metadata": {},
     "output_type": "execute_result"
    }
   ],
   "source": [
    "cross_val.keys()"
   ]
  },
  {
   "cell_type": "markdown",
   "metadata": {
    "id": "BAVcL_DG_HgP"
   },
   "source": [
    "##### 와인 데이터"
   ]
  },
  {
   "cell_type": "code",
   "execution_count": 17,
   "metadata": {
    "id": "p8sUZEe798Wn"
   },
   "outputs": [],
   "source": [
    "base_model = make_pipeline(StandardScaler(),\n",
    "                          SVC())\n",
    "\n",
    "bagging_model = BaggingClassifier(base_model,\n",
    "                                  n_estimators=10,\n",
    "                                  max_samples=0.5, # 50% 사용\n",
    "                                  max_features=0.5, # 50% 사용\n",
    "                                 )"
   ]
  },
  {
   "cell_type": "code",
   "execution_count": 18,
   "metadata": {
    "colab": {
     "base_uri": "https://localhost:8080/",
     "height": 69
    },
    "id": "OsPUpJp19_rt",
    "outputId": "7f90d957-df48-4811-fea2-16350e3549ca"
   },
   "outputs": [
    {
     "name": "stdout",
     "output_type": "stream",
     "text": [
      "avg fit time: 0.003997421264648438 (+/- 0.0006326364931372153)\n",
      "avg score time: 0.0015995025634765625 (+/- 0.0004885777256966608)\n",
      "avg test score: 0.9833333333333334 (+/- 0.022222222222222233)\n"
     ]
    }
   ],
   "source": [
    "cross_val = cross_validate(estimator=base_model,\n",
    "               X=wine.data, y=wine.target,\n",
    "               cv=5,)\n",
    "\n",
    "print('avg fit time: {} (+/- {})'.format(cross_val['fit_time'].mean(), cross_val['fit_time'].std()))\n",
    "print('avg score time: {} (+/- {})'.format(cross_val['score_time'].mean(), cross_val['score_time'].std()))\n",
    "print('avg test score: {} (+/- {})'.format(cross_val['test_score'].mean(), cross_val['test_score'].std()))"
   ]
  },
  {
   "cell_type": "code",
   "execution_count": 19,
   "metadata": {
    "colab": {
     "base_uri": "https://localhost:8080/",
     "height": 69
    },
    "id": "3pynPIPD-FtO",
    "outputId": "25f9ba02-7456-4727-ed4d-fcc6b3cfa025"
   },
   "outputs": [
    {
     "name": "stdout",
     "output_type": "stream",
     "text": [
      "avg fit time: 0.06116561889648438 (+/- 0.0077262511163138925)\n",
      "avg score time: 0.009793853759765625 (+/- 0.0003995182513194003)\n",
      "avg test score: 0.9665079365079364 (+/- 0.027185986341561497)\n"
     ]
    }
   ],
   "source": [
    "cross_val = cross_validate(estimator=bagging_model,\n",
    "               X=wine.data, y=wine.target,\n",
    "               cv=5,)\n",
    "\n",
    "print('avg fit time: {} (+/- {})'.format(cross_val['fit_time'].mean(), cross_val['fit_time'].std()))\n",
    "print('avg score time: {} (+/- {})'.format(cross_val['score_time'].mean(), cross_val['score_time'].std()))\n",
    "print('avg test score: {} (+/- {})'.format(cross_val['test_score'].mean(), cross_val['test_score'].std()))"
   ]
  },
  {
   "cell_type": "code",
   "execution_count": 20,
   "metadata": {},
   "outputs": [],
   "source": [
    "X_train, X_test, y_train, y_test = train_test_split(wine.data, wine.target, test_size=0.2, random_state=seed)"
   ]
  },
  {
   "cell_type": "code",
   "execution_count": 21,
   "metadata": {
    "colab": {
     "base_uri": "https://localhost:8080/",
     "height": 69
    },
    "id": "V_dzw9UH_HgS",
    "outputId": "85f82796-56f0-445c-f114-bea0fe96471a"
   },
   "outputs": [
    {
     "name": "stdout",
     "output_type": "stream",
     "text": [
      "base model 훈련 정확도: 1.0\n"
     ]
    }
   ],
   "source": [
    "base_model = make_pipeline(StandardScaler(),\n",
    "                          SVC())\n",
    "base_model.fit(X_train, y_train)\n",
    "print('base model 훈련 정확도: {}'.format(base_model.score(wine.data, wine.target)))"
   ]
  },
  {
   "cell_type": "code",
   "execution_count": 22,
   "metadata": {},
   "outputs": [
    {
     "name": "stdout",
     "output_type": "stream",
     "text": [
      "base model 테스트 정확도: 0.9831460674157303\n"
     ]
    }
   ],
   "source": [
    "base_model = make_pipeline(StandardScaler(),\n",
    "                          SVC())\n",
    "base_model.fit(X_test, y_test)\n",
    "print('base model 테스트 정확도: {}'.format(base_model.score(wine.data, wine.target)))"
   ]
  },
  {
   "cell_type": "code",
   "execution_count": 23,
   "metadata": {
    "colab": {
     "base_uri": "https://localhost:8080/",
     "height": 69
    },
    "id": "VBxzVY2V_HgT",
    "outputId": "540c0922-7965-4d06-98e9-add91b554dd8"
   },
   "outputs": [
    {
     "name": "stdout",
     "output_type": "stream",
     "text": [
      "bagging model 훈련 정확도: 0.9943820224719101\n"
     ]
    }
   ],
   "source": [
    "base_model = make_pipeline(StandardScaler(),\n",
    "                          SVC())\n",
    "\n",
    "bagging_model = BaggingClassifier(base_model,\n",
    "                                  n_estimators=10,\n",
    "                                  max_samples=0.5, # 50% 사용\n",
    "                                  max_features=0.5, # 50% 사용\n",
    "                                 )\n",
    "\n",
    "bagging_model.fit(X_train, y_train)\n",
    "print('bagging model 훈련 정확도: {}'.format(bagging_model.score(wine.data, wine.target)))"
   ]
  },
  {
   "cell_type": "code",
   "execution_count": 24,
   "metadata": {},
   "outputs": [
    {
     "name": "stdout",
     "output_type": "stream",
     "text": [
      "bagging model 테스트 정확도: 0.9269662921348315\n"
     ]
    }
   ],
   "source": [
    "base_model = make_pipeline(StandardScaler(),\n",
    "                          SVC())\n",
    "\n",
    "bagging_model = BaggingClassifier(base_model,\n",
    "                                  n_estimators=10,\n",
    "                                  max_samples=0.5, # 50% 사용\n",
    "                                  max_features=0.5, # 50% 사용\n",
    "                                 )\n",
    "\n",
    "bagging_model.fit(X_test, y_test)\n",
    "print('bagging model 테스트 정확도: {}'.format(bagging_model.score(wine.data, wine.target)))"
   ]
  },
  {
   "cell_type": "markdown",
   "metadata": {
    "id": "59r3mE7H92wX"
   },
   "source": [
    "##### 유방암 데이터"
   ]
  },
  {
   "cell_type": "code",
   "execution_count": 25,
   "metadata": {},
   "outputs": [],
   "source": [
    "cancer = load_breast_cancer()"
   ]
  },
  {
   "cell_type": "code",
   "execution_count": 26,
   "metadata": {},
   "outputs": [],
   "source": [
    "base_model = make_pipeline(StandardScaler(),\n",
    "                          SVC())"
   ]
  },
  {
   "cell_type": "code",
   "execution_count": 27,
   "metadata": {},
   "outputs": [],
   "source": [
    "bagging_model = BaggingClassifier(base_model,\n",
    "                                  n_estimators=10,\n",
    "                                  max_samples=0.5, # 50% 사용\n",
    "                                  max_features=0.5, # 50% 사용\n",
    "                                 )"
   ]
  },
  {
   "cell_type": "code",
   "execution_count": 28,
   "metadata": {},
   "outputs": [
    {
     "name": "stderr",
     "output_type": "stream",
     "text": [
      "[Parallel(n_jobs=1)]: Using backend SequentialBackend with 1 concurrent workers.\n",
      "[Parallel(n_jobs=1)]: Done   5 out of   5 | elapsed:    0.0s finished\n"
     ]
    }
   ],
   "source": [
    "cross_val = cross_validate(estimator=base_model,\n",
    "              X=cancer.data, y=cancer.target,\n",
    "              cv=5, verbose=1)"
   ]
  },
  {
   "cell_type": "code",
   "execution_count": 29,
   "metadata": {},
   "outputs": [
    {
     "name": "stdout",
     "output_type": "stream",
     "text": [
      "avg fit time: 0.010592794418334961 (+/- 0.0004896695918393925)\n",
      "avg score time: 0.0049969196319580075 (+/- 8.064048063892252e-07)\n",
      "avg test score: 0.9736376339077782 (+/- 0.014678541667933545)\n"
     ]
    }
   ],
   "source": [
    "print('avg fit time: {} (+/- {})'.format(cross_val['fit_time'].mean(), cross_val['fit_time'].std()))\n",
    "print('avg score time: {} (+/- {})'.format(cross_val['score_time'].mean(), cross_val['score_time'].std()))\n",
    "print('avg test score: {} (+/- {})'.format(cross_val['test_score'].mean(), cross_val['test_score'].std()))"
   ]
  },
  {
   "cell_type": "code",
   "execution_count": 30,
   "metadata": {},
   "outputs": [
    {
     "name": "stdout",
     "output_type": "stream",
     "text": [
      "bagging model 테스트 정확도: 0.9876977152899824\n"
     ]
    }
   ],
   "source": [
    "base_model.fit(cancer.data, cancer.target)\n",
    "print('bagging model 테스트 정확도: {}'.format(base_model.score(cancer.data, cancer.target)))"
   ]
  },
  {
   "cell_type": "code",
   "execution_count": 31,
   "metadata": {},
   "outputs": [
    {
     "name": "stderr",
     "output_type": "stream",
     "text": [
      "[Parallel(n_jobs=1)]: Using backend SequentialBackend with 1 concurrent workers.\n",
      "[Parallel(n_jobs=1)]: Done   5 out of   5 | elapsed:    0.4s finished\n"
     ]
    }
   ],
   "source": [
    "cross_val = cross_validate(estimator=bagging_model,\n",
    "              X=cancer.data, y=cancer.target,\n",
    "              cv=5, verbose=1)"
   ]
  },
  {
   "cell_type": "code",
   "execution_count": 32,
   "metadata": {},
   "outputs": [
    {
     "name": "stdout",
     "output_type": "stream",
     "text": [
      "avg fit time: 0.07655658721923828 (+/- 0.0037585224309997054)\n",
      "avg score time: 0.02698373794555664 (+/- 0.0006260761846895803)\n",
      "avg test score: 0.9613258810743673 (+/- 0.016295338833238505)\n"
     ]
    }
   ],
   "source": [
    "print('avg fit time: {} (+/- {})'.format(cross_val['fit_time'].mean(), cross_val['fit_time'].std()))\n",
    "print('avg score time: {} (+/- {})'.format(cross_val['score_time'].mean(), cross_val['score_time'].std()))\n",
    "print('avg test score: {} (+/- {})'.format(cross_val['test_score'].mean(), cross_val['test_score'].std()))"
   ]
  },
  {
   "cell_type": "code",
   "execution_count": 33,
   "metadata": {},
   "outputs": [
    {
     "name": "stdout",
     "output_type": "stream",
     "text": [
      "bagging model 테스트 정확도: 0.9771528998242531\n"
     ]
    }
   ],
   "source": [
    "bagging_model.fit(cancer.data, cancer.target)\n",
    "print('bagging model 테스트 정확도: {}'.format(bagging_model.score(cancer.data, cancer.target)))"
   ]
  },
  {
   "cell_type": "markdown",
   "metadata": {
    "id": "Gtpz-2Ly-gF2"
   },
   "source": [
    "#### Decision Tree"
   ]
  },
  {
   "cell_type": "markdown",
   "metadata": {
    "id": "3A4T9Bv--jF-"
   },
   "source": [
    "##### 붓꽃 데이터"
   ]
  },
  {
   "cell_type": "code",
   "execution_count": 34,
   "metadata": {
    "id": "uIoFBCuG-nZo"
   },
   "outputs": [],
   "source": [
    "base_model = make_pipeline(StandardScaler(),\n",
    "                          DecisionTreeClassifier())"
   ]
  },
  {
   "cell_type": "code",
   "execution_count": 35,
   "metadata": {
    "colab": {
     "base_uri": "https://localhost:8080/",
     "height": 69
    },
    "id": "uXfCtpMp-rZm",
    "outputId": "45ea24c2-3caf-4d00-8d40-d45c98449757"
   },
   "outputs": [],
   "source": [
    "bagging_model = BaggingClassifier(base_model,\n",
    "                                  n_estimators=10,\n",
    "                                  max_features=0.5,\n",
    "                                  max_samples=0.5)"
   ]
  },
  {
   "cell_type": "code",
   "execution_count": 36,
   "metadata": {
    "colab": {
     "base_uri": "https://localhost:8080/",
     "height": 69
    },
    "id": "b5Rx77at-xaC",
    "outputId": "f2482819-cd8f-4500-eec1-f33d39cfc540"
   },
   "outputs": [
    {
     "name": "stderr",
     "output_type": "stream",
     "text": [
      "[Parallel(n_jobs=4)]: Using backend LokyBackend with 4 concurrent workers.\n",
      "[Parallel(n_jobs=4)]: Done   5 out of   5 | elapsed:    9.0s finished\n"
     ]
    }
   ],
   "source": [
    "cross_val = cross_validate(estimator=base_model,\n",
    "              X=iris.data, y=iris.target,\n",
    "              cv=5, n_jobs=multiprocessing.cpu_count(),\n",
    "              verbose=1)"
   ]
  },
  {
   "cell_type": "code",
   "execution_count": 37,
   "metadata": {
    "scrolled": true
   },
   "outputs": [
    {
     "name": "stdout",
     "output_type": "stream",
     "text": [
      "avg fit time: 0.0043985843658447266 (+/- 0.0010173557398091178)\n",
      "avg score time: 0.0011986732482910157 (+/- 0.00040035409663519714)\n",
      "avg test score: 0.9666666666666668 (+/- 0.036514837167011066)\n"
     ]
    }
   ],
   "source": [
    "print('avg fit time: {} (+/- {})'.format(cross_val['fit_time'].mean(), cross_val['fit_time'].std()))\n",
    "print('avg score time: {} (+/- {})'.format(cross_val['score_time'].mean(), cross_val['score_time'].std()))\n",
    "print('avg test score: {} (+/- {})'.format(cross_val['test_score'].mean(), cross_val['test_score'].std()))"
   ]
  },
  {
   "cell_type": "code",
   "execution_count": 38,
   "metadata": {
    "colab": {
     "base_uri": "https://localhost:8080/",
     "height": 69
    },
    "id": "b5Rx77at-xaC",
    "outputId": "f2482819-cd8f-4500-eec1-f33d39cfc540"
   },
   "outputs": [
    {
     "name": "stderr",
     "output_type": "stream",
     "text": [
      "[Parallel(n_jobs=4)]: Using backend LokyBackend with 4 concurrent workers.\n",
      "[Parallel(n_jobs=4)]: Done   5 out of   5 | elapsed:    0.1s finished\n"
     ]
    }
   ],
   "source": [
    "cross_val = cross_validate(estimator=bagging_model,\n",
    "              X=iris.data, y=iris.target,\n",
    "              cv=5, n_jobs=multiprocessing.cpu_count(),\n",
    "              verbose=1)"
   ]
  },
  {
   "cell_type": "code",
   "execution_count": 39,
   "metadata": {
    "scrolled": true
   },
   "outputs": [
    {
     "name": "stdout",
     "output_type": "stream",
     "text": [
      "avg fit time: 0.09194622039794922 (+/- 0.01699625372328629)\n",
      "avg score time: 0.008595895767211915 (+/- 0.00224455139972937)\n",
      "avg test score: 0.9400000000000001 (+/- 0.04898979485566354)\n"
     ]
    }
   ],
   "source": [
    "print('avg fit time: {} (+/- {})'.format(cross_val['fit_time'].mean(), cross_val['fit_time'].std()))\n",
    "print('avg score time: {} (+/- {})'.format(cross_val['score_time'].mean(), cross_val['score_time'].std()))\n",
    "print('avg test score: {} (+/- {})'.format(cross_val['test_score'].mean(), cross_val['test_score'].std()))"
   ]
  },
  {
   "cell_type": "markdown",
   "metadata": {
    "id": "Ninof3DO_IO3"
   },
   "source": [
    "##### 와인 데이터"
   ]
  },
  {
   "cell_type": "code",
   "execution_count": null,
   "metadata": {
    "id": "L_ZwogKE_IO5"
   },
   "outputs": [],
   "source": []
  },
  {
   "cell_type": "code",
   "execution_count": null,
   "metadata": {
    "colab": {
     "base_uri": "https://localhost:8080/",
     "height": 69
    },
    "id": "xlO4uHnn_IPA",
    "outputId": "3a40ef9f-27a7-4a85-f45f-1158f0aa934d"
   },
   "outputs": [],
   "source": []
  },
  {
   "cell_type": "code",
   "execution_count": null,
   "metadata": {
    "colab": {
     "base_uri": "https://localhost:8080/",
     "height": 69
    },
    "id": "6l5RCMWI_IPI",
    "outputId": "62b41562-6e9a-4b83-9849-23814216c566"
   },
   "outputs": [],
   "source": []
  },
  {
   "cell_type": "markdown",
   "metadata": {
    "id": "uVlALN6t-i3T"
   },
   "source": [
    "##### 유방암 데이터"
   ]
  },
  {
   "cell_type": "code",
   "execution_count": null,
   "metadata": {
    "id": "cQF4b3Jw_GbO"
   },
   "outputs": [],
   "source": []
  },
  {
   "cell_type": "code",
   "execution_count": null,
   "metadata": {
    "colab": {
     "base_uri": "https://localhost:8080/",
     "height": 69
    },
    "id": "NNXg71CM_JZR",
    "outputId": "25f755a2-0fae-4ad1-e350-6132efcee347"
   },
   "outputs": [],
   "source": []
  },
  {
   "cell_type": "code",
   "execution_count": null,
   "metadata": {
    "colab": {
     "base_uri": "https://localhost:8080/",
     "height": 69
    },
    "id": "DQ0zpCGU_NXO",
    "outputId": "e1aa8630-e498-4ad1-ea5b-885322539ae3"
   },
   "outputs": [],
   "source": []
  },
  {
   "cell_type": "markdown",
   "metadata": {
    "id": "G8m4pTeC_Y7Q"
   },
   "source": [
    "### Bagging을 사용한 회귀"
   ]
  },
  {
   "cell_type": "markdown",
   "metadata": {
    "id": "47h6mi6D_cu3"
   },
   "source": [
    "#### 데이터셋 불러오기"
   ]
  },
  {
   "cell_type": "code",
   "execution_count": 42,
   "metadata": {
    "id": "UN7-vRcK_pKZ"
   },
   "outputs": [],
   "source": [
    "boston = load_boston()\n",
    "diabetes = load_diabetes()"
   ]
  },
  {
   "cell_type": "markdown",
   "metadata": {
    "id": "lBSK7rhp_gMV"
   },
   "source": [
    "#### KNN"
   ]
  },
  {
   "cell_type": "markdown",
   "metadata": {
    "id": "Ze7yqMOL_t34"
   },
   "source": [
    "##### 보스턴 주택 가격 데이터"
   ]
  },
  {
   "cell_type": "code",
   "execution_count": 44,
   "metadata": {
    "id": "IE8Slxcu_7jg"
   },
   "outputs": [],
   "source": [
    "base_model = make_pipeline(StandardScaler(),\n",
    "                         KNeighborsRegressor())"
   ]
  },
  {
   "cell_type": "code",
   "execution_count": 46,
   "metadata": {
    "colab": {
     "base_uri": "https://localhost:8080/",
     "height": 69
    },
    "id": "keEufZavATxq",
    "outputId": "43d2dd17-d375-4767-cbea-5d6d48f1d0c4"
   },
   "outputs": [],
   "source": [
    "bagging_model = BaggingRegressor(base_model,\n",
    "                                 n_estimators=10,\n",
    "                                 max_features=0.5,\n",
    "                                 max_samples=0.5)                            "
   ]
  },
  {
   "cell_type": "code",
   "execution_count": 50,
   "metadata": {},
   "outputs": [
    {
     "name": "stdout",
     "output_type": "stream",
     "text": [
      "avg fit time: 0.006395912170410157 (+/- 0.0004903889081666397)\n",
      "avg score time: 0.005402231216430664 (+/- 0.0010130205902106283)\n",
      "avg test score : 0.47357748833823543 (+/- 0.13243123464477455)\n"
     ]
    },
    {
     "name": "stderr",
     "output_type": "stream",
     "text": [
      "[Parallel(n_jobs=4)]: Using backend LokyBackend with 4 concurrent workers.\n",
      "[Parallel(n_jobs=4)]: Done   5 out of   5 | elapsed:    0.0s finished\n"
     ]
    }
   ],
   "source": [
    "cross_val = cross_validate(base_model,\n",
    "              X=boston.data, y=boston.target,\n",
    "              cv=5, n_jobs=multiprocessing.cpu_count(),\n",
    "              verbose=1)\n",
    "\n",
    "print('avg fit time: {} (+/- {})'.format(cross_val['fit_time'].mean(), cross_val['fit_time'].std()))\n",
    "print('avg score time: {} (+/- {})'.format(cross_val['score_time'].mean(), cross_val['score_time'].std()))\n",
    "print('avg test score : {} (+/- {})'.format(cross_val['test_score'].mean(), cross_val['test_score'].std()))"
   ]
  },
  {
   "cell_type": "code",
   "execution_count": 51,
   "metadata": {
    "colab": {
     "base_uri": "https://localhost:8080/",
     "height": 69
    },
    "id": "oJbcuQntAXzE",
    "outputId": "d3352f85-3f52-4769-aab1-5d75b882d6d9"
   },
   "outputs": [
    {
     "name": "stderr",
     "output_type": "stream",
     "text": [
      "[Parallel(n_jobs=4)]: Using backend LokyBackend with 4 concurrent workers.\n"
     ]
    },
    {
     "name": "stdout",
     "output_type": "stream",
     "text": [
      "avg fit time: 0.0997426986694336 (+/- 0.015372230781433571)\n",
      "avg score time: 0.03857951164245606 (+/- 0.012885002887535203)\n",
      "avg test score : 0.44273199452435785 (+/- 0.16707228466927612)\n"
     ]
    },
    {
     "name": "stderr",
     "output_type": "stream",
     "text": [
      "[Parallel(n_jobs=4)]: Done   5 out of   5 | elapsed:    0.3s finished\n"
     ]
    }
   ],
   "source": [
    "cross_val = cross_validate(bagging_model,\n",
    "              X=boston.data, y=boston.target,\n",
    "              cv=5, n_jobs=multiprocessing.cpu_count(),\n",
    "              verbose=1)\n",
    "\n",
    "print('avg fit time: {} (+/- {})'.format(cross_val['fit_time'].mean(), cross_val['fit_time'].std()))\n",
    "print('avg score time: {} (+/- {})'.format(cross_val['score_time'].mean(), cross_val['score_time'].std()))\n",
    "print('avg test score : {} (+/- {})'.format(cross_val['test_score'].mean(), cross_val['test_score'].std()))"
   ]
  },
  {
   "cell_type": "markdown",
   "metadata": {
    "id": "vsCxrkMO_td0"
   },
   "source": [
    "##### 당뇨병 데이터"
   ]
  },
  {
   "cell_type": "code",
   "execution_count": 52,
   "metadata": {
    "id": "WnsTBoTOAmki"
   },
   "outputs": [],
   "source": [
    "base_model = make_pipeline(StandardScaler(),\n",
    "                           KNeighborsRegressor())"
   ]
  },
  {
   "cell_type": "code",
   "execution_count": 53,
   "metadata": {
    "colab": {
     "base_uri": "https://localhost:8080/",
     "height": 69
    },
    "id": "014edZXTAmPb",
    "outputId": "f32f11ed-cf9d-4f7c-a1b3-7718a0cc52b6"
   },
   "outputs": [],
   "source": [
    "bagging_model = BaggingRegressor(base_model,\n",
    "                                n_estimators=10,\n",
    "                                max_features=0.5,\n",
    "                                max_samples=0.5)"
   ]
  },
  {
   "cell_type": "code",
   "execution_count": 57,
   "metadata": {
    "colab": {
     "base_uri": "https://localhost:8080/",
     "height": 69
    },
    "id": "kq3vs4juAl2_",
    "outputId": "9bd47031-59f8-486c-f5af-e660984680ac"
   },
   "outputs": [
    {
     "name": "stdout",
     "output_type": "stream",
     "text": [
      "avg fit time: 0.005595207214355469 (+/- 0.0004888113504555947)\n",
      "avg score time: 0.005196952819824218 (+/- 0.00040011432937742076)\n",
      "avg test score : 0.3689720650295623 (+/- 0.044659049060165365)\n"
     ]
    },
    {
     "name": "stderr",
     "output_type": "stream",
     "text": [
      "[Parallel(n_jobs=4)]: Using backend LokyBackend with 4 concurrent workers.\n",
      "[Parallel(n_jobs=4)]: Done   5 out of   5 | elapsed:    0.0s finished\n"
     ]
    }
   ],
   "source": [
    "cross_val = cross_validate(base_model,\n",
    "                          X=diabetes.data, y=diabetes.target,\n",
    "                          cv=5, n_jobs=multiprocessing.cpu_count(),\n",
    "                           verbose=1)\n",
    "\n",
    "print('avg fit time: {} (+/- {})'.format(cross_val['fit_time'].mean(), cross_val['fit_time'].std()))\n",
    "print('avg score time: {} (+/- {})'.format(cross_val['score_time'].mean(), cross_val['score_time'].std()))\n",
    "print('avg test score : {} (+/- {})'.format(cross_val['test_score'].mean(), cross_val['test_score'].std()))"
   ]
  },
  {
   "cell_type": "code",
   "execution_count": 58,
   "metadata": {},
   "outputs": [
    {
     "name": "stderr",
     "output_type": "stream",
     "text": [
      "[Parallel(n_jobs=4)]: Using backend LokyBackend with 4 concurrent workers.\n"
     ]
    },
    {
     "name": "stdout",
     "output_type": "stream",
     "text": [
      "avg fit time: 0.12133097648620605 (+/- 0.027051117144110626)\n",
      "avg score time: 0.03797907829284668 (+/- 0.005174451648753201)\n",
      "avg test score : 0.4033112416625221 (+/- 0.06070489146332469)\n"
     ]
    },
    {
     "name": "stderr",
     "output_type": "stream",
     "text": [
      "[Parallel(n_jobs=4)]: Done   5 out of   5 | elapsed:    0.3s finished\n"
     ]
    }
   ],
   "source": [
    "cross_val = cross_validate(bagging_model,\n",
    "                          X=diabetes.data, y=diabetes.target,\n",
    "                          cv=5, n_jobs=multiprocessing.cpu_count(),\n",
    "                           verbose=1)\n",
    "\n",
    "print('avg fit time: {} (+/- {})'.format(cross_val['fit_time'].mean(), cross_val['fit_time'].std()))\n",
    "print('avg score time: {} (+/- {})'.format(cross_val['score_time'].mean(), cross_val['score_time'].std()))\n",
    "print('avg test score : {} (+/- {})'.format(cross_val['test_score'].mean(), cross_val['test_score'].std()))"
   ]
  },
  {
   "cell_type": "markdown",
   "metadata": {
    "id": "UNWloxDa_fvn"
   },
   "source": [
    "#### SVR"
   ]
  },
  {
   "cell_type": "markdown",
   "metadata": {
    "id": "NRDHG3iX_ygt"
   },
   "source": [
    "##### 보스턴 주택 가격 데이터"
   ]
  },
  {
   "cell_type": "code",
   "execution_count": 60,
   "metadata": {
    "id": "yvYMEUkXAyOz"
   },
   "outputs": [],
   "source": [
    "base_model = make_pipeline(StandardScaler(),\n",
    "                          SVR())"
   ]
  },
  {
   "cell_type": "code",
   "execution_count": 61,
   "metadata": {
    "colab": {
     "base_uri": "https://localhost:8080/",
     "height": 69
    },
    "id": "Swm8VEn1A2oZ",
    "outputId": "fb4d1154-df5d-4347-917f-3714f95ea178"
   },
   "outputs": [],
   "source": [
    "bagging_model = BaggingRegressor(base_model,\n",
    "                                n_estimators=10,\n",
    "                                max_features=0.5,\n",
    "                                max_samples=0.5)"
   ]
  },
  {
   "cell_type": "code",
   "execution_count": 62,
   "metadata": {
    "colab": {
     "base_uri": "https://localhost:8080/",
     "height": 69
    },
    "id": "gI_Vf2NXA570",
    "outputId": "a9d7fec1-9c07-4c94-cae8-22c41691eef2"
   },
   "outputs": [
    {
     "name": "stderr",
     "output_type": "stream",
     "text": [
      "[Parallel(n_jobs=4)]: Using backend LokyBackend with 4 concurrent workers.\n",
      "[Parallel(n_jobs=4)]: Done   5 out of   5 | elapsed:    0.0s finished\n"
     ]
    }
   ],
   "source": [
    "cross_val = cross_validate(base_model,\n",
    "                          X=boston.data, y=boston.target,\n",
    "                          cv=5, n_jobs=multiprocessing.cpu_count(),\n",
    "                          verbose=1)"
   ]
  },
  {
   "cell_type": "code",
   "execution_count": 63,
   "metadata": {},
   "outputs": [
    {
     "name": "stdout",
     "output_type": "stream",
     "text": [
      "avg fit time: 0.042574739456176756 (+/- 0.010125572107599444)\n",
      "avg score time: 0.020589208602905272 (+/- 0.005000043284539062)\n",
      "avg test score: 0.17631266230186618 (+/- 0.5224914915128981)\n"
     ]
    }
   ],
   "source": [
    "print('avg fit time: {} (+/- {})'.format(cross_val['fit_time'].mean(), cross_val['fit_time'].std()))\n",
    "print('avg score time: {} (+/- {})'.format(cross_val['score_time'].mean(), cross_val['score_time'].std()))\n",
    "print('avg test score: {} (+/- {})'.format(cross_val['test_score'].mean(), cross_val['test_score'].std()))"
   ]
  },
  {
   "cell_type": "code",
   "execution_count": 64,
   "metadata": {},
   "outputs": [
    {
     "name": "stderr",
     "output_type": "stream",
     "text": [
      "[Parallel(n_jobs=4)]: Using backend LokyBackend with 4 concurrent workers.\n"
     ]
    },
    {
     "name": "stdout",
     "output_type": "stream",
     "text": [
      "avg fit time: 0.19108986854553223 (+/- 0.02887909098230622)\n",
      "avg score time: 0.1679044246673584 (+/- 0.058873772756669426)\n",
      "avg test score: 0.1968656402067442 (+/- 0.2863374747052458)\n"
     ]
    },
    {
     "name": "stderr",
     "output_type": "stream",
     "text": [
      "[Parallel(n_jobs=4)]: Done   5 out of   5 | elapsed:    0.5s finished\n"
     ]
    }
   ],
   "source": [
    "cross_val = cross_validate(bagging_model,\n",
    "                          X=boston.data, y=boston.target,\n",
    "                          cv=5, n_jobs=multiprocessing.cpu_count(),\n",
    "                          verbose=1)\n",
    "\n",
    "print('avg fit time: {} (+/- {})'.format(cross_val['fit_time'].mean(), cross_val['fit_time'].std()))\n",
    "print('avg score time: {} (+/- {})'.format(cross_val['score_time'].mean(), cross_val['score_time'].std()))\n",
    "print('avg test score: {} (+/- {})'.format(cross_val['test_score'].mean(), cross_val['test_score'].std()))"
   ]
  },
  {
   "cell_type": "markdown",
   "metadata": {
    "id": "dB98AXg7_004"
   },
   "source": [
    "##### 당뇨병 데이터"
   ]
  },
  {
   "cell_type": "code",
   "execution_count": 65,
   "metadata": {
    "id": "u2_GMYGIA9-J"
   },
   "outputs": [
    {
     "name": "stdout",
     "output_type": "stream",
     "text": [
      "avg fit time: 0.026778221130371094 (+/- 0.0007406398157138773)\n",
      "avg score time: 0.019591045379638673 (+/- 0.006824739640910243)\n",
      "avg test score: 0.14659936199629434 (+/- 0.02190798003342928)\n"
     ]
    },
    {
     "name": "stderr",
     "output_type": "stream",
     "text": [
      "[Parallel(n_jobs=4)]: Using backend LokyBackend with 4 concurrent workers.\n",
      "[Parallel(n_jobs=4)]: Done   5 out of   5 | elapsed:    0.0s finished\n"
     ]
    }
   ],
   "source": [
    "cross_val = cross_validate(base_model,\n",
    "                          X=diabetes.data, y=diabetes.target,\n",
    "                          cv=5, n_jobs=multiprocessing.cpu_count(),\n",
    "                          verbose=1)\n",
    "\n",
    "print('avg fit time: {} (+/- {})'.format(cross_val['fit_time'].mean(), cross_val['fit_time'].std()))\n",
    "print('avg score time: {} (+/- {})'.format(cross_val['score_time'].mean(), cross_val['score_time'].std()))\n",
    "print('avg test score: {} (+/- {})'.format(cross_val['test_score'].mean(), cross_val['test_score'].std()))"
   ]
  },
  {
   "cell_type": "code",
   "execution_count": 66,
   "metadata": {
    "colab": {
     "base_uri": "https://localhost:8080/",
     "height": 69
    },
    "id": "E-p61kkSA_Ow",
    "outputId": "c909002d-4bdf-46fb-f37c-9f3eb86f1c42"
   },
   "outputs": [
    {
     "name": "stderr",
     "output_type": "stream",
     "text": [
      "[Parallel(n_jobs=4)]: Using backend LokyBackend with 4 concurrent workers.\n"
     ]
    },
    {
     "name": "stdout",
     "output_type": "stream",
     "text": [
      "avg fit time: 0.13891806602478027 (+/- 0.020886961674807223)\n",
      "avg score time: 0.11353573799133301 (+/- 0.03704024538078205)\n",
      "avg test score: 0.055531430479438204 (+/- 0.021846354857192423)\n"
     ]
    },
    {
     "name": "stderr",
     "output_type": "stream",
     "text": [
      "[Parallel(n_jobs=4)]: Done   5 out of   5 | elapsed:    0.3s finished\n"
     ]
    }
   ],
   "source": [
    "cross_val = cross_validate(bagging_model,\n",
    "                          X=diabetes.data, y=diabetes.target,\n",
    "                          cv=5, n_jobs=multiprocessing.cpu_count(),\n",
    "                          verbose=1)\n",
    "\n",
    "print('avg fit time: {} (+/- {})'.format(cross_val['fit_time'].mean(), cross_val['fit_time'].std()))\n",
    "print('avg score time: {} (+/- {})'.format(cross_val['score_time'].mean(), cross_val['score_time'].std()))\n",
    "print('avg test score: {} (+/- {})'.format(cross_val['test_score'].mean(), cross_val['test_score'].std()))"
   ]
  },
  {
   "cell_type": "markdown",
   "metadata": {
    "id": "Ffge42tG_fFc"
   },
   "source": [
    "#### Decision Tree"
   ]
  },
  {
   "cell_type": "markdown",
   "metadata": {
    "id": "MWWTfD6T_44c"
   },
   "source": [
    "##### 보스턴 주택 가격 데이터"
   ]
  },
  {
   "cell_type": "code",
   "execution_count": 67,
   "metadata": {
    "id": "IdfQuNoLBIk8"
   },
   "outputs": [],
   "source": [
    "base_model = make_pipeline(StandardScaler(),\n",
    "                          DecisionTreeRegressor())"
   ]
  },
  {
   "cell_type": "code",
   "execution_count": 70,
   "metadata": {
    "colab": {
     "base_uri": "https://localhost:8080/",
     "height": 69
    },
    "id": "uMToSfgzBL3v",
    "outputId": "fc27d43f-13d0-429e-b4ac-88b42982466f"
   },
   "outputs": [],
   "source": [
    "bagging_model = BaggingRegressor(base_model,\n",
    "                                 n_estimators=10,\n",
    "                                 max_features=0.5,\n",
    "                                 max_samples=0.5)"
   ]
  },
  {
   "cell_type": "code",
   "execution_count": 72,
   "metadata": {
    "colab": {
     "base_uri": "https://localhost:8080/",
     "height": 69
    },
    "id": "PyI5bERuBPLx",
    "outputId": "59cce144-c62b-44c9-8b19-d8f39c50091d"
   },
   "outputs": [
    {
     "name": "stdout",
     "output_type": "stream",
     "text": [
      "avg fit time: 0.013191509246826171 (+/- 0.000979220502532613)\n",
      "avg score time: 0.001804018020629883 (+/- 0.00040248461665117293)\n",
      "avg test score: 0.033393367347999005 (+/- 0.9468177624310712)\n"
     ]
    },
    {
     "name": "stderr",
     "output_type": "stream",
     "text": [
      "[Parallel(n_jobs=4)]: Using backend LokyBackend with 4 concurrent workers.\n",
      "[Parallel(n_jobs=4)]: Done   5 out of   5 | elapsed:    0.0s finished\n"
     ]
    }
   ],
   "source": [
    "cross_val = cross_validate(base_model,\n",
    "                          X=boston.data, y=boston.target,\n",
    "                          cv=5, n_jobs=multiprocessing.cpu_count(),\n",
    "                          verbose=1)\n",
    "\n",
    "print('avg fit time: {} (+/- {})'.format(cross_val['fit_time'].mean(), cross_val['fit_time'].std()))\n",
    "print('avg score time: {} (+/- {})'.format(cross_val['score_time'].mean(), cross_val['score_time'].std()))\n",
    "print('avg test score: {} (+/- {})'.format(cross_val['test_score'].mean(), cross_val['test_score'].std()))"
   ]
  },
  {
   "cell_type": "code",
   "execution_count": 73,
   "metadata": {},
   "outputs": [
    {
     "name": "stderr",
     "output_type": "stream",
     "text": [
      "[Parallel(n_jobs=4)]: Using backend LokyBackend with 4 concurrent workers.\n"
     ]
    },
    {
     "name": "stdout",
     "output_type": "stream",
     "text": [
      "avg fit time: 0.12033085823059082 (+/- 0.020623181035130087)\n",
      "avg score time: 0.015392875671386719 (+/- 0.009172096182802132)\n",
      "avg test score: 0.44110137210924194 (+/- 0.19586019473958183)\n"
     ]
    },
    {
     "name": "stderr",
     "output_type": "stream",
     "text": [
      "[Parallel(n_jobs=4)]: Done   5 out of   5 | elapsed:    0.2s finished\n"
     ]
    }
   ],
   "source": [
    "cross_val = cross_validate(bagging_model,\n",
    "                          X=boston.data, y=boston.target,\n",
    "                          cv=5, n_jobs=multiprocessing.cpu_count(),\n",
    "                          verbose=1)\n",
    "\n",
    "print('avg fit time: {} (+/- {})'.format(cross_val['fit_time'].mean(), cross_val['fit_time'].std()))\n",
    "print('avg score time: {} (+/- {})'.format(cross_val['score_time'].mean(), cross_val['score_time'].std()))\n",
    "print('avg test score: {} (+/- {})'.format(cross_val['test_score'].mean(), cross_val['test_score'].std()))"
   ]
  },
  {
   "cell_type": "markdown",
   "metadata": {
    "id": "djcuGIS-_4kG"
   },
   "source": [
    "##### 당뇨병 데이터"
   ]
  },
  {
   "cell_type": "code",
   "execution_count": 74,
   "metadata": {
    "id": "MavauM2gBeuu"
   },
   "outputs": [
    {
     "name": "stderr",
     "output_type": "stream",
     "text": [
      "[Parallel(n_jobs=4)]: Using backend LokyBackend with 4 concurrent workers.\n"
     ]
    },
    {
     "name": "stdout",
     "output_type": "stream",
     "text": [
      "avg fit time: 0.011788082122802735 (+/- 0.0019424560085108493)\n",
      "avg score time: 0.003199338912963867 (+/- 0.0009782558875544402)\n",
      "avg test score: -0.14987456754914263 (+/- 0.12043883836668544)\n"
     ]
    },
    {
     "name": "stderr",
     "output_type": "stream",
     "text": [
      "[Parallel(n_jobs=4)]: Done   5 out of   5 | elapsed:   10.2s finished\n"
     ]
    }
   ],
   "source": [
    "cross_val = cross_validate(base_model,\n",
    "                          X=diabetes.data, y=diabetes.target,\n",
    "                          cv=5, n_jobs=multiprocessing.cpu_count(),\n",
    "                          verbose=1)\n",
    "\n",
    "print('avg fit time: {} (+/- {})'.format(cross_val['fit_time'].mean(), cross_val['fit_time'].std()))\n",
    "print('avg score time: {} (+/- {})'.format(cross_val['score_time'].mean(), cross_val['score_time'].std()))\n",
    "print('avg test score: {} (+/- {})'.format(cross_val['test_score'].mean(), cross_val['test_score'].std()))"
   ]
  },
  {
   "cell_type": "code",
   "execution_count": 75,
   "metadata": {
    "colab": {
     "base_uri": "https://localhost:8080/",
     "height": 69
    },
    "id": "eiCiUfMaBg6S",
    "outputId": "82b9259a-9577-478f-e554-c867fe1583c7"
   },
   "outputs": [
    {
     "name": "stderr",
     "output_type": "stream",
     "text": [
      "[Parallel(n_jobs=4)]: Using backend LokyBackend with 4 concurrent workers.\n"
     ]
    },
    {
     "name": "stdout",
     "output_type": "stream",
     "text": [
      "avg fit time: 0.14171829223632812 (+/- 0.02008284196861171)\n",
      "avg score time: 0.02198786735534668 (+/- 0.00909435774652489)\n",
      "avg test score: 0.34472048313664244 (+/- 0.08232687964248388)\n"
     ]
    },
    {
     "name": "stderr",
     "output_type": "stream",
     "text": [
      "[Parallel(n_jobs=4)]: Done   5 out of   5 | elapsed:    0.3s finished\n"
     ]
    }
   ],
   "source": [
    "cross_val = cross_validate(bagging_model,\n",
    "                          X=diabetes.data, y=diabetes.target,\n",
    "                          cv=5, n_jobs=multiprocessing.cpu_count(),\n",
    "                          verbose=1)\n",
    "\n",
    "print('avg fit time: {} (+/- {})'.format(cross_val['fit_time'].mean(), cross_val['fit_time'].std()))\n",
    "print('avg score time: {} (+/- {})'.format(cross_val['score_time'].mean(), cross_val['score_time'].std()))\n",
    "print('avg test score: {} (+/- {})'.format(cross_val['test_score'].mean(), cross_val['test_score'].std()))"
   ]
  },
  {
   "cell_type": "markdown",
   "metadata": {
    "id": "Hve567xWbywt"
   },
   "source": [
    "## Forests of randomized trees\n",
    "\n",
    "* `sklearn.ensemble` 모듈에는 무작위 결정 트리를 기반으로하는 두 개의 평균화 알고리즘이 존재\n",
    "  * Random Forest\n",
    "  * Extra-Trees\n",
    "* 모델 구성에 임의성을 추가해 다양한 모델 집합이 생성\n",
    "* 앙상블 모델의 예측은 각 모델의 평균"
   ]
  },
  {
   "cell_type": "code",
   "execution_count": null,
   "metadata": {
    "id": "9dLhSVb7CMIV"
   },
   "outputs": [],
   "source": [
    "# from sklearn.ensemble import RandomForestClassifier, RandomForestRegressor\n",
    "# from sklearn.ensemble import ExtraTreesClassifier, ExtraTreesRegressor"
   ]
  },
  {
   "cell_type": "markdown",
   "metadata": {
    "id": "oDLPV0rHk_kG"
   },
   "source": [
    "### Random Forests 분류"
   ]
  },
  {
   "cell_type": "code",
   "execution_count": 77,
   "metadata": {
    "id": "rpQvJshtlc-r"
   },
   "outputs": [],
   "source": [
    "model = make_pipeline(StandardScaler(),\n",
    "                     RandomForestClassifier())"
   ]
  },
  {
   "cell_type": "code",
   "execution_count": 78,
   "metadata": {
    "colab": {
     "base_uri": "https://localhost:8080/",
     "height": 69
    },
    "id": "Vtf-Qegjlsz6",
    "outputId": "9b8b25db-6779-4b6e-bebc-fbdd6bf98dbb"
   },
   "outputs": [
    {
     "name": "stderr",
     "output_type": "stream",
     "text": [
      "[Parallel(n_jobs=4)]: Using backend LokyBackend with 4 concurrent workers.\n",
      "[Parallel(n_jobs=4)]: Done   5 out of   5 | elapsed:   11.3s finished\n"
     ]
    }
   ],
   "source": [
    "cross_val = cross_validate(estimator=model,\n",
    "                          X=iris.data, y=iris.target,\n",
    "                          cv=5, n_jobs=multiprocessing.cpu_count(),\n",
    "                          verbose=1)"
   ]
  },
  {
   "cell_type": "code",
   "execution_count": 79,
   "metadata": {
    "colab": {
     "base_uri": "https://localhost:8080/",
     "height": 69
    },
    "id": "Zb64WqN6_QGS",
    "outputId": "a64eeffb-dda6-4a6c-807b-ff85c7deebae"
   },
   "outputs": [
    {
     "name": "stdout",
     "output_type": "stream",
     "text": [
      "avg fit time: 0.6808154106140136 (+/- 0.12270093803047905)\n",
      "avg score time: 0.03937296867370606 (+/- 0.011875957534835642)\n",
      "avg test score: 0.9666666666666668 (+/- 0.02108185106778919)\n"
     ]
    }
   ],
   "source": [
    "print('avg fit time: {} (+/- {})'.format(cross_val['fit_time'].mean(), cross_val['fit_time'].std()))\n",
    "print('avg score time: {} (+/- {})'.format(cross_val['score_time'].mean(), cross_val['score_time'].std()))\n",
    "print('avg test score: {} (+/- {})'.format(cross_val['test_score'].mean(), cross_val['test_score'].std()))"
   ]
  },
  {
   "cell_type": "markdown",
   "metadata": {
    "id": "a3earvlLl2RE"
   },
   "source": [
    "### Random Forests 회귀"
   ]
  },
  {
   "cell_type": "code",
   "execution_count": 81,
   "metadata": {
    "id": "KGx4DhJlmNpP"
   },
   "outputs": [],
   "source": [
    "model = make_pipeline(StandardScaler(),\n",
    "                     RandomForestRegressor())"
   ]
  },
  {
   "cell_type": "code",
   "execution_count": 82,
   "metadata": {
    "colab": {
     "base_uri": "https://localhost:8080/",
     "height": 69
    },
    "id": "1Jb0M9T9mQ6a",
    "outputId": "2ef1205d-907e-42a3-aad1-f9891b2e3149"
   },
   "outputs": [
    {
     "name": "stderr",
     "output_type": "stream",
     "text": [
      "[Parallel(n_jobs=4)]: Using backend LokyBackend with 4 concurrent workers.\n"
     ]
    },
    {
     "name": "stdout",
     "output_type": "stream",
     "text": [
      "avg fit time: 1.2428889274597168 (+/- 0.203637781702091)\n",
      "avg score time: 0.044179105758666994 (+/- 0.012209001413442092)\n",
      "avg test score: 0.6341312087831044 (+/- 0.19866643783095084)\n"
     ]
    },
    {
     "name": "stderr",
     "output_type": "stream",
     "text": [
      "[Parallel(n_jobs=4)]: Done   5 out of   5 | elapsed:    2.2s finished\n"
     ]
    }
   ],
   "source": [
    "cross_val = cross_validate(estimator=model,\n",
    "                          X=boston.data, y=boston.target,\n",
    "                          cv=5, n_jobs=multiprocessing.cpu_count(),\n",
    "                          verbose=1)\n",
    "\n",
    "print('avg fit time: {} (+/- {})'.format(cross_val['fit_time'].mean(), cross_val['fit_time'].std()))\n",
    "print('avg score time: {} (+/- {})'.format(cross_val['score_time'].mean(), cross_val['score_time'].std()))\n",
    "print('avg test score: {} (+/- {})'.format(cross_val['test_score'].mean(), cross_val['test_score'].std()))"
   ]
  },
  {
   "cell_type": "code",
   "execution_count": 83,
   "metadata": {
    "colab": {
     "base_uri": "https://localhost:8080/",
     "height": 69
    },
    "id": "cfhpqlGdDLGP",
    "outputId": "d465d0e5-c174-4ea8-fa08-1e63c0435b94"
   },
   "outputs": [
    {
     "name": "stderr",
     "output_type": "stream",
     "text": [
      "[Parallel(n_jobs=4)]: Using backend LokyBackend with 4 concurrent workers.\n"
     ]
    },
    {
     "name": "stdout",
     "output_type": "stream",
     "text": [
      "avg fit time: 0.8373208522796631 (+/- 0.13092289199045334)\n",
      "avg score time: 0.031782007217407225 (+/- 0.0020380621288949787)\n",
      "avg test score: 0.41861188460973453 (+/- 0.040616880277457336)\n"
     ]
    },
    {
     "name": "stderr",
     "output_type": "stream",
     "text": [
      "[Parallel(n_jobs=4)]: Done   5 out of   5 | elapsed:    1.5s finished\n"
     ]
    }
   ],
   "source": [
    "cross_val = cross_validate(estimator=model,\n",
    "                          X=diabetes.data, y=diabetes.target,\n",
    "                          cv=5, n_jobs=multiprocessing.cpu_count(),\n",
    "                          verbose=1)\n",
    "\n",
    "print('avg fit time: {} (+/- {})'.format(cross_val['fit_time'].mean(), cross_val['fit_time'].std()))\n",
    "print('avg score time: {} (+/- {})'.format(cross_val['score_time'].mean(), cross_val['score_time'].std()))\n",
    "print('avg test score: {} (+/- {})'.format(cross_val['test_score'].mean(), cross_val['test_score'].std()))"
   ]
  },
  {
   "cell_type": "markdown",
   "metadata": {
    "id": "EBHcDHNvmot4"
   },
   "source": [
    "### Extremely Randomized Trees 분류"
   ]
  },
  {
   "cell_type": "code",
   "execution_count": 84,
   "metadata": {
    "id": "B_ujy6vHm7H4"
   },
   "outputs": [],
   "source": [
    "model = make_pipeline(StandardScaler(),\n",
    "                     ExtraTreesClassifier())"
   ]
  },
  {
   "cell_type": "code",
   "execution_count": 85,
   "metadata": {
    "colab": {
     "base_uri": "https://localhost:8080/",
     "height": 69
    },
    "id": "pkzBXVMem_bM",
    "outputId": "12ecc97f-e7c6-4b46-a1ef-cf1f1cb9309b"
   },
   "outputs": [
    {
     "name": "stderr",
     "output_type": "stream",
     "text": [
      "[Parallel(n_jobs=4)]: Using backend LokyBackend with 4 concurrent workers.\n"
     ]
    },
    {
     "name": "stdout",
     "output_type": "stream",
     "text": [
      "avg fit time: 0.4537407398223877 (+/- 0.08089111029167216)\n",
      "avg score time: 0.03597936630249023 (+/- 0.008915929525219949)\n",
      "avg test score: 0.9533333333333334 (+/- 0.03399346342395189)\n"
     ]
    },
    {
     "name": "stderr",
     "output_type": "stream",
     "text": [
      "[Parallel(n_jobs=4)]: Done   5 out of   5 | elapsed:    0.8s finished\n"
     ]
    }
   ],
   "source": [
    "cross_val = cross_validate(estimator=model,\n",
    "                          X=iris.data, y=iris.target,\n",
    "                          cv=5, n_jobs=multiprocessing.cpu_count(),\n",
    "                          verbose=1)\n",
    "\n",
    "print('avg fit time: {} (+/- {})'.format(cross_val['fit_time'].mean(), cross_val['fit_time'].std()))\n",
    "print('avg score time: {} (+/- {})'.format(cross_val['score_time'].mean(), cross_val['score_time'].std()))\n",
    "print('avg test score: {} (+/- {})'.format(cross_val['test_score'].mean(), cross_val['test_score'].std()))"
   ]
  },
  {
   "cell_type": "code",
   "execution_count": 86,
   "metadata": {
    "colab": {
     "base_uri": "https://localhost:8080/",
     "height": 69
    },
    "id": "iV9QX51m_Re6",
    "outputId": "0b9d5c3b-c866-4e65-9e50-bd4586cc599a"
   },
   "outputs": [
    {
     "name": "stderr",
     "output_type": "stream",
     "text": [
      "[Parallel(n_jobs=4)]: Using backend LokyBackend with 4 concurrent workers.\n"
     ]
    },
    {
     "name": "stdout",
     "output_type": "stream",
     "text": [
      "avg fit time: 0.6278254508972168 (+/- 0.18176466734141458)\n",
      "avg score time: 0.048172521591186526 (+/- 0.010181391709644569)\n",
      "avg test score: 0.9833333333333332 (+/- 0.022222222222222233)\n"
     ]
    },
    {
     "name": "stderr",
     "output_type": "stream",
     "text": [
      "[Parallel(n_jobs=4)]: Done   5 out of   5 | elapsed:    1.0s finished\n"
     ]
    }
   ],
   "source": [
    "cross_val = cross_validate(estimator=model,\n",
    "                          X=wine.data, y=wine.target,\n",
    "                          cv=5, n_jobs=multiprocessing.cpu_count(),\n",
    "                          verbose=1)\n",
    "\n",
    "print('avg fit time: {} (+/- {})'.format(cross_val['fit_time'].mean(), cross_val['fit_time'].std()))\n",
    "print('avg score time: {} (+/- {})'.format(cross_val['score_time'].mean(), cross_val['score_time'].std()))\n",
    "print('avg test score: {} (+/- {})'.format(cross_val['test_score'].mean(), cross_val['test_score'].std()))"
   ]
  },
  {
   "cell_type": "code",
   "execution_count": 87,
   "metadata": {
    "colab": {
     "base_uri": "https://localhost:8080/",
     "height": 69
    },
    "id": "iV9QX51m_Re6",
    "outputId": "0b9d5c3b-c866-4e65-9e50-bd4586cc599a"
   },
   "outputs": [
    {
     "name": "stderr",
     "output_type": "stream",
     "text": [
      "[Parallel(n_jobs=4)]: Using backend LokyBackend with 4 concurrent workers.\n"
     ]
    },
    {
     "name": "stdout",
     "output_type": "stream",
     "text": [
      "avg fit time: 0.4847268581390381 (+/- 0.11358975057153671)\n",
      "avg score time: 0.035575151443481445 (+/- 0.006023613113197506)\n",
      "avg test score: 0.9648501785437043 (+/- 0.014678771565898205)\n"
     ]
    },
    {
     "name": "stderr",
     "output_type": "stream",
     "text": [
      "[Parallel(n_jobs=4)]: Done   5 out of   5 | elapsed:    0.8s finished\n"
     ]
    }
   ],
   "source": [
    "cross_val = cross_validate(estimator=model,\n",
    "                          X=cancer.data, y=cancer.target,\n",
    "                          cv=5, n_jobs=multiprocessing.cpu_count(),\n",
    "                          verbose=1)\n",
    "\n",
    "print('avg fit time: {} (+/- {})'.format(cross_val['fit_time'].mean(), cross_val['fit_time'].std()))\n",
    "print('avg score time: {} (+/- {})'.format(cross_val['score_time'].mean(), cross_val['score_time'].std()))\n",
    "print('avg test score: {} (+/- {})'.format(cross_val['test_score'].mean(), cross_val['test_score'].std()))"
   ]
  },
  {
   "cell_type": "markdown",
   "metadata": {
    "id": "JspHMW4YnDON"
   },
   "source": [
    "### Extremely Randomized Trees 회귀"
   ]
  },
  {
   "cell_type": "code",
   "execution_count": 88,
   "metadata": {
    "id": "6_dqUbdCnRbP"
   },
   "outputs": [],
   "source": [
    "model = make_pipeline(StandardScaler(),\n",
    "                     ExtraTreesRegressor())"
   ]
  },
  {
   "cell_type": "code",
   "execution_count": 89,
   "metadata": {
    "colab": {
     "base_uri": "https://localhost:8080/",
     "height": 69
    },
    "id": "SHfpp5NBnVDU",
    "outputId": "c71c5053-ae88-4f0b-ef15-94affe0e6fb6"
   },
   "outputs": [
    {
     "name": "stderr",
     "output_type": "stream",
     "text": [
      "[Parallel(n_jobs=4)]: Using backend LokyBackend with 4 concurrent workers.\n"
     ]
    },
    {
     "name": "stdout",
     "output_type": "stream",
     "text": [
      "avg fit time: 0.7015979290008545 (+/- 0.14855760354165107)\n",
      "avg score time: 0.028183555603027342 (+/- 0.00461905642367362)\n",
      "avg test score: 0.6410406504199446 (+/- 0.24486836240443524)\n"
     ]
    },
    {
     "name": "stderr",
     "output_type": "stream",
     "text": [
      "[Parallel(n_jobs=4)]: Done   5 out of   5 | elapsed:    1.1s finished\n"
     ]
    }
   ],
   "source": [
    "cross_val = cross_validate(estimator=model,\n",
    "                           X=boston.data, y=boston.target,\n",
    "                           cv=5, n_jobs=multiprocessing.cpu_count(),\n",
    "                           verbose=1)\n",
    "\n",
    "print('avg fit time: {} (+/- {})'.format(cross_val['fit_time'].mean(), cross_val['fit_time'].std()))\n",
    "print('avg score time: {} (+/- {})'.format(cross_val['score_time'].mean(), cross_val['score_time'].std()))\n",
    "print('avg test score: {} (+/- {})'.format(cross_val['test_score'].mean(), cross_val['test_score'].std()))"
   ]
  },
  {
   "cell_type": "code",
   "execution_count": 90,
   "metadata": {
    "colab": {
     "base_uri": "https://localhost:8080/",
     "height": 69
    },
    "id": "2CuQvitCDv77",
    "outputId": "a498ecc4-53b4-4efa-d714-e5e66e27ded6"
   },
   "outputs": [
    {
     "name": "stderr",
     "output_type": "stream",
     "text": [
      "[Parallel(n_jobs=4)]: Using backend LokyBackend with 4 concurrent workers.\n"
     ]
    },
    {
     "name": "stdout",
     "output_type": "stream",
     "text": [
      "avg fit time: 0.9212769031524658 (+/- 0.20622518015052746)\n",
      "avg score time: 0.05516486167907715 (+/- 0.01626413243806954)\n",
      "avg test score: 0.4436155011145192 (+/- 0.040213395733187704)\n"
     ]
    },
    {
     "name": "stderr",
     "output_type": "stream",
     "text": [
      "[Parallel(n_jobs=4)]: Done   5 out of   5 | elapsed:    1.5s finished\n"
     ]
    }
   ],
   "source": [
    "cross_val = cross_validate(estimator=model,\n",
    "                           X=diabetes.data, y=diabetes.target,\n",
    "                           cv=5, n_jobs=multiprocessing.cpu_count(),\n",
    "                           verbose=1)\n",
    "\n",
    "print('avg fit time: {} (+/- {})'.format(cross_val['fit_time'].mean(), cross_val['fit_time'].std()))\n",
    "print('avg score time: {} (+/- {})'.format(cross_val['score_time'].mean(), cross_val['score_time'].std()))\n",
    "print('avg test score: {} (+/- {})'.format(cross_val['test_score'].mean(), cross_val['test_score'].std()))"
   ]
  },
  {
   "cell_type": "markdown",
   "metadata": {
    "id": "L4_4LPoirXV2"
   },
   "source": [
    "### Random Forest, Extra Tree 시각화\n",
    "\n",
    "* 결정 트리, Random Forest, Extra Tree의 결정 경계와 회귀식 시각화"
   ]
  },
  {
   "cell_type": "code",
   "execution_count": 93,
   "metadata": {
    "id": "RH-wTt7PzpB_"
   },
   "outputs": [],
   "source": [
    "n_classes = 3\n",
    "n_estimator = 30\n",
    "cmap = plt.cm.RdYlBu\n",
    "plot_step = 0.02\n",
    "plot_step_coarser = 0.5\n",
    "RANDOM_SEED = 13"
   ]
  },
  {
   "cell_type": "code",
   "execution_count": 94,
   "metadata": {
    "id": "J-rQtFGZz3r7"
   },
   "outputs": [],
   "source": [
    "iris = load_iris()\n",
    "plot_idx = 1\n",
    "models = [DecisionTreeClassifier(max_depth=None),\n",
    "         RandomForestClassifier(n_estimators=n_estimator),\n",
    "         ExtraTreesClassifier(n_estimators=n_estimator)]"
   ]
  },
  {
   "cell_type": "code",
   "execution_count": null,
   "metadata": {
    "id": "V7F-qnp60DO1"
   },
   "outputs": [],
   "source": [
    "plt.figure(figsize=(16,8))\n",
    "\n",
    "for pair in ([0,1], [0,2], [2,3]):\n",
    "    for model in models:        \n",
    "        X = iris.data[:,pair]\n",
    "        y = iris.target\n",
    "        \n",
    "        idx = np.arange(X.shape[0])\n",
    "        np.random.seed(RANDOM_SEED)\n",
    "        np.random.shuffle(idx)\n",
    "        \n",
    "        X = X[idx]\n",
    "        y = y[idx]\n",
    "        \n",
    "        mean = X.mean(axis=0)\n",
    "        std = X.std(axis=0)\n",
    "        X = (X-mean) / std\n",
    "        \n",
    "        model.fit(X, y)\n",
    "        \n",
    "        model_title = str(type(model)).split(\".\")[-1][:-2][:len(\"Classifier\")]\n",
    "        \n",
    "        plt.subplot(3,3, plot_idx)\n",
    "        if plot_idx <= len(models):\n",
    "            plt.title(model_title, fontsize=9)\n",
    "            \n",
    "        x_min, x_max = X[:, 0].min()-1, X[:, 0].max()+1\n",
    "        y_min, y_max = X[:, 1].min()-1, X[:, 1].max()+1\n",
    "        \n",
    "        xx, yy = np.meshgrid(np.arange(x_min, x_max, plot_step),\n",
    "                            np.arange(y_min, y_max, plot_step))\n",
    "        \n",
    "        if isinstance(model, DecisionTreeClassifier):\n",
    "            Z = model.predict(np.c_[xx.ravel(), yy.ravel()])\n",
    "            Z = Z.reshape(xx.shape)\n",
    "            cs = plt.contourf(xx, yy, Z, cmap=cmap)\n",
    "        else:\n",
    "            estimator_alpha = 1.0 / len(model.estimators_)\n",
    "            for tree in model.estimators_:\n",
    "                Z = model.predict(np.c_[xx.ravel(), yy.ravel()])\n",
    "                Z = Z.reshape(xx.shape)\n",
    "                cs = plt.contourf(xx, yy, Z, alpha=estimator_alpha, cmap=cmap)\n",
    "                \n",
    "        xx_coarser, yy_coarser = np.meshgrid(np.arange(x_min, x_max, plot_step_coarser),\n",
    "                                            np.arange(y_min, y_max, plot_step_coarser))\n",
    "        \n",
    "        Z_points_coarser = model.predict(np.c_[xx_coarser.ravel(), \n",
    "                                               yy_coarser.ravel()]).reshape(xx_coarser.shape)\n",
    "        \n",
    "        cs_points = plt.scatter(xx_coarser, yy_coarser, s=15,\n",
    "                               c=Z_points_coarser, cmap=cmap,\n",
    "                               edgecolors='none')\n",
    "        \n",
    "        plt.scatter(X[:, 0], X[:,1], c=y,\n",
    "                   cmap=ListedColormap(['r', 'y', 'b']),\n",
    "                   edgecolor='k', s=20,)\n",
    "        plot_idx += 1\n",
    "        \n",
    "plt.subtitle('Classifiers', fontsize=12)\n",
    "plt.axis('tight')\n",
    "plt.tight_layout(h_pad=0.2, w_pad=0.2, pad=2.5)\n",
    "plt.show()"
   ]
  },
  {
   "cell_type": "code",
   "execution_count": null,
   "metadata": {
    "colab": {
     "base_uri": "https://localhost:8080/",
     "height": 432
    },
    "id": "frixj9rPnW5w",
    "outputId": "373cce09-80a6-459e-b8b1-0422349bbe44"
   },
   "outputs": [],
   "source": []
  },
  {
   "cell_type": "code",
   "execution_count": null,
   "metadata": {
    "id": "8nqpZSlUEf9P"
   },
   "outputs": [],
   "source": []
  },
  {
   "cell_type": "code",
   "execution_count": null,
   "metadata": {
    "colab": {
     "base_uri": "https://localhost:8080/",
     "height": 432
    },
    "id": "LN5ECiI5EQmZ",
    "outputId": "ad342d1d-c1d4-4417-c69a-884e043363b4"
   },
   "outputs": [],
   "source": []
  },
  {
   "cell_type": "markdown",
   "metadata": {
    "id": "KBBCR19i3JNP"
   },
   "source": [
    "## AdaBoost\n",
    "\n",
    "* 대표적인 부스팅 알고리즘\n",
    "* 일련의 약한 모델들을 학습\n",
    "* 수정된 버전의 데이터를 반복 학습 (가중치가 적용된)\n",
    "* 가중치 투표(또는 합)을 통해 각 모델의 예측 값을 결합\n",
    "* 첫 단계에서는 원본 데이터를 학습하고 연속적인 반복마다 개별 샘플에 대한 가중치가 수정되고 다시 모델이 학습\n",
    "  * 잘못 예측된 샘플은 가중치 증가, 올바르게 예측된 샘플은 가중치 감소\n",
    "  * 각각의 약한 모델들은 예측하기 어려운 샘플에 집중하게 됨\n",
    "\n",
    "![AdaBoost](https://scikit-learn.org/stable/_images/sphx_glr_plot_adaboost_hastie_10_2_0011.png)"
   ]
  },
  {
   "cell_type": "code",
   "execution_count": null,
   "metadata": {
    "id": "5QjTkuxWrm2a"
   },
   "outputs": [],
   "source": []
  },
  {
   "cell_type": "markdown",
   "metadata": {
    "id": "Za_gsbAZ6o5j"
   },
   "source": [
    "### AdaBoost 분류"
   ]
  },
  {
   "cell_type": "code",
   "execution_count": null,
   "metadata": {
    "id": "4RHbd5Xs6K49"
   },
   "outputs": [],
   "source": []
  },
  {
   "cell_type": "code",
   "execution_count": null,
   "metadata": {
    "colab": {
     "base_uri": "https://localhost:8080/",
     "height": 69
    },
    "id": "SQ0bYdUqHt23",
    "outputId": "ab921a0c-e2ae-4b47-9a6f-8816dda6c5b6"
   },
   "outputs": [],
   "source": []
  },
  {
   "cell_type": "code",
   "execution_count": null,
   "metadata": {
    "colab": {
     "base_uri": "https://localhost:8080/",
     "height": 69
    },
    "id": "_7NzxxKr_UBY",
    "outputId": "9f02c595-0ffb-403c-f038-a88d68461bb4"
   },
   "outputs": [],
   "source": []
  },
  {
   "cell_type": "code",
   "execution_count": null,
   "metadata": {
    "colab": {
     "base_uri": "https://localhost:8080/",
     "height": 69
    },
    "id": "yk2jId1LH6Xl",
    "outputId": "239e8737-e432-42fc-f57e-c6ed9519273e"
   },
   "outputs": [],
   "source": []
  },
  {
   "cell_type": "markdown",
   "metadata": {
    "id": "NFx-ob7q6zK1"
   },
   "source": [
    "### AdaBoost 회귀"
   ]
  },
  {
   "cell_type": "code",
   "execution_count": null,
   "metadata": {
    "id": "xd3DBHFi68tC"
   },
   "outputs": [],
   "source": []
  },
  {
   "cell_type": "code",
   "execution_count": null,
   "metadata": {
    "colab": {
     "base_uri": "https://localhost:8080/",
     "height": 69
    },
    "id": "W45kcSVKIJnq",
    "outputId": "ad55d70f-cfae-4ad7-d287-759b43e6f499"
   },
   "outputs": [],
   "source": []
  },
  {
   "cell_type": "code",
   "execution_count": null,
   "metadata": {
    "colab": {
     "base_uri": "https://localhost:8080/",
     "height": 69
    },
    "id": "ka-BHFVWIMnQ",
    "outputId": "f8c4153c-ab9c-4d89-ead1-a844010f2c79"
   },
   "outputs": [],
   "source": []
  },
  {
   "cell_type": "markdown",
   "metadata": {
    "id": "YeG2y1JB7T6z"
   },
   "source": [
    "## Gradient Tree Boosting\n",
    "\n",
    "* 임의의 차별화 가능한 손실함수로 일반화한 부스팅 알고리즘\n",
    "* 웹 검색, 분류 및 회귀 등 다양한 분야에서 모두 사용 가능"
   ]
  },
  {
   "cell_type": "code",
   "execution_count": null,
   "metadata": {
    "id": "0K_scQYk7DRm"
   },
   "outputs": [],
   "source": []
  },
  {
   "cell_type": "markdown",
   "metadata": {
    "id": "UnXayCIq-ANR"
   },
   "source": [
    "### Gradient Tree Boosting 분류"
   ]
  },
  {
   "cell_type": "code",
   "execution_count": null,
   "metadata": {
    "id": "US57OYu39_IS"
   },
   "outputs": [],
   "source": []
  },
  {
   "cell_type": "code",
   "execution_count": null,
   "metadata": {
    "colab": {
     "base_uri": "https://localhost:8080/",
     "height": 69
    },
    "id": "i5m3pir6Ia02",
    "outputId": "9e12841d-9a0b-4367-c2d5-ad7bccecc32d"
   },
   "outputs": [],
   "source": []
  },
  {
   "cell_type": "code",
   "execution_count": null,
   "metadata": {
    "colab": {
     "base_uri": "https://localhost:8080/",
     "height": 69
    },
    "id": "MmkKzQKU_WHg",
    "outputId": "8e740557-7625-468f-995e-c19cb3ebfef2"
   },
   "outputs": [],
   "source": []
  },
  {
   "cell_type": "code",
   "execution_count": null,
   "metadata": {
    "colab": {
     "base_uri": "https://localhost:8080/",
     "height": 69
    },
    "id": "VBitsXUmIe9B",
    "outputId": "c6fa8383-4274-4fdd-f68a-3996649fd1ac"
   },
   "outputs": [],
   "source": []
  },
  {
   "cell_type": "markdown",
   "metadata": {
    "id": "-DeP90dJ-Sy2"
   },
   "source": [
    "### Gradient Tree Boosting 회귀"
   ]
  },
  {
   "cell_type": "code",
   "execution_count": null,
   "metadata": {
    "id": "Cy3cq6VL-Q1v"
   },
   "outputs": [],
   "source": []
  },
  {
   "cell_type": "code",
   "execution_count": null,
   "metadata": {
    "colab": {
     "base_uri": "https://localhost:8080/",
     "height": 69
    },
    "id": "ZYw5ymXCIowr",
    "outputId": "4375c812-149e-45cb-ea0b-756ca6905afc"
   },
   "outputs": [],
   "source": []
  },
  {
   "cell_type": "code",
   "execution_count": null,
   "metadata": {
    "colab": {
     "base_uri": "https://localhost:8080/",
     "height": 69
    },
    "id": "S6gdorDUIsYv",
    "outputId": "a6e95858-a0ea-43e3-ceed-454562bee243"
   },
   "outputs": [],
   "source": []
  },
  {
   "cell_type": "markdown",
   "metadata": {
    "id": "u7RRhGKEBVdq"
   },
   "source": [
    "## 투표 기반 분류 (Voting Classifier)\n",
    "\n",
    "* 서로 다른 모델들의 결과를 투표를 통해 결합\n",
    "* 두가지 방법으로 투표 가능\n",
    "  * 가장 많이 예측된 클래스를 정답으로 채택 (hard voting)\n",
    "  * 예측된 확률의 가중치 평균 (soft voting)"
   ]
  },
  {
   "cell_type": "code",
   "execution_count": null,
   "metadata": {
    "id": "a5eAt-Yy-iBz"
   },
   "outputs": [],
   "source": []
  },
  {
   "cell_type": "code",
   "execution_count": null,
   "metadata": {
    "id": "toBoZ5I_EEy3"
   },
   "outputs": [],
   "source": []
  },
  {
   "cell_type": "code",
   "execution_count": null,
   "metadata": {
    "colab": {
     "base_uri": "https://localhost:8080/",
     "height": 87
    },
    "id": "jvwefdFDEYvz",
    "outputId": "598cbee9-7a8c-46bf-8eec-8de7f8aad2cc"
   },
   "outputs": [],
   "source": []
  },
  {
   "cell_type": "code",
   "execution_count": null,
   "metadata": {
    "id": "YNhj3WNzFCAb"
   },
   "outputs": [],
   "source": []
  },
  {
   "cell_type": "code",
   "execution_count": null,
   "metadata": {
    "colab": {
     "base_uri": "https://localhost:8080/",
     "height": 87
    },
    "id": "g89TYHdZOKL8",
    "outputId": "5e42f758-7c6c-4f07-d412-cfa58dbb74ae"
   },
   "outputs": [],
   "source": []
  },
  {
   "cell_type": "markdown",
   "metadata": {
    "id": "cjNwB2zaPItX"
   },
   "source": [
    "### 결정 경계 시각화"
   ]
  },
  {
   "cell_type": "code",
   "execution_count": null,
   "metadata": {
    "id": "nn8lgvWYPner"
   },
   "outputs": [],
   "source": []
  },
  {
   "cell_type": "code",
   "execution_count": null,
   "metadata": {
    "id": "SB_Bx4hKPs9-"
   },
   "outputs": [],
   "source": []
  },
  {
   "cell_type": "code",
   "execution_count": null,
   "metadata": {
    "id": "FEpQ0g-0Pwn8"
   },
   "outputs": [],
   "source": []
  },
  {
   "cell_type": "code",
   "execution_count": null,
   "metadata": {
    "id": "z1o_9XWKQthC"
   },
   "outputs": [],
   "source": []
  },
  {
   "cell_type": "code",
   "execution_count": null,
   "metadata": {
    "colab": {
     "base_uri": "https://localhost:8080/",
     "height": 494
    },
    "id": "umDuzyVDOML5",
    "outputId": "3ddb2381-8133-4a31-d19a-b2269491646a"
   },
   "outputs": [],
   "source": []
  },
  {
   "cell_type": "markdown",
   "metadata": {
    "id": "0m5WCAyLSOdK"
   },
   "source": [
    "## 투표 기반 회귀 (Voting Regressor)\n",
    "\n",
    "* 서로 다른 모델의 예측 값의 평균을 사용"
   ]
  },
  {
   "cell_type": "code",
   "execution_count": null,
   "metadata": {
    "id": "uMQxrXDAPNuf"
   },
   "outputs": [],
   "source": []
  },
  {
   "cell_type": "code",
   "execution_count": null,
   "metadata": {
    "id": "eKyebVgqUHdN"
   },
   "outputs": [],
   "source": []
  },
  {
   "cell_type": "code",
   "execution_count": null,
   "metadata": {
    "colab": {
     "base_uri": "https://localhost:8080/",
     "height": 87
    },
    "id": "aYMKZc96UGoA",
    "outputId": "2157352f-32f6-407d-f68b-ae7c0733aaf8"
   },
   "outputs": [],
   "source": []
  },
  {
   "cell_type": "markdown",
   "metadata": {
    "id": "ArvS3YLlMgvM"
   },
   "source": [
    "### 회귀식 시각화"
   ]
  },
  {
   "cell_type": "code",
   "execution_count": null,
   "metadata": {
    "id": "NDby8qq_NpI6"
   },
   "outputs": [],
   "source": []
  },
  {
   "cell_type": "code",
   "execution_count": null,
   "metadata": {
    "id": "afUEA95cMfik"
   },
   "outputs": [],
   "source": []
  },
  {
   "cell_type": "code",
   "execution_count": null,
   "metadata": {
    "id": "jsy4R-0PMwER"
   },
   "outputs": [],
   "source": []
  },
  {
   "cell_type": "code",
   "execution_count": null,
   "metadata": {
    "colab": {
     "base_uri": "https://localhost:8080/",
     "height": 494
    },
    "id": "TjgHFKa8M8O9",
    "outputId": "bbe0ce63-8ca9-47d9-cf2e-aa942d5ca2a6"
   },
   "outputs": [],
   "source": []
  },
  {
   "cell_type": "markdown",
   "metadata": {
    "id": "kWWPpi2hVaGe"
   },
   "source": [
    "## 스택 일반화 (Stacked Generalization)\n",
    "\n",
    "* 각 모델의 예측 값을 최종 모델의 입력으로 사용\n",
    "* 모델의 편향을 줄이는데 효과적"
   ]
  },
  {
   "cell_type": "markdown",
   "metadata": {
    "id": "EfJBCBFSXaa3"
   },
   "source": [
    "### 스택 회귀"
   ]
  },
  {
   "cell_type": "code",
   "execution_count": null,
   "metadata": {
    "id": "Ai4cpbSpUanA"
   },
   "outputs": [],
   "source": []
  },
  {
   "cell_type": "code",
   "execution_count": null,
   "metadata": {
    "id": "22wwT8jDXf6D"
   },
   "outputs": [],
   "source": []
  },
  {
   "cell_type": "code",
   "execution_count": null,
   "metadata": {
    "id": "GcWHiyQ7YAsh"
   },
   "outputs": [],
   "source": []
  },
  {
   "cell_type": "code",
   "execution_count": null,
   "metadata": {
    "colab": {
     "base_uri": "https://localhost:8080/",
     "height": 69
    },
    "id": "IJskro0HYKOe",
    "outputId": "37c0bccf-8326-464b-d9ef-5e39b8575fbf"
   },
   "outputs": [],
   "source": []
  },
  {
   "cell_type": "markdown",
   "metadata": {
    "id": "Is4akp2ePaax"
   },
   "source": [
    "#### 회귀식 시각화"
   ]
  },
  {
   "cell_type": "code",
   "execution_count": null,
   "metadata": {
    "id": "vzcOBF80Pd1q"
   },
   "outputs": [],
   "source": []
  },
  {
   "cell_type": "code",
   "execution_count": null,
   "metadata": {
    "id": "-EjdXk9-Phm-"
   },
   "outputs": [],
   "source": []
  },
  {
   "cell_type": "code",
   "execution_count": null,
   "metadata": {
    "colab": {
     "base_uri": "https://localhost:8080/",
     "height": 494
    },
    "id": "DrC6uxPsP0Ga",
    "outputId": "fef9ffac-7f4b-41ef-f77b-15074c550802"
   },
   "outputs": [],
   "source": []
  },
  {
   "cell_type": "markdown",
   "metadata": {
    "id": "qcDf7iN1ZybO"
   },
   "source": [
    "### 스택 분류"
   ]
  },
  {
   "cell_type": "code",
   "execution_count": null,
   "metadata": {
    "id": "_5HNrFRtZxqZ"
   },
   "outputs": [],
   "source": []
  },
  {
   "cell_type": "code",
   "execution_count": null,
   "metadata": {
    "id": "IZn3h6vDaJ8i"
   },
   "outputs": [],
   "source": []
  },
  {
   "cell_type": "code",
   "execution_count": null,
   "metadata": {
    "id": "KTFUC1IsaarE"
   },
   "outputs": [],
   "source": []
  },
  {
   "cell_type": "code",
   "execution_count": null,
   "metadata": {
    "colab": {
     "base_uri": "https://localhost:8080/",
     "height": 69
    },
    "id": "oYhRPbcWanfY",
    "outputId": "01e00138-43c9-4aa5-fc81-d2746f1d8f97"
   },
   "outputs": [],
   "source": []
  },
  {
   "cell_type": "markdown",
   "metadata": {
    "id": "m2NyQnIqQxg9"
   },
   "source": [
    "#### 결정 경계 시각화"
   ]
  },
  {
   "cell_type": "code",
   "execution_count": null,
   "metadata": {
    "id": "Ef_zvJUljAiM"
   },
   "outputs": [],
   "source": []
  },
  {
   "cell_type": "code",
   "execution_count": null,
   "metadata": {
    "id": "Sktdwb4kjAic"
   },
   "outputs": [],
   "source": []
  },
  {
   "cell_type": "code",
   "execution_count": null,
   "metadata": {
    "id": "3otRWNYsjAig"
   },
   "outputs": [],
   "source": []
  },
  {
   "cell_type": "code",
   "execution_count": null,
   "metadata": {
    "colab": {
     "base_uri": "https://localhost:8080/",
     "height": 494
    },
    "id": "76FMoLuHjAik",
    "outputId": "395fed9a-8288-478a-c590-c5d6c0b55a3e"
   },
   "outputs": [],
   "source": []
  }
 ],
 "metadata": {
  "colab": {
   "collapsed_sections": [],
   "name": "_9 앙상블(Ensemble).ipynb",
   "provenance": []
  },
  "kernelspec": {
   "display_name": "Python 3 (ipykernel)",
   "language": "python",
   "name": "python3"
  },
  "language_info": {
   "codemirror_mode": {
    "name": "ipython",
    "version": 3
   },
   "file_extension": ".py",
   "mimetype": "text/x-python",
   "name": "python",
   "nbconvert_exporter": "python",
   "pygments_lexer": "ipython3",
   "version": "3.9.1"
  }
 },
 "nbformat": 4,
 "nbformat_minor": 1
}
