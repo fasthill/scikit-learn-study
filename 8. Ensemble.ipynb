{
 "cells": [
  {
   "cell_type": "markdown",
   "metadata": {},
   "source": [
    "From 이수안 컴퓨터: http://suanlab.com/youtube/ml.html"
   ]
  },
  {
   "cell_type": "markdown",
   "metadata": {
    "id": "b2MQEkXAYQeB"
   },
   "source": [
    "# 앙상블(Ensemble)\n",
    "\n",
    "* 일반화와 강건성(Robustness)을 향상시키기 위해 여러 모델의 예측 값을 결합하는 방법\n",
    "* 앙상블에는 크게 두가지 종류가 존재\n",
    "  * 평균 방법\n",
    "    * 여러개의 추정값을 독립적으로 구한뒤 평균을 취함\n",
    "    * 결합 추정값은 분산이 줄어들기 때문에 단일 추정값보다 좋은 성능을 보임\n",
    "  * 부스팅 방법\n",
    "    * 순차적으로 모델 생성\n",
    "    * 결합된 모델의 편향을 감소 시키기 위해 노력\n",
    "    * 부스팅 방법의 목표는 여러개의 약한 모델들을 결합해 하나의 강력한 앙상블 모델을 구축하는 것"
   ]
  },
  {
   "cell_type": "markdown",
   "metadata": {
    "id": "nT_iMqd0do5N"
   },
   "source": [
    "## Bagging meta-estimator\n",
    "\n",
    "* bagging은 bootstrap aggregating의 줄임말\n",
    "* 원래 훈련 데이터셋의 일부를 사용해 여러 모델을 훈련\n",
    "* 각각의 결과를 결합해 최종 결과를 생성\n",
    "* 분산을 줄이고 과적합을 막음\n",
    "* 강력하고 복잡한 모델에서 잘 동작"
   ]
  },
  {
   "cell_type": "code",
   "execution_count": 1,
   "metadata": {
    "id": "DeBq-DEl4Mxc"
   },
   "outputs": [],
   "source": [
    "import numpy as np\n",
    "import pandas as pd\n",
    "import multiprocessing\n",
    "\n",
    "from sklearn.datasets import load_iris, load_wine, load_breast_cancer, load_boston\n",
    "from sklearn.preprocessing import StandardScaler\n",
    "from sklearn.pipeline import make_pipeline\n",
    "from sklearn.model_selection import train_test_split, cross_val_score, cross_validate\n",
    "\n",
    "from sklearn.ensemble import BaggingClassifier, BaggingRegressor\n",
    "from sklearn.neighbors import KNeighborsClassifier, KNeighborsRegressor\n",
    "from sklearn.svm import SVC, SVR\n",
    "from sklearn.tree import DecisionTreeClassifier, DecisionTreeRegressor"
   ]
  },
  {
   "cell_type": "code",
   "execution_count": 2,
   "metadata": {},
   "outputs": [],
   "source": [
    "seed = 2022\n",
    "np.random.seed(seed)"
   ]
  },
  {
   "cell_type": "markdown",
   "metadata": {
    "id": "bnC_CfiDf3kC"
   },
   "source": [
    "### Bagging을 사용한 분류"
   ]
  },
  {
   "cell_type": "markdown",
   "metadata": {
    "id": "yw2FY84r4zQR"
   },
   "source": [
    "#### 데이터셋 불러오기"
   ]
  },
  {
   "cell_type": "code",
   "execution_count": 3,
   "metadata": {
    "id": "6DlynlPmf-3Y"
   },
   "outputs": [],
   "source": [
    "iris = load_iris()\n",
    "wine = load_wine()\n",
    "cancer = load_breast_cancer()"
   ]
  },
  {
   "cell_type": "markdown",
   "metadata": {
    "id": "9XzfsGdL4_YF"
   },
   "source": [
    "#### KNN"
   ]
  },
  {
   "cell_type": "markdown",
   "metadata": {
    "id": "h5TYJLtQ8k70"
   },
   "source": [
    "##### 붓꽃 데이터"
   ]
  },
  {
   "cell_type": "code",
   "execution_count": 4,
   "metadata": {
    "id": "vqMhwq26gIl9"
   },
   "outputs": [],
   "source": [
    "base_model = make_pipeline(StandardScaler(),\n",
    "                          KNeighborsClassifier())\n",
    "\n",
    "bagging_model = BaggingClassifier(base_model,\n",
    "                                  n_estimators=10,\n",
    "                                  max_samples=0.5, # 50% 사용\n",
    "                                  max_features=0.5, # 50% 사용\n",
    "                                 )"
   ]
  },
  {
   "cell_type": "code",
   "execution_count": 5,
   "metadata": {},
   "outputs": [
    {
     "name": "stdout",
     "output_type": "stream",
     "text": [
      "avg fit time: 0.002598142623901367 (+/- 0.0007992267822011628)\n",
      "avg score time: 0.004198265075683594 (+/- 0.0007478315063778037)\n",
      "avg test score: 0.96 (+/- 0.024944382578492935)\n"
     ]
    }
   ],
   "source": [
    "cross_val = cross_validate(estimator=base_model,\n",
    "               X=iris.data, y=iris.target,\n",
    "               cv=5,)\n",
    "\n",
    "print('avg fit time: {} (+/- {})'.format(cross_val['fit_time'].mean(), cross_val['fit_time'].std()))\n",
    "print('avg score time: {} (+/- {})'.format(cross_val['score_time'].mean(), cross_val['score_time'].std()))\n",
    "print('avg test score: {} (+/- {})'.format(cross_val['test_score'].mean(), cross_val['test_score'].std()))"
   ]
  },
  {
   "cell_type": "code",
   "execution_count": 6,
   "metadata": {
    "colab": {
     "base_uri": "https://localhost:8080/",
     "height": 69
    },
    "id": "m-fGDZoD52eY",
    "outputId": "d4567e74-e3ee-4ca6-a8e2-7d3d00233931"
   },
   "outputs": [
    {
     "name": "stdout",
     "output_type": "stream",
     "text": [
      "avg fit time: 0.06436243057250976 (+/- 0.013829491799255234)\n",
      "avg score time: 0.020389080047607422 (+/- 0.0038226230211636336)\n",
      "avg test score: 0.9533333333333334 (+/- 0.02666666666666666)\n"
     ]
    }
   ],
   "source": [
    "cross_val = cross_validate(estimator=bagging_model,\n",
    "               X=iris.data, y=iris.target,\n",
    "               cv=5,)\n",
    "\n",
    "print('avg fit time: {} (+/- {})'.format(cross_val['fit_time'].mean(), cross_val['fit_time'].std()))\n",
    "print('avg score time: {} (+/- {})'.format(cross_val['score_time'].mean(), cross_val['score_time'].std()))\n",
    "print('avg test score: {} (+/- {})'.format(cross_val['test_score'].mean(), cross_val['test_score'].std()))"
   ]
  },
  {
   "cell_type": "markdown",
   "metadata": {
    "id": "aake5r8-_FLh"
   },
   "source": [
    "##### 와인 데이터"
   ]
  },
  {
   "cell_type": "code",
   "execution_count": 7,
   "metadata": {
    "id": "kSNvIhxp_FLl"
   },
   "outputs": [],
   "source": [
    "base_model = make_pipeline(StandardScaler(),\n",
    "                          KNeighborsClassifier())\n",
    "\n",
    "bagging_model = BaggingClassifier(base_model,\n",
    "                                  n_estimators=10,\n",
    "                                  max_samples=0.5, # 50% 사용\n",
    "                                  max_features=0.5, # 50% 사용\n",
    "                                 )"
   ]
  },
  {
   "cell_type": "code",
   "execution_count": 8,
   "metadata": {
    "colab": {
     "base_uri": "https://localhost:8080/",
     "height": 69
    },
    "id": "_gyzWbDi_FLt",
    "outputId": "a2276c69-32e5-41ee-b811-aebd9c7d9fae"
   },
   "outputs": [
    {
     "name": "stdout",
     "output_type": "stream",
     "text": [
      "avg fit time: 0.004598093032836914 (+/- 0.001018740034177349)\n",
      "avg score time: 0.009793806076049804 (+/- 0.0031860029908464373)\n",
      "avg test score: 0.9493650793650794 (+/- 0.037910929811115976)\n"
     ]
    }
   ],
   "source": [
    "cross_val = cross_validate(estimator=base_model,\n",
    "               X=wine.data, y=wine.target,\n",
    "               cv=5,)\n",
    "\n",
    "print('avg fit time: {} (+/- {})'.format(cross_val['fit_time'].mean(), cross_val['fit_time'].std()))\n",
    "print('avg score time: {} (+/- {})'.format(cross_val['score_time'].mean(), cross_val['score_time'].std()))\n",
    "print('avg test score: {} (+/- {})'.format(cross_val['test_score'].mean(), cross_val['test_score'].std()))"
   ]
  },
  {
   "cell_type": "code",
   "execution_count": 9,
   "metadata": {
    "colab": {
     "base_uri": "https://localhost:8080/",
     "height": 69
    },
    "id": "omJWcpZ0_FLx",
    "outputId": "db143ca1-1485-4d28-fb5b-19c2859435f1"
   },
   "outputs": [
    {
     "name": "stdout",
     "output_type": "stream",
     "text": [
      "avg fit time: 0.06935510635375977 (+/- 0.0102401677823819)\n",
      "avg score time: 0.029389142990112305 (+/- 0.007809394030072566)\n",
      "avg test score: 0.9607936507936508 (+/- 0.022468028291073656)\n"
     ]
    }
   ],
   "source": [
    "cross_val = cross_validate(estimator=bagging_model,\n",
    "               X=wine.data, y=wine.target,\n",
    "               cv=5,)\n",
    "\n",
    "print('avg fit time: {} (+/- {})'.format(cross_val['fit_time'].mean(), cross_val['fit_time'].std()))\n",
    "print('avg score time: {} (+/- {})'.format(cross_val['score_time'].mean(), cross_val['score_time'].std()))\n",
    "print('avg test score: {} (+/- {})'.format(cross_val['test_score'].mean(), cross_val['test_score'].std()))"
   ]
  },
  {
   "cell_type": "markdown",
   "metadata": {
    "id": "iPKP6KIy8nso"
   },
   "source": [
    "##### 유방암 데이터"
   ]
  },
  {
   "cell_type": "code",
   "execution_count": 10,
   "metadata": {
    "id": "ehkY0oDU8piY"
   },
   "outputs": [],
   "source": [
    "base_model = make_pipeline(StandardScaler(),\n",
    "                          KNeighborsClassifier())\n",
    "\n",
    "bagging_model = BaggingClassifier(base_model,\n",
    "                                  n_estimators=10,\n",
    "                                  max_samples=0.5, # 50% 사용\n",
    "                                  max_features=0.5, # 50% 사용\n",
    "                                 )"
   ]
  },
  {
   "cell_type": "code",
   "execution_count": 11,
   "metadata": {
    "colab": {
     "base_uri": "https://localhost:8080/",
     "height": 69
    },
    "id": "3RKRD3sN9Z0k",
    "outputId": "0bb8c1db-a9f7-490e-8568-c50de5d03293"
   },
   "outputs": [
    {
     "name": "stdout",
     "output_type": "stream",
     "text": [
      "avg fit time: 0.003598308563232422 (+/- 0.0004889871618716363)\n",
      "avg score time: 0.015390396118164062 (+/- 0.0054224933165927846)\n",
      "avg test score: 0.9648501785437045 (+/- 0.009609970350036127)\n"
     ]
    }
   ],
   "source": [
    "cross_val = cross_validate(estimator=base_model,\n",
    "               X=cancer.data, y=cancer.target,\n",
    "               cv=5,)\n",
    "\n",
    "print('avg fit time: {} (+/- {})'.format(cross_val['fit_time'].mean(), cross_val['fit_time'].std()))\n",
    "print('avg score time: {} (+/- {})'.format(cross_val['score_time'].mean(), cross_val['score_time'].std()))\n",
    "print('avg test score: {} (+/- {})'.format(cross_val['test_score'].mean(), cross_val['test_score'].std()))"
   ]
  },
  {
   "cell_type": "code",
   "execution_count": 12,
   "metadata": {
    "colab": {
     "base_uri": "https://localhost:8080/",
     "height": 69
    },
    "id": "xcNn5ihb9etn",
    "outputId": "8988ae57-aabc-4d1e-ff5c-201f6e6440ec"
   },
   "outputs": [
    {
     "name": "stdout",
     "output_type": "stream",
     "text": [
      "avg fit time: 0.09934301376342773 (+/- 0.043432684599444465)\n",
      "avg score time: 0.041975879669189455 (+/- 0.011003481596416882)\n",
      "avg test score: 0.9630957925787922 (+/- 0.010219838955441114)\n"
     ]
    }
   ],
   "source": [
    "cross_val = cross_validate(estimator=bagging_model,\n",
    "               X=cancer.data, y=cancer.target,\n",
    "               cv=5,)\n",
    "\n",
    "print('avg fit time: {} (+/- {})'.format(cross_val['fit_time'].mean(), cross_val['fit_time'].std()))\n",
    "print('avg score time: {} (+/- {})'.format(cross_val['score_time'].mean(), cross_val['score_time'].std()))\n",
    "print('avg test score: {} (+/- {})'.format(cross_val['test_score'].mean(), cross_val['test_score'].std()))"
   ]
  },
  {
   "cell_type": "markdown",
   "metadata": {
    "id": "c6cXnxEZ90NR"
   },
   "source": [
    "#### SVC"
   ]
  },
  {
   "cell_type": "markdown",
   "metadata": {
    "id": "yFolvlY393Pv"
   },
   "source": [
    "##### 붓꽃 데이터"
   ]
  },
  {
   "cell_type": "code",
   "execution_count": 13,
   "metadata": {
    "id": "p8sUZEe798Wn"
   },
   "outputs": [],
   "source": [
    "base_model = make_pipeline(StandardScaler(),\n",
    "                          SVC())\n",
    "\n",
    "bagging_model = BaggingClassifier(base_model,\n",
    "                                  n_estimators=10,\n",
    "                                  max_samples=0.5, # 50% 사용\n",
    "                                  max_features=0.5, # 50% 사용\n",
    "                                 )"
   ]
  },
  {
   "cell_type": "code",
   "execution_count": 14,
   "metadata": {
    "colab": {
     "base_uri": "https://localhost:8080/",
     "height": 69
    },
    "id": "OsPUpJp19_rt",
    "outputId": "7f90d957-df48-4811-fea2-16350e3549ca"
   },
   "outputs": [
    {
     "name": "stdout",
     "output_type": "stream",
     "text": [
      "avg fit time: 0.0033935070037841796 (+/- 0.0004855644184291338)\n",
      "avg score time: 0.0009989261627197266 (+/- 1.4415947397070861e-06)\n",
      "avg test score: 0.9666666666666666 (+/- 0.02108185106778919)\n"
     ]
    }
   ],
   "source": [
    "cross_val = cross_validate(estimator=base_model,\n",
    "               X=iris.data, y=iris.target,\n",
    "               cv=5,)\n",
    "\n",
    "print('avg fit time: {} (+/- {})'.format(cross_val['fit_time'].mean(), cross_val['fit_time'].std()))\n",
    "print('avg score time: {} (+/- {})'.format(cross_val['score_time'].mean(), cross_val['score_time'].std()))\n",
    "print('avg test score: {} (+/- {})'.format(cross_val['test_score'].mean(), cross_val['test_score'].std()))"
   ]
  },
  {
   "cell_type": "code",
   "execution_count": 15,
   "metadata": {
    "colab": {
     "base_uri": "https://localhost:8080/",
     "height": 69
    },
    "id": "3pynPIPD-FtO",
    "outputId": "25f9ba02-7456-4727-ed4d-fcc6b3cfa025"
   },
   "outputs": [
    {
     "name": "stdout",
     "output_type": "stream",
     "text": [
      "avg fit time: 0.0549659252166748 (+/- 0.002532194921610228)\n",
      "avg score time: 0.008402585983276367 (+/- 0.000490940362666761)\n",
      "avg test score: 0.9399999999999998 (+/- 0.024944382578492935)\n"
     ]
    }
   ],
   "source": [
    "cross_val = cross_validate(estimator=bagging_model,\n",
    "               X=iris.data, y=iris.target,\n",
    "               cv=5,)\n",
    "\n",
    "print('avg fit time: {} (+/- {})'.format(cross_val['fit_time'].mean(), cross_val['fit_time'].std()))\n",
    "print('avg score time: {} (+/- {})'.format(cross_val['score_time'].mean(), cross_val['score_time'].std()))\n",
    "print('avg test score: {} (+/- {})'.format(cross_val['test_score'].mean(), cross_val['test_score'].std()))"
   ]
  },
  {
   "cell_type": "code",
   "execution_count": 16,
   "metadata": {},
   "outputs": [
    {
     "data": {
      "text/plain": [
       "dict_keys(['fit_time', 'score_time', 'test_score'])"
      ]
     },
     "execution_count": 16,
     "metadata": {},
     "output_type": "execute_result"
    }
   ],
   "source": [
    "cross_val.keys()"
   ]
  },
  {
   "cell_type": "markdown",
   "metadata": {
    "id": "BAVcL_DG_HgP"
   },
   "source": [
    "##### 와인 데이터"
   ]
  },
  {
   "cell_type": "code",
   "execution_count": 17,
   "metadata": {
    "id": "p8sUZEe798Wn"
   },
   "outputs": [],
   "source": [
    "base_model = make_pipeline(StandardScaler(),\n",
    "                          SVC())\n",
    "\n",
    "bagging_model = BaggingClassifier(base_model,\n",
    "                                  n_estimators=10,\n",
    "                                  max_samples=0.5, # 50% 사용\n",
    "                                  max_features=0.5, # 50% 사용\n",
    "                                 )"
   ]
  },
  {
   "cell_type": "code",
   "execution_count": 18,
   "metadata": {
    "colab": {
     "base_uri": "https://localhost:8080/",
     "height": 69
    },
    "id": "OsPUpJp19_rt",
    "outputId": "7f90d957-df48-4811-fea2-16350e3549ca"
   },
   "outputs": [
    {
     "name": "stdout",
     "output_type": "stream",
     "text": [
      "avg fit time: 0.009194469451904297 (+/- 0.0031849167341325094)\n",
      "avg score time: 0.0023985862731933593 (+/- 0.0004898041858020194)\n",
      "avg test score: 0.9833333333333334 (+/- 0.022222222222222233)\n"
     ]
    }
   ],
   "source": [
    "cross_val = cross_validate(estimator=base_model,\n",
    "               X=wine.data, y=wine.target,\n",
    "               cv=5,)\n",
    "\n",
    "print('avg fit time: {} (+/- {})'.format(cross_val['fit_time'].mean(), cross_val['fit_time'].std()))\n",
    "print('avg score time: {} (+/- {})'.format(cross_val['score_time'].mean(), cross_val['score_time'].std()))\n",
    "print('avg test score: {} (+/- {})'.format(cross_val['test_score'].mean(), cross_val['test_score'].std()))"
   ]
  },
  {
   "cell_type": "code",
   "execution_count": 19,
   "metadata": {
    "colab": {
     "base_uri": "https://localhost:8080/",
     "height": 69
    },
    "id": "3pynPIPD-FtO",
    "outputId": "25f9ba02-7456-4727-ed4d-fcc6b3cfa025"
   },
   "outputs": [
    {
     "name": "stdout",
     "output_type": "stream",
     "text": [
      "avg fit time: 0.07455801963806152 (+/- 0.025741224536144098)\n",
      "avg score time: 0.013795566558837891 (+/- 0.008605604462818356)\n",
      "avg test score: 0.9665079365079364 (+/- 0.027185986341561497)\n"
     ]
    }
   ],
   "source": [
    "cross_val = cross_validate(estimator=bagging_model,\n",
    "               X=wine.data, y=wine.target,\n",
    "               cv=5,)\n",
    "\n",
    "print('avg fit time: {} (+/- {})'.format(cross_val['fit_time'].mean(), cross_val['fit_time'].std()))\n",
    "print('avg score time: {} (+/- {})'.format(cross_val['score_time'].mean(), cross_val['score_time'].std()))\n",
    "print('avg test score: {} (+/- {})'.format(cross_val['test_score'].mean(), cross_val['test_score'].std()))"
   ]
  },
  {
   "cell_type": "code",
   "execution_count": 20,
   "metadata": {},
   "outputs": [],
   "source": [
    "X_train, X_test, y_train, y_test = train_test_split(wine.data, wine.target, test_size=0.2, random_state=seed)"
   ]
  },
  {
   "cell_type": "code",
   "execution_count": 21,
   "metadata": {
    "colab": {
     "base_uri": "https://localhost:8080/",
     "height": 69
    },
    "id": "V_dzw9UH_HgS",
    "outputId": "85f82796-56f0-445c-f114-bea0fe96471a"
   },
   "outputs": [
    {
     "name": "stdout",
     "output_type": "stream",
     "text": [
      "base model 훈련 정확도: 1.0\n"
     ]
    }
   ],
   "source": [
    "base_model = make_pipeline(StandardScaler(),\n",
    "                          SVC())\n",
    "base_model.fit(X_train, y_train)\n",
    "print('base model 훈련 정확도: {}'.format(base_model.score(wine.data, wine.target)))"
   ]
  },
  {
   "cell_type": "code",
   "execution_count": 22,
   "metadata": {},
   "outputs": [
    {
     "name": "stdout",
     "output_type": "stream",
     "text": [
      "base model 테스트 정확도: 0.9831460674157303\n"
     ]
    }
   ],
   "source": [
    "base_model = make_pipeline(StandardScaler(),\n",
    "                          SVC())\n",
    "base_model.fit(X_test, y_test)\n",
    "print('base model 테스트 정확도: {}'.format(base_model.score(wine.data, wine.target)))"
   ]
  },
  {
   "cell_type": "code",
   "execution_count": 23,
   "metadata": {
    "colab": {
     "base_uri": "https://localhost:8080/",
     "height": 69
    },
    "id": "VBxzVY2V_HgT",
    "outputId": "540c0922-7965-4d06-98e9-add91b554dd8"
   },
   "outputs": [
    {
     "name": "stdout",
     "output_type": "stream",
     "text": [
      "bagging model 훈련 정확도: 0.9943820224719101\n"
     ]
    }
   ],
   "source": [
    "base_model = make_pipeline(StandardScaler(),\n",
    "                          SVC())\n",
    "\n",
    "bagging_model = BaggingClassifier(base_model,\n",
    "                                  n_estimators=10,\n",
    "                                  max_samples=0.5, # 50% 사용\n",
    "                                  max_features=0.5, # 50% 사용\n",
    "                                 )\n",
    "\n",
    "bagging_model.fit(X_train, y_train)\n",
    "print('bagging model 훈련 정확도: {}'.format(bagging_model.score(wine.data, wine.target)))"
   ]
  },
  {
   "cell_type": "code",
   "execution_count": 24,
   "metadata": {},
   "outputs": [
    {
     "name": "stdout",
     "output_type": "stream",
     "text": [
      "bagging model 테스트 정확도: 0.9269662921348315\n"
     ]
    }
   ],
   "source": [
    "base_model = make_pipeline(StandardScaler(),\n",
    "                          SVC())\n",
    "\n",
    "bagging_model = BaggingClassifier(base_model,\n",
    "                                  n_estimators=10,\n",
    "                                  max_samples=0.5, # 50% 사용\n",
    "                                  max_features=0.5, # 50% 사용\n",
    "                                 )\n",
    "\n",
    "bagging_model.fit(X_test, y_test)\n",
    "print('bagging model 테스트 정확도: {}'.format(bagging_model.score(wine.data, wine.target)))"
   ]
  },
  {
   "cell_type": "markdown",
   "metadata": {
    "id": "59r3mE7H92wX"
   },
   "source": [
    "##### 유방암 데이터"
   ]
  },
  {
   "cell_type": "code",
   "execution_count": 25,
   "metadata": {},
   "outputs": [],
   "source": [
    "cancer = load_breast_cancer()"
   ]
  },
  {
   "cell_type": "code",
   "execution_count": 26,
   "metadata": {},
   "outputs": [],
   "source": [
    "base_model = make_pipeline(StandardScaler(),\n",
    "                          SVC())"
   ]
  },
  {
   "cell_type": "code",
   "execution_count": 27,
   "metadata": {},
   "outputs": [],
   "source": [
    "bagging_model = BaggingClassifier(base_model,\n",
    "                                  n_estimators=10,\n",
    "                                  max_samples=0.5, # 50% 사용\n",
    "                                  max_features=0.5, # 50% 사용\n",
    "                                 )"
   ]
  },
  {
   "cell_type": "code",
   "execution_count": 28,
   "metadata": {},
   "outputs": [
    {
     "name": "stderr",
     "output_type": "stream",
     "text": [
      "[Parallel(n_jobs=1)]: Using backend SequentialBackend with 1 concurrent workers.\n",
      "[Parallel(n_jobs=1)]: Done   5 out of   5 | elapsed:    0.0s finished\n"
     ]
    }
   ],
   "source": [
    "cross_val = cross_validate(estimator=base_model,\n",
    "              X=cancer.data, y=cancer.target,\n",
    "              cv=5, verbose=1)"
   ]
  },
  {
   "cell_type": "code",
   "execution_count": 29,
   "metadata": {},
   "outputs": [
    {
     "name": "stdout",
     "output_type": "stream",
     "text": [
      "avg fit time: 0.01039419174194336 (+/- 0.0004897069698645339)\n",
      "avg score time: 0.004597091674804687 (+/- 0.000489512201374942)\n",
      "avg test score: 0.9736376339077782 (+/- 0.014678541667933545)\n"
     ]
    }
   ],
   "source": [
    "print('avg fit time: {} (+/- {})'.format(cross_val['fit_time'].mean(), cross_val['fit_time'].std()))\n",
    "print('avg score time: {} (+/- {})'.format(cross_val['score_time'].mean(), cross_val['score_time'].std()))\n",
    "print('avg test score: {} (+/- {})'.format(cross_val['test_score'].mean(), cross_val['test_score'].std()))"
   ]
  },
  {
   "cell_type": "code",
   "execution_count": 30,
   "metadata": {},
   "outputs": [
    {
     "name": "stdout",
     "output_type": "stream",
     "text": [
      "bagging model 테스트 정확도: 0.9876977152899824\n"
     ]
    }
   ],
   "source": [
    "base_model.fit(cancer.data, cancer.target)\n",
    "print('bagging model 테스트 정확도: {}'.format(base_model.score(cancer.data, cancer.target)))"
   ]
  },
  {
   "cell_type": "code",
   "execution_count": 31,
   "metadata": {},
   "outputs": [
    {
     "name": "stderr",
     "output_type": "stream",
     "text": [
      "[Parallel(n_jobs=1)]: Using backend SequentialBackend with 1 concurrent workers.\n",
      "[Parallel(n_jobs=1)]: Done   5 out of   5 | elapsed:    0.5s finished\n"
     ]
    }
   ],
   "source": [
    "cross_val = cross_validate(estimator=bagging_model,\n",
    "              X=cancer.data, y=cancer.target,\n",
    "              cv=5, verbose=1)"
   ]
  },
  {
   "cell_type": "code",
   "execution_count": 32,
   "metadata": {},
   "outputs": [
    {
     "name": "stdout",
     "output_type": "stream",
     "text": [
      "avg fit time: 0.0783599853515625 (+/- 0.00726944897503338)\n",
      "avg score time: 0.035175418853759764 (+/- 0.012537581603470401)\n",
      "avg test score: 0.9613258810743673 (+/- 0.016295338833238505)\n"
     ]
    }
   ],
   "source": [
    "print('avg fit time: {} (+/- {})'.format(cross_val['fit_time'].mean(), cross_val['fit_time'].std()))\n",
    "print('avg score time: {} (+/- {})'.format(cross_val['score_time'].mean(), cross_val['score_time'].std()))\n",
    "print('avg test score: {} (+/- {})'.format(cross_val['test_score'].mean(), cross_val['test_score'].std()))"
   ]
  },
  {
   "cell_type": "code",
   "execution_count": 33,
   "metadata": {},
   "outputs": [
    {
     "name": "stdout",
     "output_type": "stream",
     "text": [
      "bagging model 테스트 정확도: 0.9771528998242531\n"
     ]
    }
   ],
   "source": [
    "bagging_model.fit(cancer.data, cancer.target)\n",
    "print('bagging model 테스트 정확도: {}'.format(bagging_model.score(cancer.data, cancer.target)))"
   ]
  },
  {
   "cell_type": "markdown",
   "metadata": {
    "id": "Gtpz-2Ly-gF2"
   },
   "source": [
    "#### Decision Tree"
   ]
  },
  {
   "cell_type": "markdown",
   "metadata": {
    "id": "3A4T9Bv--jF-"
   },
   "source": [
    "##### 붓꽃 데이터"
   ]
  },
  {
   "cell_type": "code",
   "execution_count": 34,
   "metadata": {
    "id": "uIoFBCuG-nZo"
   },
   "outputs": [],
   "source": [
    "base_model = make_pipeline(StandardScaler(),\n",
    "                          DecisionTreeClassifier())"
   ]
  },
  {
   "cell_type": "code",
   "execution_count": 35,
   "metadata": {
    "colab": {
     "base_uri": "https://localhost:8080/",
     "height": 69
    },
    "id": "uXfCtpMp-rZm",
    "outputId": "45ea24c2-3caf-4d00-8d40-d45c98449757"
   },
   "outputs": [],
   "source": [
    "bagging_model = BaggingClassifier(base_model,\n",
    "                                  n_estimators=10,\n",
    "                                  max_features=0.5,\n",
    "                                  max_samples=0.5)"
   ]
  },
  {
   "cell_type": "code",
   "execution_count": 36,
   "metadata": {
    "colab": {
     "base_uri": "https://localhost:8080/",
     "height": 69
    },
    "id": "b5Rx77at-xaC",
    "outputId": "f2482819-cd8f-4500-eec1-f33d39cfc540"
   },
   "outputs": [
    {
     "name": "stderr",
     "output_type": "stream",
     "text": [
      "[Parallel(n_jobs=4)]: Using backend LokyBackend with 4 concurrent workers.\n",
      "[Parallel(n_jobs=4)]: Done   5 out of   5 | elapsed:   14.2s finished\n"
     ]
    }
   ],
   "source": [
    "cross_val = cross_validate(estimator=base_model,\n",
    "              X=iris.data, y=iris.target,\n",
    "              cv=5, n_jobs=multiprocessing.cpu_count(),\n",
    "              verbose=1)"
   ]
  },
  {
   "cell_type": "code",
   "execution_count": 37,
   "metadata": {
    "scrolled": true
   },
   "outputs": [
    {
     "name": "stdout",
     "output_type": "stream",
     "text": [
      "avg fit time: 0.008595943450927734 (+/- 0.004585256279991955)\n",
      "avg score time: 0.0015984535217285155 (+/- 0.0004895710952037857)\n",
      "avg test score: 0.9666666666666668 (+/- 0.036514837167011066)\n"
     ]
    }
   ],
   "source": [
    "print('avg fit time: {} (+/- {})'.format(cross_val['fit_time'].mean(), cross_val['fit_time'].std()))\n",
    "print('avg score time: {} (+/- {})'.format(cross_val['score_time'].mean(), cross_val['score_time'].std()))\n",
    "print('avg test score: {} (+/- {})'.format(cross_val['test_score'].mean(), cross_val['test_score'].std()))"
   ]
  },
  {
   "cell_type": "code",
   "execution_count": 38,
   "metadata": {
    "colab": {
     "base_uri": "https://localhost:8080/",
     "height": 69
    },
    "id": "b5Rx77at-xaC",
    "outputId": "f2482819-cd8f-4500-eec1-f33d39cfc540"
   },
   "outputs": [
    {
     "name": "stderr",
     "output_type": "stream",
     "text": [
      "[Parallel(n_jobs=4)]: Using backend LokyBackend with 4 concurrent workers.\n",
      "[Parallel(n_jobs=4)]: Done   5 out of   5 | elapsed:    0.6s finished\n"
     ]
    }
   ],
   "source": [
    "cross_val = cross_validate(estimator=bagging_model,\n",
    "              X=iris.data, y=iris.target,\n",
    "              cv=5, n_jobs=multiprocessing.cpu_count(),\n",
    "              verbose=1)"
   ]
  },
  {
   "cell_type": "code",
   "execution_count": 39,
   "metadata": {
    "scrolled": true
   },
   "outputs": [
    {
     "name": "stdout",
     "output_type": "stream",
     "text": [
      "avg fit time: 0.31282196044921873 (+/- 0.037009103774813513)\n",
      "avg score time: 0.046772432327270505 (+/- 0.02434415294493298)\n",
      "avg test score: 0.9600000000000002 (+/- 0.038873012632301994)\n"
     ]
    }
   ],
   "source": [
    "print('avg fit time: {} (+/- {})'.format(cross_val['fit_time'].mean(), cross_val['fit_time'].std()))\n",
    "print('avg score time: {} (+/- {})'.format(cross_val['score_time'].mean(), cross_val['score_time'].std()))\n",
    "print('avg test score: {} (+/- {})'.format(cross_val['test_score'].mean(), cross_val['test_score'].std()))"
   ]
  },
  {
   "cell_type": "markdown",
   "metadata": {
    "id": "Ninof3DO_IO3"
   },
   "source": [
    "##### 와인 데이터"
   ]
  },
  {
   "cell_type": "code",
   "execution_count": null,
   "metadata": {
    "id": "L_ZwogKE_IO5"
   },
   "outputs": [],
   "source": []
  },
  {
   "cell_type": "code",
   "execution_count": null,
   "metadata": {
    "colab": {
     "base_uri": "https://localhost:8080/",
     "height": 69
    },
    "id": "xlO4uHnn_IPA",
    "outputId": "3a40ef9f-27a7-4a85-f45f-1158f0aa934d"
   },
   "outputs": [],
   "source": []
  },
  {
   "cell_type": "code",
   "execution_count": null,
   "metadata": {
    "colab": {
     "base_uri": "https://localhost:8080/",
     "height": 69
    },
    "id": "6l5RCMWI_IPI",
    "outputId": "62b41562-6e9a-4b83-9849-23814216c566"
   },
   "outputs": [],
   "source": []
  },
  {
   "cell_type": "markdown",
   "metadata": {
    "id": "uVlALN6t-i3T"
   },
   "source": [
    "##### 유방암 데이터"
   ]
  },
  {
   "cell_type": "code",
   "execution_count": null,
   "metadata": {
    "id": "cQF4b3Jw_GbO"
   },
   "outputs": [],
   "source": []
  },
  {
   "cell_type": "code",
   "execution_count": null,
   "metadata": {
    "colab": {
     "base_uri": "https://localhost:8080/",
     "height": 69
    },
    "id": "NNXg71CM_JZR",
    "outputId": "25f755a2-0fae-4ad1-e350-6132efcee347"
   },
   "outputs": [],
   "source": []
  },
  {
   "cell_type": "code",
   "execution_count": null,
   "metadata": {
    "colab": {
     "base_uri": "https://localhost:8080/",
     "height": 69
    },
    "id": "DQ0zpCGU_NXO",
    "outputId": "e1aa8630-e498-4ad1-ea5b-885322539ae3"
   },
   "outputs": [],
   "source": []
  },
  {
   "cell_type": "markdown",
   "metadata": {
    "id": "G8m4pTeC_Y7Q"
   },
   "source": [
    "### Bagging을 사용한 회귀"
   ]
  },
  {
   "cell_type": "markdown",
   "metadata": {
    "id": "47h6mi6D_cu3"
   },
   "source": [
    "#### 데이터셋 불러오기"
   ]
  },
  {
   "cell_type": "code",
   "execution_count": null,
   "metadata": {
    "id": "UN7-vRcK_pKZ"
   },
   "outputs": [],
   "source": []
  },
  {
   "cell_type": "markdown",
   "metadata": {
    "id": "lBSK7rhp_gMV"
   },
   "source": [
    "#### KNN"
   ]
  },
  {
   "cell_type": "markdown",
   "metadata": {
    "id": "Ze7yqMOL_t34"
   },
   "source": [
    "##### 보스턴 주택 가격 데이터"
   ]
  },
  {
   "cell_type": "code",
   "execution_count": null,
   "metadata": {
    "id": "IE8Slxcu_7jg"
   },
   "outputs": [],
   "source": []
  },
  {
   "cell_type": "code",
   "execution_count": null,
   "metadata": {
    "colab": {
     "base_uri": "https://localhost:8080/",
     "height": 69
    },
    "id": "keEufZavATxq",
    "outputId": "43d2dd17-d375-4767-cbea-5d6d48f1d0c4"
   },
   "outputs": [],
   "source": []
  },
  {
   "cell_type": "code",
   "execution_count": null,
   "metadata": {
    "colab": {
     "base_uri": "https://localhost:8080/",
     "height": 69
    },
    "id": "oJbcuQntAXzE",
    "outputId": "d3352f85-3f52-4769-aab1-5d75b882d6d9"
   },
   "outputs": [],
   "source": []
  },
  {
   "cell_type": "markdown",
   "metadata": {
    "id": "vsCxrkMO_td0"
   },
   "source": [
    "##### 당뇨병 데이터"
   ]
  },
  {
   "cell_type": "code",
   "execution_count": null,
   "metadata": {
    "id": "WnsTBoTOAmki"
   },
   "outputs": [],
   "source": []
  },
  {
   "cell_type": "code",
   "execution_count": null,
   "metadata": {
    "colab": {
     "base_uri": "https://localhost:8080/",
     "height": 69
    },
    "id": "014edZXTAmPb",
    "outputId": "f32f11ed-cf9d-4f7c-a1b3-7718a0cc52b6"
   },
   "outputs": [],
   "source": []
  },
  {
   "cell_type": "code",
   "execution_count": null,
   "metadata": {
    "colab": {
     "base_uri": "https://localhost:8080/",
     "height": 69
    },
    "id": "kq3vs4juAl2_",
    "outputId": "9bd47031-59f8-486c-f5af-e660984680ac"
   },
   "outputs": [],
   "source": []
  },
  {
   "cell_type": "markdown",
   "metadata": {
    "id": "UNWloxDa_fvn"
   },
   "source": [
    "#### SVR"
   ]
  },
  {
   "cell_type": "markdown",
   "metadata": {
    "id": "NRDHG3iX_ygt"
   },
   "source": [
    "##### 보스턴 주택 가격 데이터"
   ]
  },
  {
   "cell_type": "code",
   "execution_count": null,
   "metadata": {
    "id": "yvYMEUkXAyOz"
   },
   "outputs": [],
   "source": []
  },
  {
   "cell_type": "code",
   "execution_count": null,
   "metadata": {
    "colab": {
     "base_uri": "https://localhost:8080/",
     "height": 69
    },
    "id": "Swm8VEn1A2oZ",
    "outputId": "fb4d1154-df5d-4347-917f-3714f95ea178"
   },
   "outputs": [],
   "source": []
  },
  {
   "cell_type": "code",
   "execution_count": null,
   "metadata": {
    "colab": {
     "base_uri": "https://localhost:8080/",
     "height": 69
    },
    "id": "gI_Vf2NXA570",
    "outputId": "a9d7fec1-9c07-4c94-cae8-22c41691eef2"
   },
   "outputs": [],
   "source": []
  },
  {
   "cell_type": "markdown",
   "metadata": {
    "id": "dB98AXg7_004"
   },
   "source": [
    "##### 당뇨병 데이터"
   ]
  },
  {
   "cell_type": "code",
   "execution_count": null,
   "metadata": {
    "id": "u2_GMYGIA9-J"
   },
   "outputs": [],
   "source": []
  },
  {
   "cell_type": "code",
   "execution_count": null,
   "metadata": {
    "colab": {
     "base_uri": "https://localhost:8080/",
     "height": 69
    },
    "id": "E-p61kkSA_Ow",
    "outputId": "c909002d-4bdf-46fb-f37c-9f3eb86f1c42"
   },
   "outputs": [],
   "source": []
  },
  {
   "cell_type": "code",
   "execution_count": null,
   "metadata": {
    "colab": {
     "base_uri": "https://localhost:8080/",
     "height": 69
    },
    "id": "zYRTb9hPBCDv",
    "outputId": "543b5beb-67a1-48d0-bf38-6fb657bf08dc"
   },
   "outputs": [],
   "source": []
  },
  {
   "cell_type": "markdown",
   "metadata": {
    "id": "Ffge42tG_fFc"
   },
   "source": [
    "#### Decision Tree"
   ]
  },
  {
   "cell_type": "markdown",
   "metadata": {
    "id": "MWWTfD6T_44c"
   },
   "source": [
    "##### 보스턴 주택 가격 데이터"
   ]
  },
  {
   "cell_type": "code",
   "execution_count": null,
   "metadata": {
    "id": "IdfQuNoLBIk8"
   },
   "outputs": [],
   "source": []
  },
  {
   "cell_type": "code",
   "execution_count": null,
   "metadata": {
    "colab": {
     "base_uri": "https://localhost:8080/",
     "height": 69
    },
    "id": "uMToSfgzBL3v",
    "outputId": "fc27d43f-13d0-429e-b4ac-88b42982466f"
   },
   "outputs": [],
   "source": []
  },
  {
   "cell_type": "code",
   "execution_count": null,
   "metadata": {
    "colab": {
     "base_uri": "https://localhost:8080/",
     "height": 69
    },
    "id": "PyI5bERuBPLx",
    "outputId": "59cce144-c62b-44c9-8b19-d8f39c50091d"
   },
   "outputs": [],
   "source": []
  },
  {
   "cell_type": "markdown",
   "metadata": {
    "id": "djcuGIS-_4kG"
   },
   "source": [
    "##### 당뇨병 데이터"
   ]
  },
  {
   "cell_type": "code",
   "execution_count": null,
   "metadata": {
    "id": "MavauM2gBeuu"
   },
   "outputs": [],
   "source": []
  },
  {
   "cell_type": "code",
   "execution_count": null,
   "metadata": {
    "colab": {
     "base_uri": "https://localhost:8080/",
     "height": 69
    },
    "id": "eiCiUfMaBg6S",
    "outputId": "82b9259a-9577-478f-e554-c867fe1583c7"
   },
   "outputs": [],
   "source": []
  },
  {
   "cell_type": "code",
   "execution_count": null,
   "metadata": {
    "colab": {
     "base_uri": "https://localhost:8080/",
     "height": 69
    },
    "id": "hDpNFOCpBldg",
    "outputId": "d76a6a0b-7736-47c9-8944-f43740c46a1d"
   },
   "outputs": [],
   "source": []
  },
  {
   "cell_type": "markdown",
   "metadata": {
    "id": "Hve567xWbywt"
   },
   "source": [
    "## Forests of randomized trees\n",
    "\n",
    "* `sklearn.ensemble` 모듈에는 무작위 결정 트리를 기반으로하는 두 개의 평균화 알고리즘이 존재\n",
    "  * Random Forest\n",
    "  * Extra-Trees\n",
    "* 모델 구성에 임의성을 추가해 다양한 모델 집합이 생성\n",
    "* 앙상블 모델의 예측은 각 모델의 평균"
   ]
  },
  {
   "cell_type": "code",
   "execution_count": null,
   "metadata": {
    "id": "9dLhSVb7CMIV"
   },
   "outputs": [],
   "source": []
  },
  {
   "cell_type": "markdown",
   "metadata": {
    "id": "oDLPV0rHk_kG"
   },
   "source": [
    "### Random Forests 분류"
   ]
  },
  {
   "cell_type": "code",
   "execution_count": null,
   "metadata": {
    "id": "rpQvJshtlc-r"
   },
   "outputs": [],
   "source": []
  },
  {
   "cell_type": "code",
   "execution_count": null,
   "metadata": {
    "colab": {
     "base_uri": "https://localhost:8080/",
     "height": 69
    },
    "id": "Vtf-Qegjlsz6",
    "outputId": "9b8b25db-6779-4b6e-bebc-fbdd6bf98dbb"
   },
   "outputs": [],
   "source": []
  },
  {
   "cell_type": "code",
   "execution_count": null,
   "metadata": {
    "colab": {
     "base_uri": "https://localhost:8080/",
     "height": 69
    },
    "id": "Zb64WqN6_QGS",
    "outputId": "a64eeffb-dda6-4a6c-807b-ff85c7deebae"
   },
   "outputs": [],
   "source": []
  },
  {
   "cell_type": "code",
   "execution_count": null,
   "metadata": {
    "colab": {
     "base_uri": "https://localhost:8080/",
     "height": 69
    },
    "id": "0bMs-TucC1CH",
    "outputId": "169c0445-4d3c-4ae2-b0fa-9fb9b47ca34f"
   },
   "outputs": [],
   "source": []
  },
  {
   "cell_type": "markdown",
   "metadata": {
    "id": "a3earvlLl2RE"
   },
   "source": [
    "### Random Forests 회귀"
   ]
  },
  {
   "cell_type": "code",
   "execution_count": null,
   "metadata": {
    "id": "KGx4DhJlmNpP"
   },
   "outputs": [],
   "source": []
  },
  {
   "cell_type": "code",
   "execution_count": null,
   "metadata": {
    "colab": {
     "base_uri": "https://localhost:8080/",
     "height": 69
    },
    "id": "1Jb0M9T9mQ6a",
    "outputId": "2ef1205d-907e-42a3-aad1-f9891b2e3149"
   },
   "outputs": [],
   "source": []
  },
  {
   "cell_type": "code",
   "execution_count": null,
   "metadata": {
    "colab": {
     "base_uri": "https://localhost:8080/",
     "height": 69
    },
    "id": "cfhpqlGdDLGP",
    "outputId": "d465d0e5-c174-4ea8-fa08-1e63c0435b94"
   },
   "outputs": [],
   "source": []
  },
  {
   "cell_type": "markdown",
   "metadata": {
    "id": "EBHcDHNvmot4"
   },
   "source": [
    "### Extremely Randomized Trees 분류"
   ]
  },
  {
   "cell_type": "code",
   "execution_count": null,
   "metadata": {
    "id": "B_ujy6vHm7H4"
   },
   "outputs": [],
   "source": []
  },
  {
   "cell_type": "code",
   "execution_count": null,
   "metadata": {
    "colab": {
     "base_uri": "https://localhost:8080/",
     "height": 69
    },
    "id": "pkzBXVMem_bM",
    "outputId": "12ecc97f-e7c6-4b46-a1ef-cf1f1cb9309b"
   },
   "outputs": [],
   "source": []
  },
  {
   "cell_type": "code",
   "execution_count": null,
   "metadata": {
    "colab": {
     "base_uri": "https://localhost:8080/",
     "height": 69
    },
    "id": "iV9QX51m_Re6",
    "outputId": "0b9d5c3b-c866-4e65-9e50-bd4586cc599a"
   },
   "outputs": [],
   "source": []
  },
  {
   "cell_type": "code",
   "execution_count": null,
   "metadata": {
    "colab": {
     "base_uri": "https://localhost:8080/",
     "height": 69
    },
    "id": "qH_ZkUvlDbs2",
    "outputId": "369b97da-d931-4b53-f88c-a1d5c1db8ea5"
   },
   "outputs": [],
   "source": []
  },
  {
   "cell_type": "markdown",
   "metadata": {
    "id": "JspHMW4YnDON"
   },
   "source": [
    "### Extremely Randomized Trees 회귀"
   ]
  },
  {
   "cell_type": "code",
   "execution_count": null,
   "metadata": {
    "id": "6_dqUbdCnRbP"
   },
   "outputs": [],
   "source": []
  },
  {
   "cell_type": "code",
   "execution_count": null,
   "metadata": {
    "colab": {
     "base_uri": "https://localhost:8080/",
     "height": 69
    },
    "id": "SHfpp5NBnVDU",
    "outputId": "c71c5053-ae88-4f0b-ef15-94affe0e6fb6"
   },
   "outputs": [],
   "source": []
  },
  {
   "cell_type": "code",
   "execution_count": null,
   "metadata": {
    "colab": {
     "base_uri": "https://localhost:8080/",
     "height": 69
    },
    "id": "2CuQvitCDv77",
    "outputId": "a498ecc4-53b4-4efa-d714-e5e66e27ded6"
   },
   "outputs": [],
   "source": []
  },
  {
   "cell_type": "markdown",
   "metadata": {
    "id": "L4_4LPoirXV2"
   },
   "source": [
    "### Random Forest, Extra Tree 시각화\n",
    "\n",
    "* 결정 트리, Random Forest, Extra Tree의 결정 경계와 회귀식 시각화"
   ]
  },
  {
   "cell_type": "code",
   "execution_count": null,
   "metadata": {
    "id": "RH-wTt7PzpB_"
   },
   "outputs": [],
   "source": []
  },
  {
   "cell_type": "code",
   "execution_count": null,
   "metadata": {
    "id": "J-rQtFGZz3r7"
   },
   "outputs": [],
   "source": []
  },
  {
   "cell_type": "code",
   "execution_count": null,
   "metadata": {
    "id": "V7F-qnp60DO1"
   },
   "outputs": [],
   "source": []
  },
  {
   "cell_type": "code",
   "execution_count": null,
   "metadata": {
    "colab": {
     "base_uri": "https://localhost:8080/",
     "height": 432
    },
    "id": "frixj9rPnW5w",
    "outputId": "373cce09-80a6-459e-b8b1-0422349bbe44"
   },
   "outputs": [],
   "source": []
  },
  {
   "cell_type": "code",
   "execution_count": null,
   "metadata": {
    "id": "8nqpZSlUEf9P"
   },
   "outputs": [],
   "source": []
  },
  {
   "cell_type": "code",
   "execution_count": null,
   "metadata": {
    "colab": {
     "base_uri": "https://localhost:8080/",
     "height": 432
    },
    "id": "LN5ECiI5EQmZ",
    "outputId": "ad342d1d-c1d4-4417-c69a-884e043363b4"
   },
   "outputs": [],
   "source": []
  },
  {
   "cell_type": "markdown",
   "metadata": {
    "id": "KBBCR19i3JNP"
   },
   "source": [
    "## AdaBoost\n",
    "\n",
    "* 대표적인 부스팅 알고리즘\n",
    "* 일련의 약한 모델들을 학습\n",
    "* 수정된 버전의 데이터를 반복 학습 (가중치가 적용된)\n",
    "* 가중치 투표(또는 합)을 통해 각 모델의 예측 값을 결합\n",
    "* 첫 단계에서는 원본 데이터를 학습하고 연속적인 반복마다 개별 샘플에 대한 가중치가 수정되고 다시 모델이 학습\n",
    "  * 잘못 예측된 샘플은 가중치 증가, 올바르게 예측된 샘플은 가중치 감소\n",
    "  * 각각의 약한 모델들은 예측하기 어려운 샘플에 집중하게 됨\n",
    "\n",
    "![AdaBoost](https://scikit-learn.org/stable/_images/sphx_glr_plot_adaboost_hastie_10_2_0011.png)"
   ]
  },
  {
   "cell_type": "code",
   "execution_count": null,
   "metadata": {
    "id": "5QjTkuxWrm2a"
   },
   "outputs": [],
   "source": []
  },
  {
   "cell_type": "markdown",
   "metadata": {
    "id": "Za_gsbAZ6o5j"
   },
   "source": [
    "### AdaBoost 분류"
   ]
  },
  {
   "cell_type": "code",
   "execution_count": null,
   "metadata": {
    "id": "4RHbd5Xs6K49"
   },
   "outputs": [],
   "source": []
  },
  {
   "cell_type": "code",
   "execution_count": null,
   "metadata": {
    "colab": {
     "base_uri": "https://localhost:8080/",
     "height": 69
    },
    "id": "SQ0bYdUqHt23",
    "outputId": "ab921a0c-e2ae-4b47-9a6f-8816dda6c5b6"
   },
   "outputs": [],
   "source": []
  },
  {
   "cell_type": "code",
   "execution_count": null,
   "metadata": {
    "colab": {
     "base_uri": "https://localhost:8080/",
     "height": 69
    },
    "id": "_7NzxxKr_UBY",
    "outputId": "9f02c595-0ffb-403c-f038-a88d68461bb4"
   },
   "outputs": [],
   "source": []
  },
  {
   "cell_type": "code",
   "execution_count": null,
   "metadata": {
    "colab": {
     "base_uri": "https://localhost:8080/",
     "height": 69
    },
    "id": "yk2jId1LH6Xl",
    "outputId": "239e8737-e432-42fc-f57e-c6ed9519273e"
   },
   "outputs": [],
   "source": []
  },
  {
   "cell_type": "markdown",
   "metadata": {
    "id": "NFx-ob7q6zK1"
   },
   "source": [
    "### AdaBoost 회귀"
   ]
  },
  {
   "cell_type": "code",
   "execution_count": null,
   "metadata": {
    "id": "xd3DBHFi68tC"
   },
   "outputs": [],
   "source": []
  },
  {
   "cell_type": "code",
   "execution_count": null,
   "metadata": {
    "colab": {
     "base_uri": "https://localhost:8080/",
     "height": 69
    },
    "id": "W45kcSVKIJnq",
    "outputId": "ad55d70f-cfae-4ad7-d287-759b43e6f499"
   },
   "outputs": [],
   "source": []
  },
  {
   "cell_type": "code",
   "execution_count": null,
   "metadata": {
    "colab": {
     "base_uri": "https://localhost:8080/",
     "height": 69
    },
    "id": "ka-BHFVWIMnQ",
    "outputId": "f8c4153c-ab9c-4d89-ead1-a844010f2c79"
   },
   "outputs": [],
   "source": []
  },
  {
   "cell_type": "markdown",
   "metadata": {
    "id": "YeG2y1JB7T6z"
   },
   "source": [
    "## Gradient Tree Boosting\n",
    "\n",
    "* 임의의 차별화 가능한 손실함수로 일반화한 부스팅 알고리즘\n",
    "* 웹 검색, 분류 및 회귀 등 다양한 분야에서 모두 사용 가능"
   ]
  },
  {
   "cell_type": "code",
   "execution_count": null,
   "metadata": {
    "id": "0K_scQYk7DRm"
   },
   "outputs": [],
   "source": []
  },
  {
   "cell_type": "markdown",
   "metadata": {
    "id": "UnXayCIq-ANR"
   },
   "source": [
    "### Gradient Tree Boosting 분류"
   ]
  },
  {
   "cell_type": "code",
   "execution_count": null,
   "metadata": {
    "id": "US57OYu39_IS"
   },
   "outputs": [],
   "source": []
  },
  {
   "cell_type": "code",
   "execution_count": null,
   "metadata": {
    "colab": {
     "base_uri": "https://localhost:8080/",
     "height": 69
    },
    "id": "i5m3pir6Ia02",
    "outputId": "9e12841d-9a0b-4367-c2d5-ad7bccecc32d"
   },
   "outputs": [],
   "source": []
  },
  {
   "cell_type": "code",
   "execution_count": null,
   "metadata": {
    "colab": {
     "base_uri": "https://localhost:8080/",
     "height": 69
    },
    "id": "MmkKzQKU_WHg",
    "outputId": "8e740557-7625-468f-995e-c19cb3ebfef2"
   },
   "outputs": [],
   "source": []
  },
  {
   "cell_type": "code",
   "execution_count": null,
   "metadata": {
    "colab": {
     "base_uri": "https://localhost:8080/",
     "height": 69
    },
    "id": "VBitsXUmIe9B",
    "outputId": "c6fa8383-4274-4fdd-f68a-3996649fd1ac"
   },
   "outputs": [],
   "source": []
  },
  {
   "cell_type": "markdown",
   "metadata": {
    "id": "-DeP90dJ-Sy2"
   },
   "source": [
    "### Gradient Tree Boosting 회귀"
   ]
  },
  {
   "cell_type": "code",
   "execution_count": null,
   "metadata": {
    "id": "Cy3cq6VL-Q1v"
   },
   "outputs": [],
   "source": []
  },
  {
   "cell_type": "code",
   "execution_count": null,
   "metadata": {
    "colab": {
     "base_uri": "https://localhost:8080/",
     "height": 69
    },
    "id": "ZYw5ymXCIowr",
    "outputId": "4375c812-149e-45cb-ea0b-756ca6905afc"
   },
   "outputs": [],
   "source": []
  },
  {
   "cell_type": "code",
   "execution_count": null,
   "metadata": {
    "colab": {
     "base_uri": "https://localhost:8080/",
     "height": 69
    },
    "id": "S6gdorDUIsYv",
    "outputId": "a6e95858-a0ea-43e3-ceed-454562bee243"
   },
   "outputs": [],
   "source": []
  },
  {
   "cell_type": "markdown",
   "metadata": {
    "id": "u7RRhGKEBVdq"
   },
   "source": [
    "## 투표 기반 분류 (Voting Classifier)\n",
    "\n",
    "* 서로 다른 모델들의 결과를 투표를 통해 결합\n",
    "* 두가지 방법으로 투표 가능\n",
    "  * 가장 많이 예측된 클래스를 정답으로 채택 (hard voting)\n",
    "  * 예측된 확률의 가중치 평균 (soft voting)"
   ]
  },
  {
   "cell_type": "code",
   "execution_count": null,
   "metadata": {
    "id": "a5eAt-Yy-iBz"
   },
   "outputs": [],
   "source": []
  },
  {
   "cell_type": "code",
   "execution_count": null,
   "metadata": {
    "id": "toBoZ5I_EEy3"
   },
   "outputs": [],
   "source": []
  },
  {
   "cell_type": "code",
   "execution_count": null,
   "metadata": {
    "colab": {
     "base_uri": "https://localhost:8080/",
     "height": 87
    },
    "id": "jvwefdFDEYvz",
    "outputId": "598cbee9-7a8c-46bf-8eec-8de7f8aad2cc"
   },
   "outputs": [],
   "source": []
  },
  {
   "cell_type": "code",
   "execution_count": null,
   "metadata": {
    "id": "YNhj3WNzFCAb"
   },
   "outputs": [],
   "source": []
  },
  {
   "cell_type": "code",
   "execution_count": null,
   "metadata": {
    "colab": {
     "base_uri": "https://localhost:8080/",
     "height": 87
    },
    "id": "g89TYHdZOKL8",
    "outputId": "5e42f758-7c6c-4f07-d412-cfa58dbb74ae"
   },
   "outputs": [],
   "source": []
  },
  {
   "cell_type": "markdown",
   "metadata": {
    "id": "cjNwB2zaPItX"
   },
   "source": [
    "### 결정 경계 시각화"
   ]
  },
  {
   "cell_type": "code",
   "execution_count": null,
   "metadata": {
    "id": "nn8lgvWYPner"
   },
   "outputs": [],
   "source": []
  },
  {
   "cell_type": "code",
   "execution_count": null,
   "metadata": {
    "id": "SB_Bx4hKPs9-"
   },
   "outputs": [],
   "source": []
  },
  {
   "cell_type": "code",
   "execution_count": null,
   "metadata": {
    "id": "FEpQ0g-0Pwn8"
   },
   "outputs": [],
   "source": []
  },
  {
   "cell_type": "code",
   "execution_count": null,
   "metadata": {
    "id": "z1o_9XWKQthC"
   },
   "outputs": [],
   "source": []
  },
  {
   "cell_type": "code",
   "execution_count": null,
   "metadata": {
    "colab": {
     "base_uri": "https://localhost:8080/",
     "height": 494
    },
    "id": "umDuzyVDOML5",
    "outputId": "3ddb2381-8133-4a31-d19a-b2269491646a"
   },
   "outputs": [],
   "source": []
  },
  {
   "cell_type": "markdown",
   "metadata": {
    "id": "0m5WCAyLSOdK"
   },
   "source": [
    "## 투표 기반 회귀 (Voting Regressor)\n",
    "\n",
    "* 서로 다른 모델의 예측 값의 평균을 사용"
   ]
  },
  {
   "cell_type": "code",
   "execution_count": null,
   "metadata": {
    "id": "uMQxrXDAPNuf"
   },
   "outputs": [],
   "source": []
  },
  {
   "cell_type": "code",
   "execution_count": null,
   "metadata": {
    "id": "eKyebVgqUHdN"
   },
   "outputs": [],
   "source": []
  },
  {
   "cell_type": "code",
   "execution_count": null,
   "metadata": {
    "colab": {
     "base_uri": "https://localhost:8080/",
     "height": 87
    },
    "id": "aYMKZc96UGoA",
    "outputId": "2157352f-32f6-407d-f68b-ae7c0733aaf8"
   },
   "outputs": [],
   "source": []
  },
  {
   "cell_type": "markdown",
   "metadata": {
    "id": "ArvS3YLlMgvM"
   },
   "source": [
    "### 회귀식 시각화"
   ]
  },
  {
   "cell_type": "code",
   "execution_count": null,
   "metadata": {
    "id": "NDby8qq_NpI6"
   },
   "outputs": [],
   "source": []
  },
  {
   "cell_type": "code",
   "execution_count": null,
   "metadata": {
    "id": "afUEA95cMfik"
   },
   "outputs": [],
   "source": []
  },
  {
   "cell_type": "code",
   "execution_count": null,
   "metadata": {
    "id": "jsy4R-0PMwER"
   },
   "outputs": [],
   "source": []
  },
  {
   "cell_type": "code",
   "execution_count": null,
   "metadata": {
    "colab": {
     "base_uri": "https://localhost:8080/",
     "height": 494
    },
    "id": "TjgHFKa8M8O9",
    "outputId": "bbe0ce63-8ca9-47d9-cf2e-aa942d5ca2a6"
   },
   "outputs": [],
   "source": []
  },
  {
   "cell_type": "markdown",
   "metadata": {
    "id": "kWWPpi2hVaGe"
   },
   "source": [
    "## 스택 일반화 (Stacked Generalization)\n",
    "\n",
    "* 각 모델의 예측 값을 최종 모델의 입력으로 사용\n",
    "* 모델의 편향을 줄이는데 효과적"
   ]
  },
  {
   "cell_type": "markdown",
   "metadata": {
    "id": "EfJBCBFSXaa3"
   },
   "source": [
    "### 스택 회귀"
   ]
  },
  {
   "cell_type": "code",
   "execution_count": null,
   "metadata": {
    "id": "Ai4cpbSpUanA"
   },
   "outputs": [],
   "source": []
  },
  {
   "cell_type": "code",
   "execution_count": null,
   "metadata": {
    "id": "22wwT8jDXf6D"
   },
   "outputs": [],
   "source": []
  },
  {
   "cell_type": "code",
   "execution_count": null,
   "metadata": {
    "id": "GcWHiyQ7YAsh"
   },
   "outputs": [],
   "source": []
  },
  {
   "cell_type": "code",
   "execution_count": null,
   "metadata": {
    "colab": {
     "base_uri": "https://localhost:8080/",
     "height": 69
    },
    "id": "IJskro0HYKOe",
    "outputId": "37c0bccf-8326-464b-d9ef-5e39b8575fbf"
   },
   "outputs": [],
   "source": []
  },
  {
   "cell_type": "markdown",
   "metadata": {
    "id": "Is4akp2ePaax"
   },
   "source": [
    "#### 회귀식 시각화"
   ]
  },
  {
   "cell_type": "code",
   "execution_count": null,
   "metadata": {
    "id": "vzcOBF80Pd1q"
   },
   "outputs": [],
   "source": []
  },
  {
   "cell_type": "code",
   "execution_count": null,
   "metadata": {
    "id": "-EjdXk9-Phm-"
   },
   "outputs": [],
   "source": []
  },
  {
   "cell_type": "code",
   "execution_count": null,
   "metadata": {
    "colab": {
     "base_uri": "https://localhost:8080/",
     "height": 494
    },
    "id": "DrC6uxPsP0Ga",
    "outputId": "fef9ffac-7f4b-41ef-f77b-15074c550802"
   },
   "outputs": [],
   "source": []
  },
  {
   "cell_type": "markdown",
   "metadata": {
    "id": "qcDf7iN1ZybO"
   },
   "source": [
    "### 스택 분류"
   ]
  },
  {
   "cell_type": "code",
   "execution_count": null,
   "metadata": {
    "id": "_5HNrFRtZxqZ"
   },
   "outputs": [],
   "source": []
  },
  {
   "cell_type": "code",
   "execution_count": null,
   "metadata": {
    "id": "IZn3h6vDaJ8i"
   },
   "outputs": [],
   "source": []
  },
  {
   "cell_type": "code",
   "execution_count": null,
   "metadata": {
    "id": "KTFUC1IsaarE"
   },
   "outputs": [],
   "source": []
  },
  {
   "cell_type": "code",
   "execution_count": null,
   "metadata": {
    "colab": {
     "base_uri": "https://localhost:8080/",
     "height": 69
    },
    "id": "oYhRPbcWanfY",
    "outputId": "01e00138-43c9-4aa5-fc81-d2746f1d8f97"
   },
   "outputs": [],
   "source": []
  },
  {
   "cell_type": "markdown",
   "metadata": {
    "id": "m2NyQnIqQxg9"
   },
   "source": [
    "#### 결정 경계 시각화"
   ]
  },
  {
   "cell_type": "code",
   "execution_count": null,
   "metadata": {
    "id": "Ef_zvJUljAiM"
   },
   "outputs": [],
   "source": []
  },
  {
   "cell_type": "code",
   "execution_count": null,
   "metadata": {
    "id": "Sktdwb4kjAic"
   },
   "outputs": [],
   "source": []
  },
  {
   "cell_type": "code",
   "execution_count": null,
   "metadata": {
    "id": "3otRWNYsjAig"
   },
   "outputs": [],
   "source": []
  },
  {
   "cell_type": "code",
   "execution_count": null,
   "metadata": {
    "colab": {
     "base_uri": "https://localhost:8080/",
     "height": 494
    },
    "id": "76FMoLuHjAik",
    "outputId": "395fed9a-8288-478a-c590-c5d6c0b55a3e"
   },
   "outputs": [],
   "source": []
  }
 ],
 "metadata": {
  "colab": {
   "collapsed_sections": [],
   "name": "_9 앙상블(Ensemble).ipynb",
   "provenance": []
  },
  "kernelspec": {
   "display_name": "Python 3 (ipykernel)",
   "language": "python",
   "name": "python3"
  },
  "language_info": {
   "codemirror_mode": {
    "name": "ipython",
    "version": 3
   },
   "file_extension": ".py",
   "mimetype": "text/x-python",
   "name": "python",
   "nbconvert_exporter": "python",
   "pygments_lexer": "ipython3",
   "version": "3.9.1"
  }
 },
 "nbformat": 4,
 "nbformat_minor": 1
}
