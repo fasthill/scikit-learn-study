{
  "nbformat": 4,
  "nbformat_minor": 0,
  "metadata": {
    "colab": {
      "name": "_7 나이브 베이즈 분류(Naive Bayes Classification).ipynb",
      "provenance": [],
      "collapsed_sections": [],
      "toc_visible": true
    },
    "kernelspec": {
      "name": "python3",
      "display_name": "Python 3"
    }
  },
  "cells": [
    {
      "cell_type": "markdown",
      "metadata": {
        "id": "pGeRH4wq9f5V"
      },
      "source": [
        "# 나이브 베이스 분류기(Naive Bayes Classification)\n",
        "\n",
        "* 베이즈 정리를 적용한 확률적 분류 알고리즘\n",
        "* 모든 특성들이 독립임을 가정 (naive 가정)\n",
        "* 입력 특성에 따라 3개의 분류기 존재\n",
        "  * 가우시안 나이브 베이즈 분류기\n",
        "  * 베르누이 나이브 베이즈 분류기\n",
        "  * 다항 나이브 베이즈 분류기"
      ]
    },
    {
      "cell_type": "markdown",
      "metadata": {
        "id": "dJEOfUP7D0W5"
      },
      "source": [
        "## 나이브 베이즈 분류기의 확률 모델\n",
        "\n",
        "* 나이브 베이즈는 조건부 확률 모델\n",
        "* *N*개의 특성을 나타내는 벡터 **x**를 입력 받아 k개의 가능한 확률적 결과를 출력\n",
        "\n",
        "\\begin{equation}\n",
        "p(C_k | x_1,...,x_n)\n",
        "\\end{equation}\n",
        "\n",
        "* 위의 식에 베이즈 정리를 적용하면 다음과 같음\n",
        "\n",
        "\\begin{equation}\n",
        "p(C_k | \\textbf{x}) = \\frac{p(C_k)p(\\textbf{x}|C_k)}{p(\\textbf{x})}\n",
        "\\end{equation}\n",
        "\n",
        "* 위의 식에서 분자만이 출력 값에 영향을 받기 때문에 분모 부분을 상수로 취급할 수 있음\n",
        "\n",
        "\\begin{equation}\n",
        "\\begin{split}\n",
        "p(C_k | \\textbf{x}) & \\propto p(C_k)p(\\textbf{x}|C_k) \\\\\n",
        "& \\propto p(C_k, x_1, ..., x_n)\n",
        "\\end{split}\n",
        "\\end{equation}\n",
        "\n",
        "* 위의 식을 연쇄 법칙을 사용해 다음과 같이 쓸 수 있음\n",
        "\n",
        "\\begin{equation}\n",
        "\\begin{split}\n",
        "p(C_k, x_1, ..., x_n) & = p(C_k)p(x_1, ..., x_n | C_k) \\\\\n",
        "& = p(C_k)p(x_1 | C_k)p(x_2, ..., x_n | C_k, x_1) \\\\\n",
        "& = p(C_k)p(x_1 | C_k)p(x_2 | C_k, x_1)p(x_3, ..., x_n | C_k, x_1, x_2) \\\\\n",
        "& = p(C_k)p(x_1 | C_k)p(x_2 | C_k, x_1)...p(x_n | C_k, x_1, x_2, ..., x_{n-1})\n",
        "\\end{split}\n",
        "\\end{equation}\n",
        "\n",
        "* 나이브 베이즈 분류기는 모든 특성이 독립이라고 가정하기 때문에 위의 식을 다음과 같이 쓸 수 있음\n",
        "\n",
        "\\begin{equation}\n",
        "\\begin{split}\n",
        "p(C_k, x_1, ..., x_n) & \\propto p(C_k)p(x_1|C_k)p(x_2|C_k)...p(x_n|C_k) \\\\\n",
        "& \\propto p(C_k) \\prod_{i=1}^{n} p(x_i|C_k)\n",
        "\\end{split}\n",
        "\\end{equation}\n",
        "\n",
        "* 위의 식을 통해 나온 값들 중 가장 큰 값을 갖는 클래스가 예측 결과\n",
        "\n",
        "\\begin{equation}\n",
        "\\hat{y} = \\underset{k}{\\arg\\max} \\; p(C_k) \\prod_{i=1}^{n} p(x_i|C_k)\n",
        "\\end{equation}"
      ]
    },
    {
      "cell_type": "code",
      "metadata": {
        "id": "YWMJk5Q6QRjt"
      },
      "source": [
        ""
      ],
      "execution_count": null,
      "outputs": []
    },
    {
      "cell_type": "code",
      "metadata": {
        "id": "niugbwwe9dFN"
      },
      "source": [
        ""
      ],
      "execution_count": null,
      "outputs": []
    },
    {
      "cell_type": "markdown",
      "metadata": {
        "id": "m7NBQpMOmtQz"
      },
      "source": [
        "## 산림 토양 데이터\n",
        "* 산림 지역 토양의 특징 데이터\n",
        "* 토양이 어떤 종류에 속하는지 예측\n",
        "* https://archive.ics.uci.edu/ml/datasets/Covertype 에서 데이터의 자세한 설명 확인 가능"
      ]
    },
    {
      "cell_type": "code",
      "metadata": {
        "id": "COcEy-q-m8CG"
      },
      "source": [
        ""
      ],
      "execution_count": null,
      "outputs": []
    },
    {
      "cell_type": "code",
      "metadata": {
        "id": "AKdk8dfyKH1Z"
      },
      "source": [
        ""
      ],
      "execution_count": null,
      "outputs": []
    },
    {
      "cell_type": "code",
      "metadata": {
        "id": "6K8fuWT2LRev"
      },
      "source": [
        ""
      ],
      "execution_count": null,
      "outputs": []
    },
    {
      "cell_type": "markdown",
      "metadata": {
        "id": "W3oFEYsFmzAo"
      },
      "source": [
        "### 학습, 평가 데이터 분류"
      ]
    },
    {
      "cell_type": "code",
      "metadata": {
        "id": "LXRNok95nZyL"
      },
      "source": [
        ""
      ],
      "execution_count": null,
      "outputs": []
    },
    {
      "cell_type": "code",
      "metadata": {
        "id": "PcPjkEKKoAG0"
      },
      "source": [
        ""
      ],
      "execution_count": null,
      "outputs": []
    },
    {
      "cell_type": "code",
      "metadata": {
        "id": "FIHN4Zd1MRlm"
      },
      "source": [
        ""
      ],
      "execution_count": null,
      "outputs": []
    },
    {
      "cell_type": "markdown",
      "metadata": {
        "id": "lTXhaso1m1RN"
      },
      "source": [
        "### 전처리"
      ]
    },
    {
      "cell_type": "markdown",
      "metadata": {
        "id": "ABo0ZvzrNlID"
      },
      "source": [
        "#### 전처리 전 데이터"
      ]
    },
    {
      "cell_type": "code",
      "metadata": {
        "id": "S8bMSKlHM00-"
      },
      "source": [
        ""
      ],
      "execution_count": null,
      "outputs": []
    },
    {
      "cell_type": "code",
      "metadata": {
        "id": "CqDWerieNoBw"
      },
      "source": [
        ""
      ],
      "execution_count": null,
      "outputs": []
    },
    {
      "cell_type": "code",
      "metadata": {
        "id": "jKuvb4AfNzop"
      },
      "source": [
        ""
      ],
      "execution_count": null,
      "outputs": []
    },
    {
      "cell_type": "markdown",
      "metadata": {
        "id": "FRsWUNBjN9q9"
      },
      "source": [
        "#### 전처리 과정"
      ]
    },
    {
      "cell_type": "code",
      "metadata": {
        "id": "zLYMfVwwpIMH"
      },
      "source": [
        ""
      ],
      "execution_count": null,
      "outputs": []
    },
    {
      "cell_type": "markdown",
      "metadata": {
        "id": "Z8l7rTxROCgr"
      },
      "source": [
        "#### 전처리 후 데이터\n",
        "* 평균은 0에 가깝게, 표준평차는 1에 가깝게 정규화"
      ]
    },
    {
      "cell_type": "code",
      "metadata": {
        "id": "it55pXLoOGBa"
      },
      "source": [
        ""
      ],
      "execution_count": null,
      "outputs": []
    },
    {
      "cell_type": "code",
      "metadata": {
        "id": "yOdlTT1dOcss"
      },
      "source": [
        ""
      ],
      "execution_count": null,
      "outputs": []
    },
    {
      "cell_type": "markdown",
      "metadata": {
        "id": "PA45idG9ayMV"
      },
      "source": [
        "## 20 Newsgroup 데이터\n",
        "* 뉴스 기사가 어느 그룹에 속하는지 분류\n",
        "* 뉴스 기사는 텍스트 데이터이기 때문에 특별한 전처리 과정이 필요"
      ]
    },
    {
      "cell_type": "code",
      "metadata": {
        "id": "AO1QR0StXwgz"
      },
      "source": [
        ""
      ],
      "execution_count": null,
      "outputs": []
    },
    {
      "cell_type": "code",
      "metadata": {
        "id": "3kgLZ2FRO533"
      },
      "source": [
        ""
      ],
      "execution_count": null,
      "outputs": []
    },
    {
      "cell_type": "code",
      "metadata": {
        "id": "OhrpXCEgPNyB"
      },
      "source": [
        ""
      ],
      "execution_count": null,
      "outputs": []
    },
    {
      "cell_type": "markdown",
      "metadata": {
        "id": "-zmqchNfbXJQ"
      },
      "source": [
        "### 학습, 평가 데이터 분류"
      ]
    },
    {
      "cell_type": "code",
      "metadata": {
        "id": "MJkD4v5DX2l3"
      },
      "source": [
        ""
      ],
      "execution_count": null,
      "outputs": []
    },
    {
      "cell_type": "code",
      "metadata": {
        "id": "Xxuzr5ifcLrA"
      },
      "source": [
        ""
      ],
      "execution_count": null,
      "outputs": []
    },
    {
      "cell_type": "markdown",
      "metadata": {
        "id": "5rPb4mTPb7jA"
      },
      "source": [
        "### 벡터화\n",
        "* 텍스트 데이터는 기계학습 모델에 입력 할 수 없음\n",
        "* 벡터화는 텍스트 데이터를 실수 벡터로 변환해 기계학습 모델에 입력 할 수 있도록 하는 전처리 과정\n",
        "* Scikit-learn에서는 Count, Tf-idf, Hashing 세가지 방법을 지원"
      ]
    },
    {
      "cell_type": "markdown",
      "metadata": {
        "id": "uzzFAtzkrtio"
      },
      "source": [
        "#### CountVectorizer\n",
        "* 문서에 나온 단어의 수를 세서 벡터 생성"
      ]
    },
    {
      "cell_type": "code",
      "metadata": {
        "id": "U__Bmbm4r4ZN"
      },
      "source": [
        ""
      ],
      "execution_count": null,
      "outputs": []
    },
    {
      "cell_type": "code",
      "metadata": {
        "id": "l5qcYH2fr7BM"
      },
      "source": [
        ""
      ],
      "execution_count": null,
      "outputs": []
    },
    {
      "cell_type": "markdown",
      "metadata": {
        "id": "W2C7-16Zsif2"
      },
      "source": [
        "데이터를 희소 행렬 형태로 표현"
      ]
    },
    {
      "cell_type": "code",
      "metadata": {
        "id": "Nwmww2sOsEPV"
      },
      "source": [
        ""
      ],
      "execution_count": null,
      "outputs": []
    },
    {
      "cell_type": "code",
      "metadata": {
        "id": "ie5eSVH3sH3I"
      },
      "source": [
        ""
      ],
      "execution_count": null,
      "outputs": []
    },
    {
      "cell_type": "markdown",
      "metadata": {
        "id": "VuCz2fvdtLR2"
      },
      "source": [
        "#### HashingVectorizer\n",
        "* 각 단어를 해쉬 값으로 표현\n",
        "* 미리 정해진 크기의 벡터로 표현"
      ]
    },
    {
      "cell_type": "code",
      "metadata": {
        "id": "0a6w_5b4u2iU"
      },
      "source": [
        ""
      ],
      "execution_count": null,
      "outputs": []
    },
    {
      "cell_type": "code",
      "metadata": {
        "id": "Ru_bF-tuveCJ"
      },
      "source": [
        ""
      ],
      "execution_count": null,
      "outputs": []
    },
    {
      "cell_type": "code",
      "metadata": {
        "id": "F4FICW1kvyR2"
      },
      "source": [
        ""
      ],
      "execution_count": null,
      "outputs": []
    },
    {
      "cell_type": "code",
      "metadata": {
        "id": "xN5aaCjov0Zb"
      },
      "source": [
        ""
      ],
      "execution_count": null,
      "outputs": []
    },
    {
      "cell_type": "markdown",
      "metadata": {
        "id": "Jo_5elqewPmi"
      },
      "source": [
        "#### TfidfVectorizer\n",
        "* 문서에 나온 단어 빈도(term frequency)와 역문서 빈도(inverse document frequency)를 곱해서 구함\n",
        "* 각 빈도는 일반적으로 로그 스케일링 후 사용\n",
        "* $tf(t, d) = log(f(t, d) + 1)$\n",
        "* $idf(t, D) = \\frac{|D|}{|d \\in D : t \\in d| + 1}$\n",
        "* $tfidf(t, d, D) = tf(t, d) \\times idf(t, D)$"
      ]
    },
    {
      "cell_type": "code",
      "metadata": {
        "id": "se6YLbOBb9yd"
      },
      "source": [
        ""
      ],
      "execution_count": null,
      "outputs": []
    },
    {
      "cell_type": "code",
      "metadata": {
        "id": "BCB_vPEUcqSi"
      },
      "source": [
        ""
      ],
      "execution_count": null,
      "outputs": []
    },
    {
      "cell_type": "code",
      "metadata": {
        "id": "31lIqMzz0b4C"
      },
      "source": [
        ""
      ],
      "execution_count": null,
      "outputs": []
    },
    {
      "cell_type": "code",
      "metadata": {
        "id": "1fgodSTr0gEd"
      },
      "source": [
        ""
      ],
      "execution_count": null,
      "outputs": []
    },
    {
      "cell_type": "markdown",
      "metadata": {
        "id": "Dw1V6JPISYNj"
      },
      "source": [
        "## 가우시안 나이브 베이즈\n",
        "\n",
        "* 입력 특성이 가우시안(정규) 분포를 갖는다고 가정"
      ]
    },
    {
      "cell_type": "code",
      "metadata": {
        "id": "HxluuRDrfEE-"
      },
      "source": [
        ""
      ],
      "execution_count": null,
      "outputs": []
    },
    {
      "cell_type": "code",
      "metadata": {
        "id": "RHlxf5Uvur1s"
      },
      "source": [
        ""
      ],
      "execution_count": null,
      "outputs": []
    },
    {
      "cell_type": "code",
      "metadata": {
        "id": "PRkCzNTavChE"
      },
      "source": [
        ""
      ],
      "execution_count": null,
      "outputs": []
    },
    {
      "cell_type": "code",
      "metadata": {
        "id": "c7LlOoOU4oos"
      },
      "source": [
        ""
      ],
      "execution_count": null,
      "outputs": []
    },
    {
      "cell_type": "code",
      "metadata": {
        "id": "BQmypOJ07flk"
      },
      "source": [
        ""
      ],
      "execution_count": null,
      "outputs": []
    },
    {
      "cell_type": "code",
      "metadata": {
        "id": "i5cVrpkP43Uq"
      },
      "source": [
        ""
      ],
      "execution_count": null,
      "outputs": []
    },
    {
      "cell_type": "code",
      "metadata": {
        "id": "uWAIT1YZ5IPK"
      },
      "source": [
        ""
      ],
      "execution_count": null,
      "outputs": []
    },
    {
      "cell_type": "code",
      "metadata": {
        "id": "yyh8EaLW8BcK"
      },
      "source": [
        ""
      ],
      "execution_count": null,
      "outputs": []
    },
    {
      "cell_type": "code",
      "metadata": {
        "id": "6rOYltZx7mdM"
      },
      "source": [
        ""
      ],
      "execution_count": null,
      "outputs": []
    },
    {
      "cell_type": "markdown",
      "metadata": {
        "id": "63VKVU7xVKh0"
      },
      "source": [
        "## 베르누이 나이브 베이즈\n",
        "\n",
        "* 입력 특성이 베르누이 분포에 의해 생성된 이진 값을 갖는 다고 가정"
      ]
    },
    {
      "cell_type": "markdown",
      "metadata": {
        "id": "ukxegxdakI06"
      },
      "source": [
        "### 학습 및 평가 (Count)"
      ]
    },
    {
      "cell_type": "code",
      "metadata": {
        "id": "MY1gkbgZWPSy"
      },
      "source": [
        ""
      ],
      "execution_count": null,
      "outputs": []
    },
    {
      "cell_type": "code",
      "metadata": {
        "id": "cFFYkHXkgLgC"
      },
      "source": [
        ""
      ],
      "execution_count": null,
      "outputs": []
    },
    {
      "cell_type": "code",
      "metadata": {
        "id": "rtT6NPFAjfto"
      },
      "source": [
        ""
      ],
      "execution_count": null,
      "outputs": []
    },
    {
      "cell_type": "markdown",
      "metadata": {
        "id": "0TZnffru9JVK"
      },
      "source": [
        "### 학습 및 평가 (Hash)"
      ]
    },
    {
      "cell_type": "code",
      "metadata": {
        "id": "j_mVW1So9M0c"
      },
      "source": [
        ""
      ],
      "execution_count": null,
      "outputs": []
    },
    {
      "cell_type": "code",
      "metadata": {
        "id": "t8b4dNF39SC6"
      },
      "source": [
        ""
      ],
      "execution_count": null,
      "outputs": []
    },
    {
      "cell_type": "code",
      "metadata": {
        "id": "vpjYy1Pi9dxc"
      },
      "source": [
        ""
      ],
      "execution_count": null,
      "outputs": []
    },
    {
      "cell_type": "markdown",
      "metadata": {
        "id": "cTP0dYKlkOLR"
      },
      "source": [
        "### 학습 및 평가 (Tf-idf)"
      ]
    },
    {
      "cell_type": "code",
      "metadata": {
        "id": "A7TElQGCjMMb"
      },
      "source": [
        ""
      ],
      "execution_count": null,
      "outputs": []
    },
    {
      "cell_type": "code",
      "metadata": {
        "id": "q5XRlZVujO_x"
      },
      "source": [
        ""
      ],
      "execution_count": null,
      "outputs": []
    },
    {
      "cell_type": "code",
      "metadata": {
        "id": "rSFVn5ggjqgg"
      },
      "source": [
        ""
      ],
      "execution_count": null,
      "outputs": []
    },
    {
      "cell_type": "markdown",
      "metadata": {
        "id": "rCwhaAT1924_"
      },
      "source": [
        "### 시각화"
      ]
    },
    {
      "cell_type": "code",
      "metadata": {
        "id": "5yzCFaKy9-5u"
      },
      "source": [
        ""
      ],
      "execution_count": null,
      "outputs": []
    },
    {
      "cell_type": "code",
      "metadata": {
        "id": "Szx9XA-O9_qF"
      },
      "source": [
        ""
      ],
      "execution_count": null,
      "outputs": []
    },
    {
      "cell_type": "code",
      "metadata": {
        "id": "yQFM2BEU-Cv2"
      },
      "source": [
        ""
      ],
      "execution_count": null,
      "outputs": []
    },
    {
      "cell_type": "code",
      "metadata": {
        "id": "fEpjHMVf-HfD"
      },
      "source": [
        ""
      ],
      "execution_count": null,
      "outputs": []
    },
    {
      "cell_type": "markdown",
      "metadata": {
        "id": "zEyFa-B5XGrP"
      },
      "source": [
        "## 다항 나이브 베이즈\n",
        "\n",
        "* 입력 특성이 다항분포에 의해 생성된 빈도수 값을 갖는 다고 가정"
      ]
    },
    {
      "cell_type": "markdown",
      "metadata": {
        "id": "75lWu6PQlXpi"
      },
      "source": [
        "### 학습 및 평가 (Count)"
      ]
    },
    {
      "cell_type": "code",
      "metadata": {
        "id": "FRlaJMtNNLMC"
      },
      "source": [
        ""
      ],
      "execution_count": null,
      "outputs": []
    },
    {
      "cell_type": "code",
      "metadata": {
        "id": "TLS0R7q6UPt7"
      },
      "source": [
        ""
      ],
      "execution_count": null,
      "outputs": []
    },
    {
      "cell_type": "code",
      "metadata": {
        "id": "L_WeeHT0lRil"
      },
      "source": [
        ""
      ],
      "execution_count": null,
      "outputs": []
    },
    {
      "cell_type": "markdown",
      "metadata": {
        "id": "S77kYdhjly0t"
      },
      "source": [
        "### 학습 및 평가 (Tf-idf)"
      ]
    },
    {
      "cell_type": "code",
      "metadata": {
        "id": "CnFaY_MSlVMb"
      },
      "source": [
        ""
      ],
      "execution_count": null,
      "outputs": []
    },
    {
      "cell_type": "code",
      "metadata": {
        "id": "5jTi-ABxl32n"
      },
      "source": [
        ""
      ],
      "execution_count": null,
      "outputs": []
    },
    {
      "cell_type": "code",
      "metadata": {
        "id": "dUVdI3VDl51E"
      },
      "source": [
        ""
      ],
      "execution_count": null,
      "outputs": []
    },
    {
      "cell_type": "markdown",
      "metadata": {
        "id": "m1b9hGlLAu49"
      },
      "source": [
        "### 시각화"
      ]
    },
    {
      "cell_type": "code",
      "metadata": {
        "id": "m11zMDG7mL4m"
      },
      "source": [
        ""
      ],
      "execution_count": null,
      "outputs": []
    },
    {
      "cell_type": "code",
      "metadata": {
        "id": "OnhxioK8A6oP"
      },
      "source": [
        ""
      ],
      "execution_count": null,
      "outputs": []
    },
    {
      "cell_type": "code",
      "metadata": {
        "id": "2B7YDSg4A9EB"
      },
      "source": [
        ""
      ],
      "execution_count": null,
      "outputs": []
    },
    {
      "cell_type": "code",
      "metadata": {
        "id": "UbMChTaxBAyk"
      },
      "source": [
        ""
      ],
      "execution_count": null,
      "outputs": []
    }
  ]
}